{
 "metadata": {
  "language_info": {
   "codemirror_mode": {
    "name": "ipython",
    "version": 3
   },
   "file_extension": ".py",
   "mimetype": "text/x-python",
   "name": "python",
   "nbconvert_exporter": "python",
   "pygments_lexer": "ipython3",
   "version": "3.6.8"
  },
  "orig_nbformat": 2,
  "kernelspec": {
   "name": "python368jvsc74a57bd060aa7568c9db8113868ebef0220b161e96389b06f6ba9eb98d46b6b0f2cf6a72",
   "display_name": "Python 3.6.8 64-bit ('benchmark': conda)"
  }
 },
 "nbformat": 4,
 "nbformat_minor": 2,
 "cells": [
  {
   "cell_type": "code",
   "execution_count": 1,
   "metadata": {},
   "outputs": [],
   "source": [
    "import sys\n",
    "sys.path.append(\"../\") # go to parent dir"
   ]
  },
  {
   "cell_type": "code",
   "execution_count": 2,
   "metadata": {},
   "outputs": [],
   "source": [
    "import pandas as pd\n",
    "import sys\n",
    "import spacy\n",
    "import re\n",
    "import time\n",
    "import scispacy\n",
    "import glob\n",
    "import os\n",
    "from tqdm import tqdm\n",
    "tqdm.pandas()\n",
    "from note_processing.heuristic_tokenize import sent_tokenize_rules "
   ]
  },
  {
   "cell_type": "code",
   "execution_count": 3,
   "metadata": {},
   "outputs": [],
   "source": [
    "# OUTPUT_DIR = Currently same as the input directory\n",
    "\n",
    "#'/mnt/data01/mimic-3/benchmark-notes/train'\n",
    "MIMIC_NOTES_PATHS = ['/mnt/data01/mimic-3/benchmark-small/test', '/mnt/data01/mimic-3/benchmark-small/train']  \n",
    "\n",
    "DEVICE = 0  # -1 is CPU otherwise the GPU device id"
   ]
  },
  {
   "cell_type": "code",
   "execution_count": 12,
   "metadata": {},
   "outputs": [
    {
     "output_type": "stream",
     "name": "stderr",
     "text": [
      "Load note files:   0%|          | 15/38202 [00:00<04:20, 146.44it/s]\n",
      "Total note files: 38202\n",
      "Load note files: 100%|██████████| 38202/38202 [02:08<00:00, 298.39it/s]\n",
      "Total notes: 724976\n"
     ]
    }
   ],
   "source": [
    "all_files = []\n",
    "\n",
    "for path in MIMIC_NOTES_PATHS:\n",
    "    files = glob.glob(path + \"/*/*_notes_sent.csv\")\n",
    "    all_files += files\n",
    "\n",
    "print(f\"\\nTotal note files: {len(all_files)}\")\n",
    "\n",
    "li = []\n",
    "\n",
    "for filename in tqdm(all_files, desc=\"Load note files\"):\n",
    "    df = pd.read_csv(filename, index_col=None, header=0)\n",
    "    df[\"filename\"] = filename\n",
    "    li.append(df)\n",
    "\n",
    "notes = pd.concat(li, axis=0, ignore_index=True)\n",
    "notes.describe(include=\"all\")\n",
    "\n",
    "print(f\"Total notes: {len(notes)}\")\n"
   ]
  },
  {
   "cell_type": "code",
   "execution_count": 5,
   "metadata": {},
   "outputs": [],
   "source": [
    "# Add patient to the table\n",
    "notes[\"PATIENT_ID\"] = notes[\"filename\"].apply(lambda x: int(re.findall(r'/[0-9]+/', x)[-1][1:-1]))\n",
    "\n",
    "# Add episode to the table\n",
    "notes[\"EPISODE_ID\"] = notes[\"filename\"].apply(lambda x: int(re.findall(r'episode[0-9]+_', x)[-1][7:-1]))\n"
   ]
  },
  {
   "cell_type": "code",
   "execution_count": 6,
   "metadata": {},
   "outputs": [
    {
     "output_type": "execute_result",
     "data": {
      "text/plain": [
       "          Hours       CATEGORY DESCRIPTION  \\\n",
       "6730   9.737778  Nursing/other      Report   \n",
       "6731  21.637778  Nursing/other      Report   \n",
       "6732  23.021111  Nursing/other      Report   \n",
       "6733  31.871111  Nursing/other      Report   \n",
       "6734  47.037778  Nursing/other      Report   \n",
       "\n",
       "                                                   TEXT  \\\n",
       "6730  NARRATIVE NOTE: PT WAS ADM HERE FROM\\n[**Hospi...   \n",
       "6731  NPN Days 0700-1900\\nNeuro: Pt continues to exp...   \n",
       "6732  Addendum to Day note:\\nID: pt remains on Cefep...   \n",
       "6733  NPN 1900 -0700\\nNEURO: [**Last Name (un) 9599*...   \n",
       "6734  NPN Days 0700-\\n1900 Pt had extremely difficul...   \n",
       "\n",
       "                                               filename  PATIENT_ID  \\\n",
       "6730  /mnt/data01/mimic-3/benchmark-notes/test/26523...       26523   \n",
       "6731  /mnt/data01/mimic-3/benchmark-notes/test/26523...       26523   \n",
       "6732  /mnt/data01/mimic-3/benchmark-notes/test/26523...       26523   \n",
       "6733  /mnt/data01/mimic-3/benchmark-notes/test/26523...       26523   \n",
       "6734  /mnt/data01/mimic-3/benchmark-notes/test/26523...       26523   \n",
       "\n",
       "      EPISODE_ID  \n",
       "6730           7  \n",
       "6731           7  \n",
       "6732           7  \n",
       "6733           7  \n",
       "6734           7  "
      ],
      "text/html": "<div>\n<style scoped>\n    .dataframe tbody tr th:only-of-type {\n        vertical-align: middle;\n    }\n\n    .dataframe tbody tr th {\n        vertical-align: top;\n    }\n\n    .dataframe thead th {\n        text-align: right;\n    }\n</style>\n<table border=\"1\" class=\"dataframe\">\n  <thead>\n    <tr style=\"text-align: right;\">\n      <th></th>\n      <th>Hours</th>\n      <th>CATEGORY</th>\n      <th>DESCRIPTION</th>\n      <th>TEXT</th>\n      <th>filename</th>\n      <th>PATIENT_ID</th>\n      <th>EPISODE_ID</th>\n    </tr>\n  </thead>\n  <tbody>\n    <tr>\n      <th>6730</th>\n      <td>9.737778</td>\n      <td>Nursing/other</td>\n      <td>Report</td>\n      <td>NARRATIVE NOTE: PT WAS ADM HERE FROM\\n[**Hospi...</td>\n      <td>/mnt/data01/mimic-3/benchmark-notes/test/26523...</td>\n      <td>26523</td>\n      <td>7</td>\n    </tr>\n    <tr>\n      <th>6731</th>\n      <td>21.637778</td>\n      <td>Nursing/other</td>\n      <td>Report</td>\n      <td>NPN Days 0700-1900\\nNeuro: Pt continues to exp...</td>\n      <td>/mnt/data01/mimic-3/benchmark-notes/test/26523...</td>\n      <td>26523</td>\n      <td>7</td>\n    </tr>\n    <tr>\n      <th>6732</th>\n      <td>23.021111</td>\n      <td>Nursing/other</td>\n      <td>Report</td>\n      <td>Addendum to Day note:\\nID: pt remains on Cefep...</td>\n      <td>/mnt/data01/mimic-3/benchmark-notes/test/26523...</td>\n      <td>26523</td>\n      <td>7</td>\n    </tr>\n    <tr>\n      <th>6733</th>\n      <td>31.871111</td>\n      <td>Nursing/other</td>\n      <td>Report</td>\n      <td>NPN 1900 -0700\\nNEURO: [**Last Name (un) 9599*...</td>\n      <td>/mnt/data01/mimic-3/benchmark-notes/test/26523...</td>\n      <td>26523</td>\n      <td>7</td>\n    </tr>\n    <tr>\n      <th>6734</th>\n      <td>47.037778</td>\n      <td>Nursing/other</td>\n      <td>Report</td>\n      <td>NPN Days 0700-\\n1900 Pt had extremely difficul...</td>\n      <td>/mnt/data01/mimic-3/benchmark-notes/test/26523...</td>\n      <td>26523</td>\n      <td>7</td>\n    </tr>\n  </tbody>\n</table>\n</div>"
     },
     "metadata": {},
     "execution_count": 6
    }
   ],
   "source": [
    "notes[notes[\"EPISODE_ID\"] > 5].head(5)"
   ]
  },
  {
   "cell_type": "code",
   "execution_count": 13,
   "metadata": {},
   "outputs": [
    {
     "output_type": "execute_result",
     "data": {
      "text/plain": [
       "                   Hours\n",
       "                   count\n",
       "CATEGORY                \n",
       "Case Management      718\n",
       "Consult               69\n",
       "General             5892\n",
       "Nursing           160092\n",
       "Nursing/other     277772\n",
       "Nutrition           6458\n",
       "Pharmacy              68\n",
       "Physician         101678\n",
       "Radiology         144810\n",
       "Rehab Services      3643\n",
       "Respiratory        21867\n",
       "Social Work         1909"
      ],
      "text/html": "<div>\n<style scoped>\n    .dataframe tbody tr th:only-of-type {\n        vertical-align: middle;\n    }\n\n    .dataframe tbody tr th {\n        vertical-align: top;\n    }\n\n    .dataframe thead tr th {\n        text-align: left;\n    }\n\n    .dataframe thead tr:last-of-type th {\n        text-align: right;\n    }\n</style>\n<table border=\"1\" class=\"dataframe\">\n  <thead>\n    <tr>\n      <th></th>\n      <th>Hours</th>\n    </tr>\n    <tr>\n      <th></th>\n      <th>count</th>\n    </tr>\n    <tr>\n      <th>CATEGORY</th>\n      <th></th>\n    </tr>\n  </thead>\n  <tbody>\n    <tr>\n      <th>Case Management</th>\n      <td>718</td>\n    </tr>\n    <tr>\n      <th>Consult</th>\n      <td>69</td>\n    </tr>\n    <tr>\n      <th>General</th>\n      <td>5892</td>\n    </tr>\n    <tr>\n      <th>Nursing</th>\n      <td>160092</td>\n    </tr>\n    <tr>\n      <th>Nursing/other</th>\n      <td>277772</td>\n    </tr>\n    <tr>\n      <th>Nutrition</th>\n      <td>6458</td>\n    </tr>\n    <tr>\n      <th>Pharmacy</th>\n      <td>68</td>\n    </tr>\n    <tr>\n      <th>Physician</th>\n      <td>101678</td>\n    </tr>\n    <tr>\n      <th>Radiology</th>\n      <td>144810</td>\n    </tr>\n    <tr>\n      <th>Rehab Services</th>\n      <td>3643</td>\n    </tr>\n    <tr>\n      <th>Respiratory</th>\n      <td>21867</td>\n    </tr>\n    <tr>\n      <th>Social Work</th>\n      <td>1909</td>\n    </tr>\n  </tbody>\n</table>\n</div>"
     },
     "metadata": {},
     "execution_count": 13
    }
   ],
   "source": [
    "notes[[\"Hours\", \"CATEGORY\"]].groupby(\"CATEGORY\").agg(['count'])"
   ]
  },
  {
   "cell_type": "code",
   "execution_count": 14,
   "metadata": {
    "tags": []
   },
   "outputs": [
    {
     "output_type": "stream",
     "name": "stdout",
     "text": [
      "Number of notes: 582674\n"
     ]
    }
   ],
   "source": [
    "# Restrict the number of notes for processing\n",
    "\n",
    "category = [\"Nursing\", \"Nursing/other\", \"Radiology\"]  # or None\n",
    "# category = [\"Nursing/other\"]  # or None\n",
    "#category = None\n",
    "\n",
    "if category != None:\n",
    "    notes = notes[notes['CATEGORY'].isin(category)]\n",
    "\n",
    "print('Number of notes: %d' %len(notes.index))\n",
    "\n",
    "# nlp = spacy.load('en_core_sci_md', disable=['tagger','ner', 'lemmatizer'])\n",
    "# nlp.add_pipe('sbd_component', before='parser')  "
   ]
  },
  {
   "cell_type": "code",
   "execution_count": 15,
   "metadata": {},
   "outputs": [
    {
     "output_type": "execute_result",
     "data": {
      "text/plain": [
       "                Hours\n",
       "                count\n",
       "CATEGORY             \n",
       "Nursing        160092\n",
       "Nursing/other  277772\n",
       "Radiology      144810"
      ],
      "text/html": "<div>\n<style scoped>\n    .dataframe tbody tr th:only-of-type {\n        vertical-align: middle;\n    }\n\n    .dataframe tbody tr th {\n        vertical-align: top;\n    }\n\n    .dataframe thead tr th {\n        text-align: left;\n    }\n\n    .dataframe thead tr:last-of-type th {\n        text-align: right;\n    }\n</style>\n<table border=\"1\" class=\"dataframe\">\n  <thead>\n    <tr>\n      <th></th>\n      <th>Hours</th>\n    </tr>\n    <tr>\n      <th></th>\n      <th>count</th>\n    </tr>\n    <tr>\n      <th>CATEGORY</th>\n      <th></th>\n    </tr>\n  </thead>\n  <tbody>\n    <tr>\n      <th>Nursing</th>\n      <td>160092</td>\n    </tr>\n    <tr>\n      <th>Nursing/other</th>\n      <td>277772</td>\n    </tr>\n    <tr>\n      <th>Radiology</th>\n      <td>144810</td>\n    </tr>\n  </tbody>\n</table>\n</div>"
     },
     "metadata": {},
     "execution_count": 15
    }
   ],
   "source": [
    "notes[[\"Hours\", \"CATEGORY\"]].groupby(\"CATEGORY\").agg(['count'])"
   ]
  },
  {
   "cell_type": "code",
   "execution_count": 17,
   "metadata": {},
   "outputs": [
    {
     "output_type": "execute_result",
     "data": {
      "text/plain": [
       "38196"
      ]
     },
     "metadata": {},
     "execution_count": 17
    }
   ],
   "source": [
    "len(notes[\"filename\"].unique())"
   ]
  },
  {
   "cell_type": "code",
   "execution_count": 10,
   "metadata": {},
   "outputs": [],
   "source": [
    "# Load the pre-trained Bio_ClinicalBERT model\n",
    "from transformers import AutoTokenizer, AutoModel\n",
    "tokenizer = AutoTokenizer.from_pretrained(\"emilyalsentzer/Bio_ClinicalBERT\")\n",
    "model = AutoModel.from_pretrained(\"emilyalsentzer/Bio_ClinicalBERT\")\n"
   ]
  },
  {
   "cell_type": "code",
   "execution_count": 11,
   "metadata": {},
   "outputs": [],
   "source": [
    "# Don't bother trying to run the pipeline without a GPU\n",
    "import numpy as np\n",
    "from transformers import pipeline\n",
    "pipe = pipeline('feature-extraction', model=model, \n",
    "                tokenizer=tokenizer, device=DEVICE)"
   ]
  },
  {
   "cell_type": "code",
   "execution_count": 12,
   "metadata": {},
   "outputs": [
    {
     "output_type": "stream",
     "name": "stdout",
     "text": [
      "1.8.1+cu102\n0\n10020 cuda compiled version\n10.2\n"
     ]
    }
   ],
   "source": [
    "import torch \n",
    "print(torch.__version__)\n",
    "print(torch.cuda.current_device())\n",
    "print(torch._C._cuda_getCompiledVersion(), 'cuda compiled version')\n",
    "print(torch.version.cuda)"
   ]
  },
  {
   "cell_type": "code",
   "execution_count": 13,
   "metadata": {},
   "outputs": [
    {
     "output_type": "execute_result",
     "data": {
      "text/plain": [
       "array([[-0.03993205,  0.28045323, -0.22612181, ..., -0.36056092,\n",
       "         0.02098004, -0.07117239],\n",
       "       [ 0.26059031,  0.28010419, -0.19884732, ..., -0.41535112,\n",
       "         0.55648196, -0.36985236]])"
      ]
     },
     "metadata": {},
     "execution_count": 13
    }
   ],
   "source": [
    "features = pipe(['Respiratory CAre Pt received from ED intubated for airway protection.And then another sentenc',\n",
    "                  'Coughing and gagging with Sx, swallowing frequently with irritation of ETT.']  ,\n",
    "                pad_to_max_length=True)\n",
    "features = np.squeeze(features)\n",
    "features = features[:,0,:]\n",
    "features"
   ]
  },
  {
   "cell_type": "code",
   "execution_count": 14,
   "metadata": {},
   "outputs": [],
   "source": [
    "def shorten_text(sent, _max=100):\n",
    "    max = _max\n",
    "    tokens = sent.split()\n",
    "    if len(tokens) < max:\n",
    "        ret = sent\n",
    "    else:\n",
    "        tokens = tokens[:max]\n",
    "        ret =  \" \".join(tokens)\n",
    "        # print(f\"shorten to: {ret}\")\n",
    "\n",
    "    return ret\n",
    "\n",
    "\n",
    "def get_embeddings(text, pipe, max_sents=200, max_len=100):\n",
    "    sents = text.split('\\n')[:-1]\n",
    "    before_len = len(sents)\n",
    "    sents = [x for x in sents if len(x.split()) > 1]\n",
    "    sents = list(map(lambda x: shorten_text(x, max_len), sents))\n",
    "    sents = sents[:max_sents]\n",
    "    if len(sents) == 0:\n",
    "        return None\n",
    "    if len(sents) == 1:\n",
    "        sents.append(\"books are open\")\n",
    "\n",
    "    while True:\n",
    "        try:\n",
    "            sent_features = pipe(sents ,pad_to_max_length=True)\n",
    "        except BaseException as e:\n",
    "            print(\"\\nError in get_embeddings()\")\n",
    "            print('# of sentences: '+ str(len(sents)))\n",
    "            sent_len = [len(x) for x in sents]\n",
    "            print(sent_len)\n",
    "            sent_features = None\n",
    "            break\n",
    "        break\n",
    "\n",
    "    if sent_features is not None:\n",
    "        try:\n",
    "            sent_features = np.squeeze(sent_features)[:,0,:]\n",
    "        except BaseException as e:\n",
    "            print(f\"Error squeezing sent_features - {e} - {len(sent_features)}-{len(sent_features[0])}\")\n",
    "            print('# of sentences: '+ str(len(sents)))\n",
    "            sent_features = None\n",
    "    \n",
    "    return sent_features"
   ]
  },
  {
   "cell_type": "code",
   "execution_count": 15,
   "metadata": {
    "tags": []
   },
   "outputs": [
    {
     "output_type": "stream",
     "name": "stderr",
     "text": [
      "100%|██████████| 500/500 [01:11<00:00,  7.03it/s]\n"
     ]
    }
   ],
   "source": [
    "notes[\"bert_embeddings\"] = notes[\"TEXT\"].iloc[:20].progress_apply(get_embeddings, args=(pipe,40,40))\n"
   ]
  },
  {
   "cell_type": "code",
   "execution_count": 15,
   "metadata": {},
   "outputs": [
    {
     "output_type": "stream",
     "name": "stdout",
     "text": [
      "(11, 768)\n(11, 768)\n(11, 768)\n(7, 768)\n(40, 768)\n(17, 768)\n(5, 768)\n(40, 768)\n(40, 768)\n(39, 768)\n"
     ]
    }
   ],
   "source": [
    "for i in range(10):\n",
    "    print(notes[\"bert_embeddings\"].iloc[i].shape)"
   ]
  },
  {
   "cell_type": "code",
   "execution_count": 16,
   "metadata": {},
   "outputs": [
    {
     "output_type": "execute_result",
     "data": {
      "text/plain": [
       "              Hours CATEGORY            DESCRIPTION  \\\n",
       "count   1126.000000     1126                   1126   \n",
       "unique          NaN       10                     63   \n",
       "top             NaN  Nursing  Nursing Progress Note   \n",
       "freq            NaN      502                    391   \n",
       "mean      94.009515      NaN                    NaN   \n",
       "std      122.909907      NaN                    NaN   \n",
       "min        0.201111      NaN                    NaN   \n",
       "25%       15.973056      NaN                    NaN   \n",
       "50%       38.878333      NaN                    NaN   \n",
       "75%      110.511389      NaN                    NaN   \n",
       "max      545.461667      NaN                    NaN   \n",
       "\n",
       "                                                     TEXT  \\\n",
       "count                                                1126   \n",
       "unique                                               1046   \n",
       "top     68 yo F with extensive PMH: MI x 3; 70 % occlu...   \n",
       "freq                                                    7   \n",
       "mean                                                  NaN   \n",
       "std                                                   NaN   \n",
       "min                                                   NaN   \n",
       "25%                                                   NaN   \n",
       "50%                                                   NaN   \n",
       "75%                                                   NaN   \n",
       "max                                                   NaN   \n",
       "\n",
       "                                                 filename   PATIENT_ID  \\\n",
       "count                                                1126  1126.000000   \n",
       "unique                                                 41          NaN   \n",
       "top     /mnt/data01/mimic-3/benchmark-small/train/124/...          NaN   \n",
       "freq                                                  226          NaN   \n",
       "mean                                                  NaN   170.079041   \n",
       "std                                                   NaN    93.233613   \n",
       "min                                                   NaN    23.000000   \n",
       "25%                                                   NaN   109.000000   \n",
       "50%                                                   NaN   124.000000   \n",
       "75%                                                   NaN   199.000000   \n",
       "max                                                   NaN   357.000000   \n",
       "\n",
       "         EPISODE_ID                                    bert_embeddings  \n",
       "count   1126.000000                                               1087  \n",
       "unique          NaN                                               1087  \n",
       "top             NaN  [[-0.023288611322641373, 0.2220444232225418, -...  \n",
       "freq            NaN                                                  1  \n",
       "mean       8.966252                                                NaN  \n",
       "std        7.733145                                                NaN  \n",
       "min        1.000000                                                NaN  \n",
       "25%        3.000000                                                NaN  \n",
       "50%        4.000000                                                NaN  \n",
       "75%       15.000000                                                NaN  \n",
       "max       28.000000                                                NaN  "
      ],
      "text/html": "<div>\n<style scoped>\n    .dataframe tbody tr th:only-of-type {\n        vertical-align: middle;\n    }\n\n    .dataframe tbody tr th {\n        vertical-align: top;\n    }\n\n    .dataframe thead th {\n        text-align: right;\n    }\n</style>\n<table border=\"1\" class=\"dataframe\">\n  <thead>\n    <tr style=\"text-align: right;\">\n      <th></th>\n      <th>Hours</th>\n      <th>CATEGORY</th>\n      <th>DESCRIPTION</th>\n      <th>TEXT</th>\n      <th>filename</th>\n      <th>PATIENT_ID</th>\n      <th>EPISODE_ID</th>\n      <th>bert_embeddings</th>\n    </tr>\n  </thead>\n  <tbody>\n    <tr>\n      <th>count</th>\n      <td>1126.000000</td>\n      <td>1126</td>\n      <td>1126</td>\n      <td>1126</td>\n      <td>1126</td>\n      <td>1126.000000</td>\n      <td>1126.000000</td>\n      <td>1087</td>\n    </tr>\n    <tr>\n      <th>unique</th>\n      <td>NaN</td>\n      <td>10</td>\n      <td>63</td>\n      <td>1046</td>\n      <td>41</td>\n      <td>NaN</td>\n      <td>NaN</td>\n      <td>1087</td>\n    </tr>\n    <tr>\n      <th>top</th>\n      <td>NaN</td>\n      <td>Nursing</td>\n      <td>Nursing Progress Note</td>\n      <td>68 yo F with extensive PMH: MI x 3; 70 % occlu...</td>\n      <td>/mnt/data01/mimic-3/benchmark-small/train/124/...</td>\n      <td>NaN</td>\n      <td>NaN</td>\n      <td>[[-0.023288611322641373, 0.2220444232225418, -...</td>\n    </tr>\n    <tr>\n      <th>freq</th>\n      <td>NaN</td>\n      <td>502</td>\n      <td>391</td>\n      <td>7</td>\n      <td>226</td>\n      <td>NaN</td>\n      <td>NaN</td>\n      <td>1</td>\n    </tr>\n    <tr>\n      <th>mean</th>\n      <td>94.009515</td>\n      <td>NaN</td>\n      <td>NaN</td>\n      <td>NaN</td>\n      <td>NaN</td>\n      <td>170.079041</td>\n      <td>8.966252</td>\n      <td>NaN</td>\n    </tr>\n    <tr>\n      <th>std</th>\n      <td>122.909907</td>\n      <td>NaN</td>\n      <td>NaN</td>\n      <td>NaN</td>\n      <td>NaN</td>\n      <td>93.233613</td>\n      <td>7.733145</td>\n      <td>NaN</td>\n    </tr>\n    <tr>\n      <th>min</th>\n      <td>0.201111</td>\n      <td>NaN</td>\n      <td>NaN</td>\n      <td>NaN</td>\n      <td>NaN</td>\n      <td>23.000000</td>\n      <td>1.000000</td>\n      <td>NaN</td>\n    </tr>\n    <tr>\n      <th>25%</th>\n      <td>15.973056</td>\n      <td>NaN</td>\n      <td>NaN</td>\n      <td>NaN</td>\n      <td>NaN</td>\n      <td>109.000000</td>\n      <td>3.000000</td>\n      <td>NaN</td>\n    </tr>\n    <tr>\n      <th>50%</th>\n      <td>38.878333</td>\n      <td>NaN</td>\n      <td>NaN</td>\n      <td>NaN</td>\n      <td>NaN</td>\n      <td>124.000000</td>\n      <td>4.000000</td>\n      <td>NaN</td>\n    </tr>\n    <tr>\n      <th>75%</th>\n      <td>110.511389</td>\n      <td>NaN</td>\n      <td>NaN</td>\n      <td>NaN</td>\n      <td>NaN</td>\n      <td>199.000000</td>\n      <td>15.000000</td>\n      <td>NaN</td>\n    </tr>\n    <tr>\n      <th>max</th>\n      <td>545.461667</td>\n      <td>NaN</td>\n      <td>NaN</td>\n      <td>NaN</td>\n      <td>NaN</td>\n      <td>357.000000</td>\n      <td>28.000000</td>\n      <td>NaN</td>\n    </tr>\n  </tbody>\n</table>\n</div>"
     },
     "metadata": {},
     "execution_count": 16
    }
   ],
   "source": [
    "notes.describe(include=\"all\")"
   ]
  },
  {
   "cell_type": "code",
   "execution_count": 17,
   "metadata": {},
   "outputs": [
    {
     "output_type": "execute_result",
     "data": {
      "text/plain": [
       "      Hours   CATEGORY          DESCRIPTION  \\\n",
       "0  0.201111  Radiology  CHEST (PORTABLE AP)   \n",
       "\n",
       "                                                TEXT  \\\n",
       "0  [**2169-5-21**]\\n10:17 PM  CHEST (PORTABLE AP)...   \n",
       "\n",
       "                                            filename  PATIENT_ID  EPISODE_ID  \\\n",
       "0  /mnt/data01/mimic-3/benchmark-small/test/345/e...         345           1   \n",
       "\n",
       "                                     bert_embeddings  \n",
       "0  [[0.23861932754516602, 0.09987486153841019, 0....  "
      ],
      "text/html": "<div>\n<style scoped>\n    .dataframe tbody tr th:only-of-type {\n        vertical-align: middle;\n    }\n\n    .dataframe tbody tr th {\n        vertical-align: top;\n    }\n\n    .dataframe thead th {\n        text-align: right;\n    }\n</style>\n<table border=\"1\" class=\"dataframe\">\n  <thead>\n    <tr style=\"text-align: right;\">\n      <th></th>\n      <th>Hours</th>\n      <th>CATEGORY</th>\n      <th>DESCRIPTION</th>\n      <th>TEXT</th>\n      <th>filename</th>\n      <th>PATIENT_ID</th>\n      <th>EPISODE_ID</th>\n      <th>bert_embeddings</th>\n    </tr>\n  </thead>\n  <tbody>\n    <tr>\n      <th>0</th>\n      <td>0.201111</td>\n      <td>Radiology</td>\n      <td>CHEST (PORTABLE AP)</td>\n      <td>[**2169-5-21**]\\n10:17 PM  CHEST (PORTABLE AP)...</td>\n      <td>/mnt/data01/mimic-3/benchmark-small/test/345/e...</td>\n      <td>345</td>\n      <td>1</td>\n      <td>[[0.23861932754516602, 0.09987486153841019, 0....</td>\n    </tr>\n  </tbody>\n</table>\n</div>"
     },
     "metadata": {},
     "execution_count": 17
    }
   ],
   "source": [
    "notes.head(1)"
   ]
  },
  {
   "cell_type": "code",
   "execution_count": 19,
   "metadata": {},
   "outputs": [],
   "source": [
    "notes[\"bert_embeddings\"].apply(lambda x: x.tolist() if x is not None else [[]], inplace=True)"
   ]
  },
  {
   "cell_type": "code",
   "execution_count": 20,
   "metadata": {},
   "outputs": [
    {
     "output_type": "execute_result",
     "data": {
      "text/plain": [
       "list"
      ]
     },
     "metadata": {},
     "execution_count": 20
    }
   ],
   "source": [
    "type(notes[\"bert_embeddings_list\"].iloc[0])"
   ]
  },
  {
   "cell_type": "code",
   "execution_count": 21,
   "metadata": {},
   "outputs": [
    {
     "output_type": "stream",
     "name": "stderr",
     "text": [
      "Getting array sizes: 100%|██████████| 41/41 [00:00<00:00, 569.33it/s]19 notes use 4544 bytes of memory\n",
      "8 notes use 1640 bytes of memory\n",
      "226 notes use 56136 bytes of memory\n",
      "2 notes use 464 bytes of memory\n",
      "166 notes use 39304 bytes of memory\n",
      "2 notes use 328 bytes of memory\n",
      "1 notes use 152 bytes of memory\n",
      "2 notes use 376 bytes of memory\n",
      "39 notes use 9040 bytes of memory\n",
      "19 notes use 6168 bytes of memory\n",
      "4 notes use 728 bytes of memory\n",
      "46 notes use 12216 bytes of memory\n",
      "2 notes use 456 bytes of memory\n",
      "12 notes use 2832 bytes of memory\n",
      "30 notes use 6480 bytes of memory\n",
      "7 notes use 1704 bytes of memory\n",
      "31 notes use 6576 bytes of memory\n",
      "14 notes use 4312 bytes of memory\n",
      "22 notes use 5496 bytes of memory\n",
      "14 notes use 4008 bytes of memory\n",
      "29 notes use 9952 bytes of memory\n",
      "29 notes use 7968 bytes of memory\n",
      "49 notes use 11512 bytes of memory\n",
      "15 notes use 5032 bytes of memory\n",
      "26 notes use 7136 bytes of memory\n",
      "14 notes use 3792 bytes of memory\n",
      "18 notes use 5968 bytes of memory\n",
      "27 notes use 7104 bytes of memory\n",
      "2 notes use 240 bytes of memory\n",
      "3 notes use 824 bytes of memory\n",
      "59 notes use 19512 bytes of memory\n",
      "20 notes use 4760 bytes of memory\n",
      "11 notes use 2200 bytes of memory\n",
      "5 notes use 1168 bytes of memory\n",
      "25 notes use 8200 bytes of memory\n",
      "42 notes use 12984 bytes of memory\n",
      "10 notes use 2240 bytes of memory\n",
      "17 notes use 5256 bytes of memory\n",
      "29 notes use 7688 bytes of memory\n",
      "26 notes use 6600 bytes of memory\n",
      "4 notes use 760 bytes of memory\n",
      "\n"
     ]
    }
   ],
   "source": [
    "# df.memory_usage(index=False, deep=True)\n",
    "\n",
    "# filenames = list(notes[\"filename\"].unique().tolist())\n",
    "# for filename in tqdm(filenames, desc=\"Getting array sizes\"):\n",
    "#     df = notes[notes[\"filename\"] == filename][[\"Hours\", \"CATEGORY\", \"DESCRIPTION\", \"bert_embeddings\", \"bert_embeddings_list\"]]\n",
    "#     size = 0\n",
    "#     note_num = 0\n",
    "#     for i in range(len(df)):\n",
    "#         array = df[\"bert_embeddings_list\"].iloc[i]\n",
    "#         size += sys.getsizeof(array)\n",
    "#         note_num += 1\n",
    "\n",
    "#     print(f\"{note_num} notes use {size} bytes of memory\")"
   ]
  },
  {
   "cell_type": "code",
   "execution_count": 22,
   "metadata": {},
   "outputs": [
    {
     "output_type": "stream",
     "name": "stderr",
     "text": [
      "Writing embedding files: 100%|██████████| 41/41 [00:02<00:00, 19.08it/s]\n"
     ]
    }
   ],
   "source": [
    "# Write out a new notes file with the embeddings\n",
    "# aflanders: This is going to take too long and take up too much space\n",
    "# The embeddings will be longer than the notes themselves. Each patient/episode\n",
    "# can go from 500Kb to 18Mb\n",
    "\n",
    "# np.set_printoptions(threshold=sys.maxsize)\n",
    "\n",
    "filenames = list(notes[\"filename\"].unique().tolist())\n",
    "for filename in tqdm(filenames, desc=\"Writing embedding files\"):\n",
    "    df = notes[notes[\"filename\"] == filename][[\"Hours\", \"CATEGORY\", \"DESCRIPTION\", \"bert_embeddings_list\"]]\n",
    "    df = df.set_index(\"Hours\")\n",
    "    write_file = filename.replace(\"_notes_sent.csv\", \"_notes_bert.parquet\")\n",
    "    df.to_parquet(write_file)\n",
    "    # with open(write_file, \"w\") as f:\n",
    "        # df.to_parquet(f)"
   ]
  },
  {
   "cell_type": "code",
   "execution_count": 23,
   "metadata": {},
   "outputs": [
    {
     "output_type": "stream",
     "name": "stdout",
     "text": [
      "/mnt/data01/mimic-3/benchmark-small/train/236/episode3_notes_bert.parquet\n"
     ]
    },
    {
     "output_type": "execute_result",
     "data": {
      "text/plain": [
       "            CATEGORY            DESCRIPTION  \\\n",
       "Hours                                         \n",
       "1.911111   Radiology    CHEST (PORTABLE AP)   \n",
       "12.394444  Radiology    CHEST (PORTABLE AP)   \n",
       "15.127778  Radiology  BILAT LOWER EXT VEINS   \n",
       "36.261111  Radiology    CHEST (PORTABLE AP)   \n",
       "\n",
       "                                        bert_embeddings_list  \n",
       "Hours                                                         \n",
       "1.911111   [[0.2817820608615875, 0.08223862946033478, 0.0...  \n",
       "12.394444  [[0.23562118411064148, 0.04398752748966217, 0....  \n",
       "15.127778  [[0.8676698207855225, 0.1013529971241951, -0.2...  \n",
       "36.261111  [[0.313865065574646, 0.09958796948194504, 0.01...  "
      ],
      "text/html": "<div>\n<style scoped>\n    .dataframe tbody tr th:only-of-type {\n        vertical-align: middle;\n    }\n\n    .dataframe tbody tr th {\n        vertical-align: top;\n    }\n\n    .dataframe thead th {\n        text-align: right;\n    }\n</style>\n<table border=\"1\" class=\"dataframe\">\n  <thead>\n    <tr style=\"text-align: right;\">\n      <th></th>\n      <th>CATEGORY</th>\n      <th>DESCRIPTION</th>\n      <th>bert_embeddings_list</th>\n    </tr>\n    <tr>\n      <th>Hours</th>\n      <th></th>\n      <th></th>\n      <th></th>\n    </tr>\n  </thead>\n  <tbody>\n    <tr>\n      <th>1.911111</th>\n      <td>Radiology</td>\n      <td>CHEST (PORTABLE AP)</td>\n      <td>[[0.2817820608615875, 0.08223862946033478, 0.0...</td>\n    </tr>\n    <tr>\n      <th>12.394444</th>\n      <td>Radiology</td>\n      <td>CHEST (PORTABLE AP)</td>\n      <td>[[0.23562118411064148, 0.04398752748966217, 0....</td>\n    </tr>\n    <tr>\n      <th>15.127778</th>\n      <td>Radiology</td>\n      <td>BILAT LOWER EXT VEINS</td>\n      <td>[[0.8676698207855225, 0.1013529971241951, -0.2...</td>\n    </tr>\n    <tr>\n      <th>36.261111</th>\n      <td>Radiology</td>\n      <td>CHEST (PORTABLE AP)</td>\n      <td>[[0.313865065574646, 0.09958796948194504, 0.01...</td>\n    </tr>\n  </tbody>\n</table>\n</div>"
     },
     "metadata": {},
     "execution_count": 23
    }
   ],
   "source": [
    "df = pd.read_parquet(write_file)\n",
    "print(write_file)\n",
    "df.head()"
   ]
  },
  {
   "cell_type": "code",
   "execution_count": 6,
   "metadata": {},
   "outputs": [
    {
     "output_type": "stream",
     "name": "stdout",
     "text": [
      "/mnt/data01/mimic-3/benchmark-notes/test/18837/episode1_notes_bert.parquet\n                CATEGORY DESCRIPTION  \\\nHours                                  \n4.333611   Nursing/other      Report   \n4.333611   Nursing/other      Report   \n13.450278  Nursing/other      Report   \n16.800278  Nursing/other      Report   \n29.583611  Nursing/other      Report   \n37.050278  Nursing/other      Report   \n52.150278  Nursing/other      Report   \n\n                                              TEXT_EMBEDDING  \nHours                                                         \n4.333611   [[0.4113909602165222, -0.0024229122791439295, ...  \n4.333611   [[0.4113907516002655, -0.0024226978421211243, ...  \n13.450278  [[0.389478474855423, 0.3938528895378113, -0.33...  \n16.800278  [[0.13043050467967987, 0.25680139660835266, -0...  \n29.583611  [[0.28871020674705505, 0.03684448078274727, -0...  \n37.050278  [[0.3756024241447449, 0.11487705260515213, -0....  \n52.150278  [[0.5176007747650146, 0.09944368153810501, -0....  \n             CATEGORY DESCRIPTION  \\\ncount               7           7   \nunique              1           1   \ntop     Nursing/other      Report   \nfreq                7           7   \n\n                                           TEXT_EMBEDDING  \ncount                                                   7  \nunique                                                  7  \ntop     [[0.3756024241447449, 0.11487705260515213, -0....  \nfreq                                                    1  \n"
     ]
    }
   ],
   "source": [
    "import pandas as pd\n",
    "filename = \"/mnt/data01/mimic-3/benchmark-notes/test/18837/episode1_notes_bert.parquet\"\n",
    "df = pd.read_parquet(filename)\n",
    "print(filename)\n",
    "print(df.head(20))\n",
    "print(df.describe(include=\"all\"))"
   ]
  },
  {
   "cell_type": "code",
   "execution_count": 8,
   "metadata": {},
   "outputs": [
    {
     "output_type": "execute_result",
     "data": {
      "text/plain": [
       "1739"
      ]
     },
     "metadata": {},
     "execution_count": 8
    }
   ],
   "source": [
    "from sys import getsizeof\n",
    "getsizeof(df)\n",
    "getsizeof"
   ]
  },
  {
   "cell_type": "code",
   "execution_count": 26,
   "metadata": {},
   "outputs": [
    {
     "output_type": "stream",
     "name": "stderr",
     "text": [
      "Load note files: 100%|██████████| 950/950 [00:00<00:00, 249598.40it/s]\n",
      "Total note files: 950\n",
      "Total notes: 950\n",
      "\n"
     ]
    },
    {
     "output_type": "execute_result",
     "data": {
      "text/plain": [
       "                                                        0             1\n",
       "count                                                 950  9.500000e+02\n",
       "unique                                                950           NaN\n",
       "top     /mnt/data01/mimic-3/benchmark-notes/test/20181...           NaN\n",
       "freq                                                    1           NaN\n",
       "mean                                                  NaN  1.434428e+06\n",
       "std                                                   NaN  2.022282e+06\n",
       "min                                                   NaN  1.534300e+04\n",
       "25%                                                   NaN  4.392540e+05\n",
       "50%                                                   NaN  8.442175e+05\n",
       "75%                                                   NaN  1.588990e+06\n",
       "max                                                   NaN  2.921244e+07"
      ],
      "text/html": "<div>\n<style scoped>\n    .dataframe tbody tr th:only-of-type {\n        vertical-align: middle;\n    }\n\n    .dataframe tbody tr th {\n        vertical-align: top;\n    }\n\n    .dataframe thead th {\n        text-align: right;\n    }\n</style>\n<table border=\"1\" class=\"dataframe\">\n  <thead>\n    <tr style=\"text-align: right;\">\n      <th></th>\n      <th>0</th>\n      <th>1</th>\n    </tr>\n  </thead>\n  <tbody>\n    <tr>\n      <th>count</th>\n      <td>950</td>\n      <td>9.500000e+02</td>\n    </tr>\n    <tr>\n      <th>unique</th>\n      <td>950</td>\n      <td>NaN</td>\n    </tr>\n    <tr>\n      <th>top</th>\n      <td>/mnt/data01/mimic-3/benchmark-notes/test/20181...</td>\n      <td>NaN</td>\n    </tr>\n    <tr>\n      <th>freq</th>\n      <td>1</td>\n      <td>NaN</td>\n    </tr>\n    <tr>\n      <th>mean</th>\n      <td>NaN</td>\n      <td>1.434428e+06</td>\n    </tr>\n    <tr>\n      <th>std</th>\n      <td>NaN</td>\n      <td>2.022282e+06</td>\n    </tr>\n    <tr>\n      <th>min</th>\n      <td>NaN</td>\n      <td>1.534300e+04</td>\n    </tr>\n    <tr>\n      <th>25%</th>\n      <td>NaN</td>\n      <td>4.392540e+05</td>\n    </tr>\n    <tr>\n      <th>50%</th>\n      <td>NaN</td>\n      <td>8.442175e+05</td>\n    </tr>\n    <tr>\n      <th>75%</th>\n      <td>NaN</td>\n      <td>1.588990e+06</td>\n    </tr>\n    <tr>\n      <th>max</th>\n      <td>NaN</td>\n      <td>2.921244e+07</td>\n    </tr>\n  </tbody>\n</table>\n</div>"
     },
     "metadata": {},
     "execution_count": 26
    }
   ],
   "source": [
    "all_files = []\n",
    "\n",
    "for path in MIMIC_NOTES_PATHS:\n",
    "    files = glob.glob(path + \"/*/*_notes_bert.parquet\")\n",
    "    all_files += files\n",
    "\n",
    "print(f\"\\nTotal note files: {len(all_files)}\")\n",
    "\n",
    "li = []\n",
    "\n",
    "for filename in tqdm(all_files, desc=\"Load note files\"):\n",
    "    li.append((filename, os.path.getsize(filename)))\n",
    "\n",
    "file_sizes = pd.DataFrame(li)\n",
    "file_sizes.describe(include=\"all\")\n",
    "\n",
    "print(f\"Total notes: {len(file_sizes)}\")\n",
    "\n",
    "file_sizes.describe(include=\"all\")"
   ]
  },
  {
   "cell_type": "code",
   "execution_count": null,
   "metadata": {},
   "outputs": [],
   "source": []
  }
 ]
}