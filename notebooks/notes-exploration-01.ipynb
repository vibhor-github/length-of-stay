{
 "metadata": {
  "language_info": {
   "codemirror_mode": {
    "name": "ipython",
    "version": 3
   },
   "file_extension": ".py",
   "mimetype": "text/x-python",
   "name": "python",
   "nbconvert_exporter": "python",
   "pygments_lexer": "ipython3",
   "version": "3.6.8"
  },
  "orig_nbformat": 2,
  "kernelspec": {
   "name": "python368jvsc74a57bd060aa7568c9db8113868ebef0220b161e96389b06f6ba9eb98d46b6b0f2cf6a72",
   "display_name": "Python 3.6.8 64-bit"
  },
  "metadata": {
   "interpreter": {
    "hash": "ff88db401d72825ab8dbbeac235a43badbd84e74e7c38590f07997d87334a43c"
   }
  }
 },
 "nbformat": 4,
 "nbformat_minor": 2,
 "cells": [
  {
   "cell_type": "code",
   "execution_count": 1,
   "metadata": {},
   "outputs": [],
   "source": [
    "import pandas as pd\n",
    "import numpy as np\n",
    "DATAPATH = \"/mnt/data01/mimic-3/csv/\"\n",
    "NOTESFILE = \"NOTEEVENTS.csv\""
   ]
  },
  {
   "cell_type": "code",
   "execution_count": 2,
   "metadata": {},
   "outputs": [
    {
     "output_type": "stream",
     "name": "stderr",
     "text": [
      "/mnt/data01/envs/benchmark/lib/python3.6/site-packages/IPython/core/interactiveshell.py:2714: DtypeWarning: Columns (4,5) have mixed types. Specify dtype option on import or set low_memory=False.\n  interactivity=interactivity, compiler=compiler, result=result)\n"
     ]
    }
   ],
   "source": [
    "all_notes = pd.read_csv(f\"{DATAPATH}{NOTESFILE}\")"
   ]
  },
  {
   "cell_type": "code",
   "execution_count": 4,
   "metadata": {},
   "outputs": [
    {
     "output_type": "execute_result",
     "data": {
      "text/plain": [
       "             ROW_ID    SUBJECT_ID       HADM_ID          CGID  ISERROR\n",
       "count  2.083180e+06  2.083180e+06  1.851344e+06  1.246404e+06    886.0\n",
       "mean   1.041590e+06  3.242564e+04  1.498796e+05  1.771630e+04      1.0\n",
       "std    6.013624e+05  2.755425e+04  2.878059e+04  2.158703e+03      0.0\n",
       "min    1.000000e+00  2.000000e+00  1.000010e+05  1.401000e+04      1.0\n",
       "25%    5.207958e+05  1.146500e+04  1.251950e+05  1.580300e+04      1.0\n",
       "50%    1.041590e+06  2.344400e+04  1.496010e+05  1.759300e+04      1.0\n",
       "75%    1.562385e+06  5.077200e+04  1.748120e+05  1.959900e+04      1.0\n",
       "max    2.083180e+06  9.999900e+04  1.999990e+05  2.157000e+04      1.0"
      ],
      "text/html": "<div>\n<style scoped>\n    .dataframe tbody tr th:only-of-type {\n        vertical-align: middle;\n    }\n\n    .dataframe tbody tr th {\n        vertical-align: top;\n    }\n\n    .dataframe thead th {\n        text-align: right;\n    }\n</style>\n<table border=\"1\" class=\"dataframe\">\n  <thead>\n    <tr style=\"text-align: right;\">\n      <th></th>\n      <th>ROW_ID</th>\n      <th>SUBJECT_ID</th>\n      <th>HADM_ID</th>\n      <th>CGID</th>\n      <th>ISERROR</th>\n    </tr>\n  </thead>\n  <tbody>\n    <tr>\n      <th>count</th>\n      <td>2.083180e+06</td>\n      <td>2.083180e+06</td>\n      <td>1.851344e+06</td>\n      <td>1.246404e+06</td>\n      <td>886.0</td>\n    </tr>\n    <tr>\n      <th>mean</th>\n      <td>1.041590e+06</td>\n      <td>3.242564e+04</td>\n      <td>1.498796e+05</td>\n      <td>1.771630e+04</td>\n      <td>1.0</td>\n    </tr>\n    <tr>\n      <th>std</th>\n      <td>6.013624e+05</td>\n      <td>2.755425e+04</td>\n      <td>2.878059e+04</td>\n      <td>2.158703e+03</td>\n      <td>0.0</td>\n    </tr>\n    <tr>\n      <th>min</th>\n      <td>1.000000e+00</td>\n      <td>2.000000e+00</td>\n      <td>1.000010e+05</td>\n      <td>1.401000e+04</td>\n      <td>1.0</td>\n    </tr>\n    <tr>\n      <th>25%</th>\n      <td>5.207958e+05</td>\n      <td>1.146500e+04</td>\n      <td>1.251950e+05</td>\n      <td>1.580300e+04</td>\n      <td>1.0</td>\n    </tr>\n    <tr>\n      <th>50%</th>\n      <td>1.041590e+06</td>\n      <td>2.344400e+04</td>\n      <td>1.496010e+05</td>\n      <td>1.759300e+04</td>\n      <td>1.0</td>\n    </tr>\n    <tr>\n      <th>75%</th>\n      <td>1.562385e+06</td>\n      <td>5.077200e+04</td>\n      <td>1.748120e+05</td>\n      <td>1.959900e+04</td>\n      <td>1.0</td>\n    </tr>\n    <tr>\n      <th>max</th>\n      <td>2.083180e+06</td>\n      <td>9.999900e+04</td>\n      <td>1.999990e+05</td>\n      <td>2.157000e+04</td>\n      <td>1.0</td>\n    </tr>\n  </tbody>\n</table>\n</div>"
     },
     "metadata": {},
     "execution_count": 4
    }
   ],
   "source": [
    "all_notes.describe()"
   ]
  },
  {
   "cell_type": "code",
   "execution_count": 16,
   "metadata": {},
   "outputs": [
    {
     "output_type": "execute_result",
     "data": {
      "text/plain": [
       "ROW_ID           int64\n",
       "SUBJECT_ID       int64\n",
       "HADM_ID        float64\n",
       "CHARTDATE       object\n",
       "CHARTTIME       object\n",
       "STORETIME       object\n",
       "CATEGORY        object\n",
       "DESCRIPTION     object\n",
       "CGID           float64\n",
       "TEXT            object\n",
       "dtype: object"
      ]
     },
     "metadata": {},
     "execution_count": 16
    }
   ],
   "source": [
    "all_notes.dtypes"
   ]
  },
  {
   "cell_type": "code",
   "execution_count": 13,
   "metadata": {},
   "outputs": [],
   "source": [
    "all_notes.drop(all_notes[all_notes.ISERROR == 1].index, inplace=True)\n",
    "all_notes.drop(columns=\"ISERROR\", inplace=True)"
   ]
  },
  {
   "cell_type": "code",
   "execution_count": 15,
   "metadata": {},
   "outputs": [
    {
     "output_type": "execute_result",
     "data": {
      "text/plain": [
       "              ROW_ID    SUBJECT_ID       HADM_ID   CHARTDATE  \\\n",
       "count   2.082294e+06  2.082294e+06  1.850465e+06     2082294   \n",
       "unique           NaN           NaN           NaN       38686   \n",
       "top              NaN           NaN           NaN  2148-12-03   \n",
       "freq             NaN           NaN           NaN         161   \n",
       "mean    1.041820e+06  3.241594e+04  1.498799e+05         NaN   \n",
       "std     6.013821e+05  2.755077e+04  2.878071e+04         NaN   \n",
       "min     1.000000e+00  2.000000e+00  1.000010e+05         NaN   \n",
       "25%     5.210462e+05  1.146400e+04  1.251950e+05         NaN   \n",
       "50%     1.042034e+06  2.343000e+04  1.496010e+05         NaN   \n",
       "75%     1.562607e+06  5.076700e+04  1.748120e+05         NaN   \n",
       "max     2.083180e+06  9.999900e+04  1.999990e+05         NaN   \n",
       "\n",
       "                  CHARTTIME            STORETIME       CATEGORY DESCRIPTION  \\\n",
       "count               1765728              1245518        2082294     2082294   \n",
       "unique              1448424              1223828             15        3840   \n",
       "top     2153-10-31 01:04:00  2134-01-07 12:25:00  Nursing/other      Report   \n",
       "freq                     40                   16         822497     1132519   \n",
       "mean                    NaN                  NaN            NaN         NaN   \n",
       "std                     NaN                  NaN            NaN         NaN   \n",
       "min                     NaN                  NaN            NaN         NaN   \n",
       "25%                     NaN                  NaN            NaN         NaN   \n",
       "50%                     NaN                  NaN            NaN         NaN   \n",
       "75%                     NaN                  NaN            NaN         NaN   \n",
       "max                     NaN                  NaN            NaN         NaN   \n",
       "\n",
       "                CGID                                               TEXT  \n",
       "count   1.245518e+06                                            2082294  \n",
       "unique           NaN                                            2022302  \n",
       "top              NaN  ECG interpreted by ordering physician.\\n[**Nam...  \n",
       "freq             NaN                                               6832  \n",
       "mean    1.771628e+04                                                NaN  \n",
       "std     2.158616e+03                                                NaN  \n",
       "min     1.401000e+04                                                NaN  \n",
       "25%     1.580300e+04                                                NaN  \n",
       "50%     1.759300e+04                                                NaN  \n",
       "75%     1.959900e+04                                                NaN  \n",
       "max     2.157000e+04                                                NaN  "
      ],
      "text/html": "<div>\n<style scoped>\n    .dataframe tbody tr th:only-of-type {\n        vertical-align: middle;\n    }\n\n    .dataframe tbody tr th {\n        vertical-align: top;\n    }\n\n    .dataframe thead th {\n        text-align: right;\n    }\n</style>\n<table border=\"1\" class=\"dataframe\">\n  <thead>\n    <tr style=\"text-align: right;\">\n      <th></th>\n      <th>ROW_ID</th>\n      <th>SUBJECT_ID</th>\n      <th>HADM_ID</th>\n      <th>CHARTDATE</th>\n      <th>CHARTTIME</th>\n      <th>STORETIME</th>\n      <th>CATEGORY</th>\n      <th>DESCRIPTION</th>\n      <th>CGID</th>\n      <th>TEXT</th>\n    </tr>\n  </thead>\n  <tbody>\n    <tr>\n      <th>count</th>\n      <td>2.082294e+06</td>\n      <td>2.082294e+06</td>\n      <td>1.850465e+06</td>\n      <td>2082294</td>\n      <td>1765728</td>\n      <td>1245518</td>\n      <td>2082294</td>\n      <td>2082294</td>\n      <td>1.245518e+06</td>\n      <td>2082294</td>\n    </tr>\n    <tr>\n      <th>unique</th>\n      <td>NaN</td>\n      <td>NaN</td>\n      <td>NaN</td>\n      <td>38686</td>\n      <td>1448424</td>\n      <td>1223828</td>\n      <td>15</td>\n      <td>3840</td>\n      <td>NaN</td>\n      <td>2022302</td>\n    </tr>\n    <tr>\n      <th>top</th>\n      <td>NaN</td>\n      <td>NaN</td>\n      <td>NaN</td>\n      <td>2148-12-03</td>\n      <td>2153-10-31 01:04:00</td>\n      <td>2134-01-07 12:25:00</td>\n      <td>Nursing/other</td>\n      <td>Report</td>\n      <td>NaN</td>\n      <td>ECG interpreted by ordering physician.\\n[**Nam...</td>\n    </tr>\n    <tr>\n      <th>freq</th>\n      <td>NaN</td>\n      <td>NaN</td>\n      <td>NaN</td>\n      <td>161</td>\n      <td>40</td>\n      <td>16</td>\n      <td>822497</td>\n      <td>1132519</td>\n      <td>NaN</td>\n      <td>6832</td>\n    </tr>\n    <tr>\n      <th>mean</th>\n      <td>1.041820e+06</td>\n      <td>3.241594e+04</td>\n      <td>1.498799e+05</td>\n      <td>NaN</td>\n      <td>NaN</td>\n      <td>NaN</td>\n      <td>NaN</td>\n      <td>NaN</td>\n      <td>1.771628e+04</td>\n      <td>NaN</td>\n    </tr>\n    <tr>\n      <th>std</th>\n      <td>6.013821e+05</td>\n      <td>2.755077e+04</td>\n      <td>2.878071e+04</td>\n      <td>NaN</td>\n      <td>NaN</td>\n      <td>NaN</td>\n      <td>NaN</td>\n      <td>NaN</td>\n      <td>2.158616e+03</td>\n      <td>NaN</td>\n    </tr>\n    <tr>\n      <th>min</th>\n      <td>1.000000e+00</td>\n      <td>2.000000e+00</td>\n      <td>1.000010e+05</td>\n      <td>NaN</td>\n      <td>NaN</td>\n      <td>NaN</td>\n      <td>NaN</td>\n      <td>NaN</td>\n      <td>1.401000e+04</td>\n      <td>NaN</td>\n    </tr>\n    <tr>\n      <th>25%</th>\n      <td>5.210462e+05</td>\n      <td>1.146400e+04</td>\n      <td>1.251950e+05</td>\n      <td>NaN</td>\n      <td>NaN</td>\n      <td>NaN</td>\n      <td>NaN</td>\n      <td>NaN</td>\n      <td>1.580300e+04</td>\n      <td>NaN</td>\n    </tr>\n    <tr>\n      <th>50%</th>\n      <td>1.042034e+06</td>\n      <td>2.343000e+04</td>\n      <td>1.496010e+05</td>\n      <td>NaN</td>\n      <td>NaN</td>\n      <td>NaN</td>\n      <td>NaN</td>\n      <td>NaN</td>\n      <td>1.759300e+04</td>\n      <td>NaN</td>\n    </tr>\n    <tr>\n      <th>75%</th>\n      <td>1.562607e+06</td>\n      <td>5.076700e+04</td>\n      <td>1.748120e+05</td>\n      <td>NaN</td>\n      <td>NaN</td>\n      <td>NaN</td>\n      <td>NaN</td>\n      <td>NaN</td>\n      <td>1.959900e+04</td>\n      <td>NaN</td>\n    </tr>\n    <tr>\n      <th>max</th>\n      <td>2.083180e+06</td>\n      <td>9.999900e+04</td>\n      <td>1.999990e+05</td>\n      <td>NaN</td>\n      <td>NaN</td>\n      <td>NaN</td>\n      <td>NaN</td>\n      <td>NaN</td>\n      <td>2.157000e+04</td>\n      <td>NaN</td>\n    </tr>\n  </tbody>\n</table>\n</div>"
     },
     "metadata": {},
     "execution_count": 15
    }
   ],
   "source": [
    "all_notes.describe(include=\"all\")"
   ]
  },
  {
   "cell_type": "code",
   "execution_count": 44,
   "metadata": {},
   "outputs": [],
   "source": [
    "rec_31558_01 = all_notes[(all_notes[\"SUBJECT_ID\"] == 31558) & (~pd.isnull(all_notes[\"CHARTTIME\"]))].sort_values([\"CHARTDATE\", \"CHARTTIME\"])"
   ]
  },
  {
   "cell_type": "code",
   "execution_count": 3,
   "metadata": {},
   "outputs": [],
   "source": [
    "from transformers import AutoTokenizer, AutoModel, pipeline\n",
    "tokenizer = AutoTokenizer.from_pretrained(\"emilyalsentzer/Bio_ClinicalBERT\")\n",
    "model = AutoModel.from_pretrained(\"emilyalsentzer/Bio_ClinicalBERT\")\n"
   ]
  },
  {
   "cell_type": "code",
   "execution_count": 4,
   "metadata": {},
   "outputs": [],
   "source": [
    "pipe = pipeline('feature-extraction', model=model, \n",
    "                tokenizer=tokenizer)\n",
    "features = pipe(['one subjective goodness for the road',\n",
    "    'two', \n",
    "    'three', \n",
    "    'four', \n",
    "    'dog'],\n",
    "    pad_to_max_length=True)\n"
   ]
  },
  {
   "cell_type": "code",
   "execution_count": 5,
   "metadata": {},
   "outputs": [
    {
     "output_type": "stream",
     "name": "stdout",
     "text": [
      "8\n"
     ]
    }
   ],
   "source": [
    "print(len(features[0]))"
   ]
  },
  {
   "cell_type": "code",
   "execution_count": null,
   "metadata": {},
   "outputs": [],
   "source": []
  }
 ]
}