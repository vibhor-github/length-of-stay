{
 "metadata": {
  "language_info": {
   "codemirror_mode": {
    "name": "ipython",
    "version": 3
   },
   "file_extension": ".py",
   "mimetype": "text/x-python",
   "name": "python",
   "nbconvert_exporter": "python",
   "pygments_lexer": "ipython3",
   "version": "3.6.8"
  },
  "orig_nbformat": 2,
  "kernelspec": {
   "name": "python368jvsc74a57bd060aa7568c9db8113868ebef0220b161e96389b06f6ba9eb98d46b6b0f2cf6a72",
   "display_name": "Python 3.6.8 64-bit ('benchmark': conda)"
  },
  "metadata": {
   "interpreter": {
    "hash": "ff88db401d72825ab8dbbeac235a43badbd84e74e7c38590f07997d87334a43c"
   }
  }
 },
 "nbformat": 4,
 "nbformat_minor": 2,
 "cells": [
  {
   "cell_type": "code",
   "execution_count": 11,
   "metadata": {},
   "outputs": [
    {
     "output_type": "execute_result",
     "data": {
      "text/plain": [
       "'/home/aflanders/CS598_DLH'"
      ]
     },
     "metadata": {},
     "execution_count": 11
    }
   ],
   "source": [
    "dir_path = os.getcwd()\n",
    "dir_path\n"
   ]
  },
  {
   "cell_type": "code",
   "execution_count": 1,
   "metadata": {},
   "outputs": [],
   "source": [
    "from __future__ import absolute_import\n",
    "from __future__ import print_function\n",
    "\n",
    "from typing import NamedTuple\n",
    "import argparse\n",
    "import os\n",
    "import sys\n",
    "import pandas as pd\n",
    "from tqdm import tqdm\n",
    "\n",
    "from mimic3benchmark.subject import read_stays, read_diagnoses, read_events, get_events_for_stay,\\\n",
    "    add_hours_elpased_to_events\n",
    "from mimic3benchmark.subject import convert_events_to_timeseries, get_first_valid_from_timeseries\n",
    "from mimic3benchmark.preprocessing import read_itemid_to_variable_map, map_itemids_to_variables, clean_events\n",
    "from mimic3benchmark.preprocessing import assemble_episodic_data\n",
    "\n",
    "class Args(NamedTuple):\n",
    "    subjects_root_path: str\n",
    "    variable_map_file: str\n",
    "    reference_range_file: str\n",
    "    notes: bool\n",
    "    notes_csv_file: str\n",
    "\n",
    "parser = argparse.ArgumentParser(description='Extract episodes from per-subject data.')\n",
    "parser.add_argument('subjects_root_path', type=str, help='Directory containing subject sub-directories.')\n",
    "parser.add_argument('--variable_map_file', type=str,\n",
    "                    default='/resources/itemid_to_variable_map.csv',\n",
    "                    help='CSV containing ITEMID-to-VARIABLE map.')\n",
    "parser.add_argument('--reference_range_file', type=str,\n",
    "                    default='../resources/variable_ranges.csv',\n",
    "                    help='CSV containing reference ranges for VARIABLEs.')\n",
    "parser.add_argument('--notes', action='store_true', help='NOTES: Process notes')\n",
    "parser.add_argument('--notes_csv_file', type=str,\n",
    "                    help='CSV file with all mimic clinical notes')\n",
    "#args, _ = parser.parse_known_args()\n",
    "\n",
    "args = Args('/mnt/data01/mimic-3/benchmark-small',\n",
    "        'mimic3benchmark/resources/itemid_to_variable_map.csv',\n",
    "        'mimic3benchmark/resources/variable_ranges.csv',\n",
    "        True,\n",
    "        '/mnt/data01/mimic-3/csv/NOTEEVENTS.csv')\n",
    "\n",
    "var_map = read_itemid_to_variable_map(args.variable_map_file)\n",
    "variables = var_map.VARIABLE.unique()\n"
   ]
  },
  {
   "cell_type": "code",
   "execution_count": 2,
   "metadata": {},
   "outputs": [
    {
     "output_type": "stream",
     "name": "stderr",
     "text": [
      "/mnt/data01/envs/benchmark/lib/python3.6/site-packages/IPython/core/interactiveshell.py:2714: DtypeWarning: Columns (5) have mixed types. Specify dtype option on import or set low_memory=False.\n  interactivity=interactivity, compiler=compiler, result=result)\n"
     ]
    }
   ],
   "source": [
    "if args.notes:\n",
    "    all_notes = pd.read_csv(args.notes_csv_file, parse_dates=[\"CHARTTIME\"], infer_datetime_format=True)"
   ]
  },
  {
   "cell_type": "code",
   "execution_count": 3,
   "metadata": {},
   "outputs": [
    {
     "output_type": "execute_result",
     "data": {
      "text/plain": [
       "ROW_ID                  int64\n",
       "SUBJECT_ID              int64\n",
       "HADM_ID               float64\n",
       "CHARTDATE              object\n",
       "CHARTTIME      datetime64[ns]\n",
       "STORETIME              object\n",
       "CATEGORY               object\n",
       "DESCRIPTION            object\n",
       "CGID                  float64\n",
       "ISERROR               float64\n",
       "TEXT                   object\n",
       "dtype: object"
      ]
     },
     "metadata": {},
     "execution_count": 3
    }
   ],
   "source": [
    "all_notes.dtypes"
   ]
  },
  {
   "cell_type": "code",
   "execution_count": 4,
   "metadata": {},
   "outputs": [],
   "source": [
    "all_notes.drop(all_notes[all_notes.ISERROR == 1].index, inplace=True)\n",
    "all_notes.drop(columns=\"ISERROR\", inplace=True)"
   ]
  },
  {
   "cell_type": "code",
   "execution_count": 44,
   "metadata": {},
   "outputs": [
    {
     "output_type": "execute_result",
     "data": {
      "text/plain": [
       "              ROW_ID    SUBJECT_ID       HADM_ID   CHARTDATE  \\\n",
       "count   2.082294e+06  2.082294e+06  1.850465e+06     2082294   \n",
       "unique           NaN           NaN           NaN       38686   \n",
       "top              NaN           NaN           NaN  2148-12-03   \n",
       "freq             NaN           NaN           NaN         161   \n",
       "first            NaN           NaN           NaN         NaN   \n",
       "last             NaN           NaN           NaN         NaN   \n",
       "mean    1.041820e+06  3.241594e+04  1.498799e+05         NaN   \n",
       "std     6.013821e+05  2.755077e+04  2.878071e+04         NaN   \n",
       "min     1.000000e+00  2.000000e+00  1.000010e+05         NaN   \n",
       "25%     5.210462e+05  1.146400e+04  1.251950e+05         NaN   \n",
       "50%     1.042034e+06  2.343000e+04  1.496010e+05         NaN   \n",
       "75%     1.562607e+06  5.076700e+04  1.748120e+05         NaN   \n",
       "max     2.083180e+06  9.999900e+04  1.999990e+05         NaN   \n",
       "\n",
       "                  CHARTTIME            STORETIME       CATEGORY DESCRIPTION  \\\n",
       "count               1765728              1245518        2082294     2082294   \n",
       "unique              1448424              1223828             15        3840   \n",
       "top     2153-10-31 01:04:00  2134-01-07 12:26:00  Nursing/other      Report   \n",
       "freq                     40                   16         822497     1132519   \n",
       "first   2097-12-07 12:55:00                  NaN            NaN         NaN   \n",
       "last    2210-10-01 09:58:00                  NaN            NaN         NaN   \n",
       "mean                    NaN                  NaN            NaN         NaN   \n",
       "std                     NaN                  NaN            NaN         NaN   \n",
       "min                     NaN                  NaN            NaN         NaN   \n",
       "25%                     NaN                  NaN            NaN         NaN   \n",
       "50%                     NaN                  NaN            NaN         NaN   \n",
       "75%                     NaN                  NaN            NaN         NaN   \n",
       "max                     NaN                  NaN            NaN         NaN   \n",
       "\n",
       "                CGID                                               TEXT  \n",
       "count   1.245518e+06                                            2082294  \n",
       "unique           NaN                                            2022302  \n",
       "top              NaN  ECG interpreted by ordering physician.\\n[**Nam...  \n",
       "freq             NaN                                               6832  \n",
       "first            NaN                                                NaN  \n",
       "last             NaN                                                NaN  \n",
       "mean    1.771628e+04                                                NaN  \n",
       "std     2.158616e+03                                                NaN  \n",
       "min     1.401000e+04                                                NaN  \n",
       "25%     1.580300e+04                                                NaN  \n",
       "50%     1.759300e+04                                                NaN  \n",
       "75%     1.959900e+04                                                NaN  \n",
       "max     2.157000e+04                                                NaN  "
      ],
      "text/html": "<div>\n<style scoped>\n    .dataframe tbody tr th:only-of-type {\n        vertical-align: middle;\n    }\n\n    .dataframe tbody tr th {\n        vertical-align: top;\n    }\n\n    .dataframe thead th {\n        text-align: right;\n    }\n</style>\n<table border=\"1\" class=\"dataframe\">\n  <thead>\n    <tr style=\"text-align: right;\">\n      <th></th>\n      <th>ROW_ID</th>\n      <th>SUBJECT_ID</th>\n      <th>HADM_ID</th>\n      <th>CHARTDATE</th>\n      <th>CHARTTIME</th>\n      <th>STORETIME</th>\n      <th>CATEGORY</th>\n      <th>DESCRIPTION</th>\n      <th>CGID</th>\n      <th>TEXT</th>\n    </tr>\n  </thead>\n  <tbody>\n    <tr>\n      <th>count</th>\n      <td>2.082294e+06</td>\n      <td>2.082294e+06</td>\n      <td>1.850465e+06</td>\n      <td>2082294</td>\n      <td>1765728</td>\n      <td>1245518</td>\n      <td>2082294</td>\n      <td>2082294</td>\n      <td>1.245518e+06</td>\n      <td>2082294</td>\n    </tr>\n    <tr>\n      <th>unique</th>\n      <td>NaN</td>\n      <td>NaN</td>\n      <td>NaN</td>\n      <td>38686</td>\n      <td>1448424</td>\n      <td>1223828</td>\n      <td>15</td>\n      <td>3840</td>\n      <td>NaN</td>\n      <td>2022302</td>\n    </tr>\n    <tr>\n      <th>top</th>\n      <td>NaN</td>\n      <td>NaN</td>\n      <td>NaN</td>\n      <td>2148-12-03</td>\n      <td>2153-10-31 01:04:00</td>\n      <td>2134-01-07 12:26:00</td>\n      <td>Nursing/other</td>\n      <td>Report</td>\n      <td>NaN</td>\n      <td>ECG interpreted by ordering physician.\\n[**Nam...</td>\n    </tr>\n    <tr>\n      <th>freq</th>\n      <td>NaN</td>\n      <td>NaN</td>\n      <td>NaN</td>\n      <td>161</td>\n      <td>40</td>\n      <td>16</td>\n      <td>822497</td>\n      <td>1132519</td>\n      <td>NaN</td>\n      <td>6832</td>\n    </tr>\n    <tr>\n      <th>first</th>\n      <td>NaN</td>\n      <td>NaN</td>\n      <td>NaN</td>\n      <td>NaN</td>\n      <td>2097-12-07 12:55:00</td>\n      <td>NaN</td>\n      <td>NaN</td>\n      <td>NaN</td>\n      <td>NaN</td>\n      <td>NaN</td>\n    </tr>\n    <tr>\n      <th>last</th>\n      <td>NaN</td>\n      <td>NaN</td>\n      <td>NaN</td>\n      <td>NaN</td>\n      <td>2210-10-01 09:58:00</td>\n      <td>NaN</td>\n      <td>NaN</td>\n      <td>NaN</td>\n      <td>NaN</td>\n      <td>NaN</td>\n    </tr>\n    <tr>\n      <th>mean</th>\n      <td>1.041820e+06</td>\n      <td>3.241594e+04</td>\n      <td>1.498799e+05</td>\n      <td>NaN</td>\n      <td>NaN</td>\n      <td>NaN</td>\n      <td>NaN</td>\n      <td>NaN</td>\n      <td>1.771628e+04</td>\n      <td>NaN</td>\n    </tr>\n    <tr>\n      <th>std</th>\n      <td>6.013821e+05</td>\n      <td>2.755077e+04</td>\n      <td>2.878071e+04</td>\n      <td>NaN</td>\n      <td>NaN</td>\n      <td>NaN</td>\n      <td>NaN</td>\n      <td>NaN</td>\n      <td>2.158616e+03</td>\n      <td>NaN</td>\n    </tr>\n    <tr>\n      <th>min</th>\n      <td>1.000000e+00</td>\n      <td>2.000000e+00</td>\n      <td>1.000010e+05</td>\n      <td>NaN</td>\n      <td>NaN</td>\n      <td>NaN</td>\n      <td>NaN</td>\n      <td>NaN</td>\n      <td>1.401000e+04</td>\n      <td>NaN</td>\n    </tr>\n    <tr>\n      <th>25%</th>\n      <td>5.210462e+05</td>\n      <td>1.146400e+04</td>\n      <td>1.251950e+05</td>\n      <td>NaN</td>\n      <td>NaN</td>\n      <td>NaN</td>\n      <td>NaN</td>\n      <td>NaN</td>\n      <td>1.580300e+04</td>\n      <td>NaN</td>\n    </tr>\n    <tr>\n      <th>50%</th>\n      <td>1.042034e+06</td>\n      <td>2.343000e+04</td>\n      <td>1.496010e+05</td>\n      <td>NaN</td>\n      <td>NaN</td>\n      <td>NaN</td>\n      <td>NaN</td>\n      <td>NaN</td>\n      <td>1.759300e+04</td>\n      <td>NaN</td>\n    </tr>\n    <tr>\n      <th>75%</th>\n      <td>1.562607e+06</td>\n      <td>5.076700e+04</td>\n      <td>1.748120e+05</td>\n      <td>NaN</td>\n      <td>NaN</td>\n      <td>NaN</td>\n      <td>NaN</td>\n      <td>NaN</td>\n      <td>1.959900e+04</td>\n      <td>NaN</td>\n    </tr>\n    <tr>\n      <th>max</th>\n      <td>2.083180e+06</td>\n      <td>9.999900e+04</td>\n      <td>1.999990e+05</td>\n      <td>NaN</td>\n      <td>NaN</td>\n      <td>NaN</td>\n      <td>NaN</td>\n      <td>NaN</td>\n      <td>2.157000e+04</td>\n      <td>NaN</td>\n    </tr>\n  </tbody>\n</table>\n</div>"
     },
     "metadata": {},
     "execution_count": 44
    }
   ],
   "source": [
    "all_notes.describe(include=\"all\")"
   ]
  },
  {
   "cell_type": "code",
   "execution_count": 44,
   "metadata": {},
   "outputs": [],
   "source": [
    "rec_31558_01 = all_notes[(all_notes[\"SUBJECT_ID\"] == 31558) & (~pd.isnull(all_notes[\"CHARTTIME\"]))].sort_values([\"CHARTDATE\", \"CHARTTIME\"])"
   ]
  },
  {
   "cell_type": "code",
   "execution_count": 5,
   "metadata": {},
   "outputs": [],
   "source": [
    "# for subject_dir in tqdm(os.listdir(args.subjects_root_path), desc='Iterating over subjects'):\n",
    "#     dn = os.path.join(args.subjects_root_path, subject_dir)\n",
    "#     try:\n",
    "#         subject_id = int(subject_dir)\n",
    "#         if not os.path.isdir(dn):\n",
    "#             raise Exception\n",
    "#     except:\n",
    "#         continue\n",
    "subject_id = 305\n",
    "subject_dir = \"305\"\n",
    "\n",
    "stays = read_stays(os.path.join(args.subjects_root_path, str(subject_id)))\n",
    "notes = all_notes[(all_notes[\"SUBJECT_ID\"] == subject_id) & (~pd.isnull(all_notes[\"CHARTTIME\"]))].sort_values([\"CHARTTIME\"])\n",
    "\n"
   ]
  },
  {
   "cell_type": "code",
   "execution_count": 6,
   "metadata": {},
   "outputs": [
    {
     "output_type": "execute_result",
     "data": {
      "text/plain": [
       "   SUBJECT_ID  HADM_ID  ICUSTAY_ID LAST_CAREUNIT    DBSOURCE  \\\n",
       "0         305   133059      232719           CCU     carevue   \n",
       "1         305   108015      297009          CSRU     carevue   \n",
       "2         305   194340      217232          SICU  metavision   \n",
       "\n",
       "               INTIME             OUTTIME     LOS            ADMITTIME  \\\n",
       "0 2125-04-27 18:47:43 2125-05-01 16:50:19  3.9185  2125-04-26 11:45:00   \n",
       "1 2126-01-02 11:28:23 2126-01-07 10:07:29  4.9438  2125-12-31 18:40:00   \n",
       "2 2129-09-03 12:31:31 2129-09-05 23:00:50  2.4370  2129-08-20 18:03:00   \n",
       "\n",
       "             DISCHTIME          ...          ETHNICITY  \\\n",
       "0  2125-05-03 18:12:00          ...              WHITE   \n",
       "1  2126-01-10 11:30:00          ...              WHITE   \n",
       "2  2129-09-07 17:55:00          ...              WHITE   \n",
       "\n",
       "                                           DIAGNOSIS GENDER        DOB  \\\n",
       "0  CORONARY ARTERY DISEASE\\CORONARY ARTERY BYPASS...      F 2052-10-24   \n",
       "1  NON-ST SEGMENT ELEVATION MYOCARDIAL INFARCTION...      F 2052-10-24   \n",
       "2                                      HEART FAILURE      F 2052-10-24   \n",
       "\n",
       "         DOD      INDATE        AGE  MORTALITY_INUNIT  MORTALITY  \\\n",
       "0 2129-09-07  2125-04-27  72.553425                 0          0   \n",
       "1 2129-09-07  2126-01-02  73.238356                 0          0   \n",
       "2 2129-09-07  2129-09-03  76.909589                 0          1   \n",
       "\n",
       "   MORTALITY_INHOSPITAL  \n",
       "0                     0  \n",
       "1                     0  \n",
       "2                     1  \n",
       "\n",
       "[3 rows x 21 columns]"
      ],
      "text/html": "<div>\n<style scoped>\n    .dataframe tbody tr th:only-of-type {\n        vertical-align: middle;\n    }\n\n    .dataframe tbody tr th {\n        vertical-align: top;\n    }\n\n    .dataframe thead th {\n        text-align: right;\n    }\n</style>\n<table border=\"1\" class=\"dataframe\">\n  <thead>\n    <tr style=\"text-align: right;\">\n      <th></th>\n      <th>SUBJECT_ID</th>\n      <th>HADM_ID</th>\n      <th>ICUSTAY_ID</th>\n      <th>LAST_CAREUNIT</th>\n      <th>DBSOURCE</th>\n      <th>INTIME</th>\n      <th>OUTTIME</th>\n      <th>LOS</th>\n      <th>ADMITTIME</th>\n      <th>DISCHTIME</th>\n      <th>...</th>\n      <th>ETHNICITY</th>\n      <th>DIAGNOSIS</th>\n      <th>GENDER</th>\n      <th>DOB</th>\n      <th>DOD</th>\n      <th>INDATE</th>\n      <th>AGE</th>\n      <th>MORTALITY_INUNIT</th>\n      <th>MORTALITY</th>\n      <th>MORTALITY_INHOSPITAL</th>\n    </tr>\n  </thead>\n  <tbody>\n    <tr>\n      <th>0</th>\n      <td>305</td>\n      <td>133059</td>\n      <td>232719</td>\n      <td>CCU</td>\n      <td>carevue</td>\n      <td>2125-04-27 18:47:43</td>\n      <td>2125-05-01 16:50:19</td>\n      <td>3.9185</td>\n      <td>2125-04-26 11:45:00</td>\n      <td>2125-05-03 18:12:00</td>\n      <td>...</td>\n      <td>WHITE</td>\n      <td>CORONARY ARTERY DISEASE\\CORONARY ARTERY BYPASS...</td>\n      <td>F</td>\n      <td>2052-10-24</td>\n      <td>2129-09-07</td>\n      <td>2125-04-27</td>\n      <td>72.553425</td>\n      <td>0</td>\n      <td>0</td>\n      <td>0</td>\n    </tr>\n    <tr>\n      <th>1</th>\n      <td>305</td>\n      <td>108015</td>\n      <td>297009</td>\n      <td>CSRU</td>\n      <td>carevue</td>\n      <td>2126-01-02 11:28:23</td>\n      <td>2126-01-07 10:07:29</td>\n      <td>4.9438</td>\n      <td>2125-12-31 18:40:00</td>\n      <td>2126-01-10 11:30:00</td>\n      <td>...</td>\n      <td>WHITE</td>\n      <td>NON-ST SEGMENT ELEVATION MYOCARDIAL INFARCTION...</td>\n      <td>F</td>\n      <td>2052-10-24</td>\n      <td>2129-09-07</td>\n      <td>2126-01-02</td>\n      <td>73.238356</td>\n      <td>0</td>\n      <td>0</td>\n      <td>0</td>\n    </tr>\n    <tr>\n      <th>2</th>\n      <td>305</td>\n      <td>194340</td>\n      <td>217232</td>\n      <td>SICU</td>\n      <td>metavision</td>\n      <td>2129-09-03 12:31:31</td>\n      <td>2129-09-05 23:00:50</td>\n      <td>2.4370</td>\n      <td>2129-08-20 18:03:00</td>\n      <td>2129-09-07 17:55:00</td>\n      <td>...</td>\n      <td>WHITE</td>\n      <td>HEART FAILURE</td>\n      <td>F</td>\n      <td>2052-10-24</td>\n      <td>2129-09-07</td>\n      <td>2129-09-03</td>\n      <td>76.909589</td>\n      <td>0</td>\n      <td>1</td>\n      <td>1</td>\n    </tr>\n  </tbody>\n</table>\n<p>3 rows × 21 columns</p>\n</div>"
     },
     "metadata": {},
     "execution_count": 6
    }
   ],
   "source": [
    "stays.head(5)"
   ]
  },
  {
   "cell_type": "code",
   "execution_count": 8,
   "metadata": {},
   "outputs": [
    {
     "output_type": "execute_result",
     "data": {
      "text/plain": [
       "          ROW_ID  SUBJECT_ID   HADM_ID   CHARTDATE           CHARTTIME  \\\n",
       "391656    388592         305  194340.0  2129-09-05 2129-09-05 17:08:00   \n",
       "391578    388600         305  194340.0  2129-09-05 2129-09-05 17:08:00   \n",
       "391528    388614         305  194340.0  2129-09-05 2129-09-05 17:08:00   \n",
       "1090048  1100264         305  194340.0  2129-09-06 2129-09-06 07:49:00   \n",
       "1077782  1100406         305  194340.0  2129-09-07 2129-09-07 07:48:00   \n",
       "\n",
       "                   STORETIME   CATEGORY            DESCRIPTION     CGID  \\\n",
       "391656   2129-09-05 17:08:25    Nursing  Nursing Transfer Note  17222.0   \n",
       "391578   2129-09-05 18:06:37    Nursing  Nursing Transfer Note  17222.0   \n",
       "391528   2129-09-05 22:25:17    Nursing  Nursing Transfer Note  18861.0   \n",
       "1090048                  NaN  Radiology    CHEST (PORTABLE AP)      NaN   \n",
       "1077782                  NaN  Radiology    CHEST (PORTABLE AP)      NaN   \n",
       "\n",
       "                                                      TEXT  \n",
       "391656   76-year-old woman with complex vascular histor...  \n",
       "391578   76-year-old woman with complex vascular histor...  \n",
       "391528   76-year-old woman with complex vascular histor...  \n",
       "1090048  [**2129-9-6**] 7:49 AM\\n CHEST (PORTABLE AP)  ...  \n",
       "1077782  [**2129-9-7**] 7:48 AM\\n CHEST (PORTABLE AP)  ...  "
      ],
      "text/html": "<div>\n<style scoped>\n    .dataframe tbody tr th:only-of-type {\n        vertical-align: middle;\n    }\n\n    .dataframe tbody tr th {\n        vertical-align: top;\n    }\n\n    .dataframe thead th {\n        text-align: right;\n    }\n</style>\n<table border=\"1\" class=\"dataframe\">\n  <thead>\n    <tr style=\"text-align: right;\">\n      <th></th>\n      <th>ROW_ID</th>\n      <th>SUBJECT_ID</th>\n      <th>HADM_ID</th>\n      <th>CHARTDATE</th>\n      <th>CHARTTIME</th>\n      <th>STORETIME</th>\n      <th>CATEGORY</th>\n      <th>DESCRIPTION</th>\n      <th>CGID</th>\n      <th>TEXT</th>\n    </tr>\n  </thead>\n  <tbody>\n    <tr>\n      <th>391656</th>\n      <td>388592</td>\n      <td>305</td>\n      <td>194340.0</td>\n      <td>2129-09-05</td>\n      <td>2129-09-05 17:08:00</td>\n      <td>2129-09-05 17:08:25</td>\n      <td>Nursing</td>\n      <td>Nursing Transfer Note</td>\n      <td>17222.0</td>\n      <td>76-year-old woman with complex vascular histor...</td>\n    </tr>\n    <tr>\n      <th>391578</th>\n      <td>388600</td>\n      <td>305</td>\n      <td>194340.0</td>\n      <td>2129-09-05</td>\n      <td>2129-09-05 17:08:00</td>\n      <td>2129-09-05 18:06:37</td>\n      <td>Nursing</td>\n      <td>Nursing Transfer Note</td>\n      <td>17222.0</td>\n      <td>76-year-old woman with complex vascular histor...</td>\n    </tr>\n    <tr>\n      <th>391528</th>\n      <td>388614</td>\n      <td>305</td>\n      <td>194340.0</td>\n      <td>2129-09-05</td>\n      <td>2129-09-05 17:08:00</td>\n      <td>2129-09-05 22:25:17</td>\n      <td>Nursing</td>\n      <td>Nursing Transfer Note</td>\n      <td>18861.0</td>\n      <td>76-year-old woman with complex vascular histor...</td>\n    </tr>\n    <tr>\n      <th>1090048</th>\n      <td>1100264</td>\n      <td>305</td>\n      <td>194340.0</td>\n      <td>2129-09-06</td>\n      <td>2129-09-06 07:49:00</td>\n      <td>NaN</td>\n      <td>Radiology</td>\n      <td>CHEST (PORTABLE AP)</td>\n      <td>NaN</td>\n      <td>[**2129-9-6**] 7:49 AM\\n CHEST (PORTABLE AP)  ...</td>\n    </tr>\n    <tr>\n      <th>1077782</th>\n      <td>1100406</td>\n      <td>305</td>\n      <td>194340.0</td>\n      <td>2129-09-07</td>\n      <td>2129-09-07 07:48:00</td>\n      <td>NaN</td>\n      <td>Radiology</td>\n      <td>CHEST (PORTABLE AP)</td>\n      <td>NaN</td>\n      <td>[**2129-9-7**] 7:48 AM\\n CHEST (PORTABLE AP)  ...</td>\n    </tr>\n  </tbody>\n</table>\n</div>"
     },
     "metadata": {},
     "execution_count": 8
    }
   ],
   "source": [
    "notes.tail(5)"
   ]
  },
  {
   "cell_type": "code",
   "execution_count": 30,
   "metadata": {},
   "outputs": [],
   "source": [
    "def get_icu_stay_from_dt_func(stays):\n",
    "    def get_icu_stay(chartdate):\n",
    "        for i in range(len(stays[\"INTIME\"])):\n",
    "            latest_start = max(stays[\"INTIME\"].iloc[i], chartdate)\n",
    "            earliest_end = min(stays[\"OUTTIME\"].iloc[i], chartdate)\n",
    "            if earliest_end < latest_start:\n",
    "                continue\n",
    "            # delta = (earliest_end - latest_start)\n",
    "            # delta = delta.days*24 + delta.seconds/3600\n",
    "            # overlap = max(0, delta)\n",
    "            # if overlap > 0:\n",
    "            else:\n",
    "                return int(stays[\"ICUSTAY_ID\"].iloc[i])\n",
    "        return np.nan\n",
    "    return get_icu_stay\n"
   ]
  },
  {
   "cell_type": "code",
   "execution_count": 31,
   "metadata": {},
   "outputs": [
    {
     "output_type": "execute_result",
     "data": {
      "text/plain": [
       "217232"
      ]
     },
     "metadata": {},
     "execution_count": 31
    }
   ],
   "source": [
    "get_icu_stay_from_dt_func(stays)(notes[\"CHARTTIME\"][391656])"
   ]
  },
  {
   "cell_type": "code",
   "execution_count": 32,
   "metadata": {},
   "outputs": [],
   "source": [
    "import numpy as np\n",
    "notes[\"ICUSTAY_ID\"] = notes['CHARTTIME'].apply(get_icu_stay_from_dt_func(stays)).astype(\"int\")\n",
    "notes = notes[notes['ICUSTAY_ID'].notna()]"
   ]
  },
  {
   "cell_type": "code",
   "execution_count": 33,
   "metadata": {},
   "outputs": [
    {
     "output_type": "execute_result",
     "data": {
      "text/plain": [
       "          ROW_ID  SUBJECT_ID   HADM_ID   CHARTDATE           CHARTTIME  \\\n",
       "1259602  1264491         305  133059.0  2125-04-27 2125-04-27 20:51:00   \n",
       "1259603  1264492         305  133059.0  2125-04-27 2125-04-27 22:22:00   \n",
       "1259856  1264493         305  133059.0  2125-04-28 2125-04-28 04:41:00   \n",
       "1259857  1264494         305  133059.0  2125-04-28 2125-04-28 06:57:00   \n",
       "1258610  1264495         305  133059.0  2125-04-28 2125-04-28 17:58:00   \n",
       "\n",
       "                   STORETIME       CATEGORY DESCRIPTION     CGID  \\\n",
       "1259602  2125-04-27 21:03:00  Nursing/other      Report  17079.0   \n",
       "1259603  2125-04-27 22:28:00  Nursing/other      Report  17079.0   \n",
       "1259856  2125-04-28 04:57:00  Nursing/other      Report  17219.0   \n",
       "1259857  2125-04-28 07:02:00  Nursing/other      Report  17219.0   \n",
       "1258610  2125-04-28 18:26:00  Nursing/other      Report  19525.0   \n",
       "\n",
       "                                                      TEXT  ICUSTAY_ID  \n",
       "1259602  Pt transfered from [**Hospital Ward Name 57**]...      232719  \n",
       "1259603  2130-2230\\nPt complained of chest pain radiati...      232719  \n",
       "1259856  72 YR. OLD WOMAN TRANSFERRED FROM OSH S/P MI. ...      232719  \n",
       "1259857  ADDENDUM\\n0600 C/O L. ARM PAIN RADIATING TO JA...      232719  \n",
       "1258610  ccu nursing progress note\\ns: my body is no go...      232719  "
      ],
      "text/html": "<div>\n<style scoped>\n    .dataframe tbody tr th:only-of-type {\n        vertical-align: middle;\n    }\n\n    .dataframe tbody tr th {\n        vertical-align: top;\n    }\n\n    .dataframe thead th {\n        text-align: right;\n    }\n</style>\n<table border=\"1\" class=\"dataframe\">\n  <thead>\n    <tr style=\"text-align: right;\">\n      <th></th>\n      <th>ROW_ID</th>\n      <th>SUBJECT_ID</th>\n      <th>HADM_ID</th>\n      <th>CHARTDATE</th>\n      <th>CHARTTIME</th>\n      <th>STORETIME</th>\n      <th>CATEGORY</th>\n      <th>DESCRIPTION</th>\n      <th>CGID</th>\n      <th>TEXT</th>\n      <th>ICUSTAY_ID</th>\n    </tr>\n  </thead>\n  <tbody>\n    <tr>\n      <th>1259602</th>\n      <td>1264491</td>\n      <td>305</td>\n      <td>133059.0</td>\n      <td>2125-04-27</td>\n      <td>2125-04-27 20:51:00</td>\n      <td>2125-04-27 21:03:00</td>\n      <td>Nursing/other</td>\n      <td>Report</td>\n      <td>17079.0</td>\n      <td>Pt transfered from [**Hospital Ward Name 57**]...</td>\n      <td>232719</td>\n    </tr>\n    <tr>\n      <th>1259603</th>\n      <td>1264492</td>\n      <td>305</td>\n      <td>133059.0</td>\n      <td>2125-04-27</td>\n      <td>2125-04-27 22:22:00</td>\n      <td>2125-04-27 22:28:00</td>\n      <td>Nursing/other</td>\n      <td>Report</td>\n      <td>17079.0</td>\n      <td>2130-2230\\nPt complained of chest pain radiati...</td>\n      <td>232719</td>\n    </tr>\n    <tr>\n      <th>1259856</th>\n      <td>1264493</td>\n      <td>305</td>\n      <td>133059.0</td>\n      <td>2125-04-28</td>\n      <td>2125-04-28 04:41:00</td>\n      <td>2125-04-28 04:57:00</td>\n      <td>Nursing/other</td>\n      <td>Report</td>\n      <td>17219.0</td>\n      <td>72 YR. OLD WOMAN TRANSFERRED FROM OSH S/P MI. ...</td>\n      <td>232719</td>\n    </tr>\n    <tr>\n      <th>1259857</th>\n      <td>1264494</td>\n      <td>305</td>\n      <td>133059.0</td>\n      <td>2125-04-28</td>\n      <td>2125-04-28 06:57:00</td>\n      <td>2125-04-28 07:02:00</td>\n      <td>Nursing/other</td>\n      <td>Report</td>\n      <td>17219.0</td>\n      <td>ADDENDUM\\n0600 C/O L. ARM PAIN RADIATING TO JA...</td>\n      <td>232719</td>\n    </tr>\n    <tr>\n      <th>1258610</th>\n      <td>1264495</td>\n      <td>305</td>\n      <td>133059.0</td>\n      <td>2125-04-28</td>\n      <td>2125-04-28 17:58:00</td>\n      <td>2125-04-28 18:26:00</td>\n      <td>Nursing/other</td>\n      <td>Report</td>\n      <td>19525.0</td>\n      <td>ccu nursing progress note\\ns: my body is no go...</td>\n      <td>232719</td>\n    </tr>\n  </tbody>\n</table>\n</div>"
     },
     "metadata": {},
     "execution_count": 33
    }
   ],
   "source": [
    "notes.head(5)"
   ]
  },
  {
   "cell_type": "code",
   "execution_count": 19,
   "metadata": {},
   "outputs": [],
   "source": [
    "def get_hours_func(intime):\n",
    "    def get_hours(chartdate):\n",
    "        if (intime > chartdate):\n",
    "            return np.nan\n",
    "        delta = (chartdate - intime)\n",
    "        hours = delta.days*24 + delta.seconds/3600\n",
    "        hours = max(0, hours)\n",
    "        return hours\n",
    "    return get_hours"
   ]
  },
  {
   "cell_type": "code",
   "execution_count": 34,
   "metadata": {},
   "outputs": [
    {
     "output_type": "stream",
     "name": "stdout",
     "text": [
      "2125-04-29 01:47:43\n2125-04-27 18:47:43\n"
     ]
    },
    {
     "output_type": "execute_result",
     "data": {
      "text/plain": [
       "31.0"
      ]
     },
     "metadata": {},
     "execution_count": 34
    }
   ],
   "source": [
    "import dateutil.parser\n",
    "#print(notes[\"CHARTTIME\"][1259602])\n",
    "#print(datetime.fromisoformat('2125-04-28 00:51:00'))\n",
    "chartdate = dateutil.parser.isoparse('2125-04-29T01:47:43')\n",
    "print(chartdate)\n",
    "print(stays[\"INTIME\"].iloc[0])\n",
    "get_hours_func(stays[\"INTIME\"].iloc[0])(chartdate)"
   ]
  },
  {
   "cell_type": "code",
   "execution_count": 35,
   "metadata": {},
   "outputs": [],
   "source": [
    "notes['HOURS'] = (notes.CHARTTIME - stays[\"INTIME\"].iloc[0]).apply(lambda s: s / np.timedelta64(1, 's')) / 60./60"
   ]
  },
  {
   "cell_type": "code",
   "execution_count": 36,
   "metadata": {},
   "outputs": [
    {
     "output_type": "execute_result",
     "data": {
      "text/plain": [
       "          ROW_ID  SUBJECT_ID   HADM_ID   CHARTDATE           CHARTTIME  \\\n",
       "1259602  1264491         305  133059.0  2125-04-27 2125-04-27 20:51:00   \n",
       "1259603  1264492         305  133059.0  2125-04-27 2125-04-27 22:22:00   \n",
       "1259856  1264493         305  133059.0  2125-04-28 2125-04-28 04:41:00   \n",
       "1259857  1264494         305  133059.0  2125-04-28 2125-04-28 06:57:00   \n",
       "1258610  1264495         305  133059.0  2125-04-28 2125-04-28 17:58:00   \n",
       "\n",
       "                   STORETIME       CATEGORY DESCRIPTION     CGID  \\\n",
       "1259602  2125-04-27 21:03:00  Nursing/other      Report  17079.0   \n",
       "1259603  2125-04-27 22:28:00  Nursing/other      Report  17079.0   \n",
       "1259856  2125-04-28 04:57:00  Nursing/other      Report  17219.0   \n",
       "1259857  2125-04-28 07:02:00  Nursing/other      Report  17219.0   \n",
       "1258610  2125-04-28 18:26:00  Nursing/other      Report  19525.0   \n",
       "\n",
       "                                                      TEXT  ICUSTAY_ID  \\\n",
       "1259602  Pt transfered from [**Hospital Ward Name 57**]...      232719   \n",
       "1259603  2130-2230\\nPt complained of chest pain radiati...      232719   \n",
       "1259856  72 YR. OLD WOMAN TRANSFERRED FROM OSH S/P MI. ...      232719   \n",
       "1259857  ADDENDUM\\n0600 C/O L. ARM PAIN RADIATING TO JA...      232719   \n",
       "1258610  ccu nursing progress note\\ns: my body is no go...      232719   \n",
       "\n",
       "             HOURS  \n",
       "1259602   2.054722  \n",
       "1259603   3.571389  \n",
       "1259856   9.888056  \n",
       "1259857  12.154722  \n",
       "1258610  23.171389  "
      ],
      "text/html": "<div>\n<style scoped>\n    .dataframe tbody tr th:only-of-type {\n        vertical-align: middle;\n    }\n\n    .dataframe tbody tr th {\n        vertical-align: top;\n    }\n\n    .dataframe thead th {\n        text-align: right;\n    }\n</style>\n<table border=\"1\" class=\"dataframe\">\n  <thead>\n    <tr style=\"text-align: right;\">\n      <th></th>\n      <th>ROW_ID</th>\n      <th>SUBJECT_ID</th>\n      <th>HADM_ID</th>\n      <th>CHARTDATE</th>\n      <th>CHARTTIME</th>\n      <th>STORETIME</th>\n      <th>CATEGORY</th>\n      <th>DESCRIPTION</th>\n      <th>CGID</th>\n      <th>TEXT</th>\n      <th>ICUSTAY_ID</th>\n      <th>HOURS</th>\n    </tr>\n  </thead>\n  <tbody>\n    <tr>\n      <th>1259602</th>\n      <td>1264491</td>\n      <td>305</td>\n      <td>133059.0</td>\n      <td>2125-04-27</td>\n      <td>2125-04-27 20:51:00</td>\n      <td>2125-04-27 21:03:00</td>\n      <td>Nursing/other</td>\n      <td>Report</td>\n      <td>17079.0</td>\n      <td>Pt transfered from [**Hospital Ward Name 57**]...</td>\n      <td>232719</td>\n      <td>2.054722</td>\n    </tr>\n    <tr>\n      <th>1259603</th>\n      <td>1264492</td>\n      <td>305</td>\n      <td>133059.0</td>\n      <td>2125-04-27</td>\n      <td>2125-04-27 22:22:00</td>\n      <td>2125-04-27 22:28:00</td>\n      <td>Nursing/other</td>\n      <td>Report</td>\n      <td>17079.0</td>\n      <td>2130-2230\\nPt complained of chest pain radiati...</td>\n      <td>232719</td>\n      <td>3.571389</td>\n    </tr>\n    <tr>\n      <th>1259856</th>\n      <td>1264493</td>\n      <td>305</td>\n      <td>133059.0</td>\n      <td>2125-04-28</td>\n      <td>2125-04-28 04:41:00</td>\n      <td>2125-04-28 04:57:00</td>\n      <td>Nursing/other</td>\n      <td>Report</td>\n      <td>17219.0</td>\n      <td>72 YR. OLD WOMAN TRANSFERRED FROM OSH S/P MI. ...</td>\n      <td>232719</td>\n      <td>9.888056</td>\n    </tr>\n    <tr>\n      <th>1259857</th>\n      <td>1264494</td>\n      <td>305</td>\n      <td>133059.0</td>\n      <td>2125-04-28</td>\n      <td>2125-04-28 06:57:00</td>\n      <td>2125-04-28 07:02:00</td>\n      <td>Nursing/other</td>\n      <td>Report</td>\n      <td>17219.0</td>\n      <td>ADDENDUM\\n0600 C/O L. ARM PAIN RADIATING TO JA...</td>\n      <td>232719</td>\n      <td>12.154722</td>\n    </tr>\n    <tr>\n      <th>1258610</th>\n      <td>1264495</td>\n      <td>305</td>\n      <td>133059.0</td>\n      <td>2125-04-28</td>\n      <td>2125-04-28 17:58:00</td>\n      <td>2125-04-28 18:26:00</td>\n      <td>Nursing/other</td>\n      <td>Report</td>\n      <td>19525.0</td>\n      <td>ccu nursing progress note\\ns: my body is no go...</td>\n      <td>232719</td>\n      <td>23.171389</td>\n    </tr>\n  </tbody>\n</table>\n</div>"
     },
     "metadata": {},
     "execution_count": 36
    }
   ],
   "source": [
    "notes.head(5)"
   ]
  },
  {
   "cell_type": "code",
   "execution_count": 45,
   "metadata": {},
   "outputs": [
    {
     "output_type": "stream",
     "name": "stdout",
     "text": [
      "no data for episode: 0\nno data for episode: 1\n"
     ]
    }
   ],
   "source": [
    "# reading tables of this subject\n",
    "stays = read_stays(os.path.join(args.subjects_root_path, subject_dir))\n",
    "diagnoses = read_diagnoses(os.path.join(args.subjects_root_path, subject_dir))\n",
    "events = read_events(os.path.join(args.subjects_root_path, subject_dir))\n",
    "\n",
    "if args.notes:\n",
    "    notes = all_notes[(all_notes[\"SUBJECT_ID\"] == subject_id) & (~pd.isnull(all_notes[\"CHARTTIME\"]))] \\\n",
    "                .sort_values([\"CHARTTIME\"])\n",
    "    notes[\"ICUSTAY_ID\"] = notes['CHARTTIME'].apply(get_icu_stay_from_dt_func(stays))\n",
    "    notes = notes[notes['ICUSTAY_ID'].notna()]\n",
    "\n",
    "episodic_data = assemble_episodic_data(stays, diagnoses)\n",
    "\n",
    "# cleaning and converting to time series\n",
    "events = map_itemids_to_variables(events, var_map)\n",
    "events = clean_events(events)\n",
    "if events.shape[0] == 0:\n",
    "    # no valid events for this subject\n",
    "    print(\"no valid events for this subject\")\n",
    "timeseries = convert_events_to_timeseries(events, variables=variables)\n",
    "\n",
    "# extracting separate episodes\n",
    "for i in range(stays.shape[0]):\n",
    "    stay_id = stays.ICUSTAY_ID.iloc[i]\n",
    "    intime = stays.INTIME.iloc[i]\n",
    "    outtime = stays.OUTTIME.iloc[i]\n",
    "\n",
    "    episode = get_events_for_stay(timeseries, stay_id, intime, outtime)\n",
    "    if episode.shape[0] == 0:\n",
    "        # no data for this episode\n",
    "        print(f\"no data for episode: {i}\")\n",
    "        continue\n",
    "\n",
    "    episode = add_hours_elpased_to_events(episode, intime).set_index('HOURS').sort_index(axis=0)\n",
    "    if stay_id in episodic_data.index:\n",
    "        episodic_data.loc[stay_id, 'Weight'] = get_first_valid_from_timeseries(episode, 'Weight')\n",
    "        episodic_data.loc[stay_id, 'Height'] = get_first_valid_from_timeseries(episode, 'Height')\n",
    "    episodic_data.loc[episodic_data.index == stay_id].to_csv(os.path.join(args.subjects_root_path, subject_dir,\n",
    "                                                                            'episode{}.csv'.format(i+1)),\n",
    "                                                                index_label='Icustay')\n",
    "    columns = list(episode.columns)\n",
    "    columns_sorted = sorted(columns, key=(lambda x: \"\" if x == \"Hours\" else x))\n",
    "    episode = episode[columns_sorted]\n",
    "    episode.to_csv(os.path.join(args.subjects_root_path, subject_dir, 'episode{}_timeseries.csv'.format(i+1)),\n",
    "                    index_label='Hours')\n",
    "\n",
    "    event_notes = notes[(notes[\"ICUSTAY_ID\"] == stay_id)].copy()\n",
    "    event_notes['HOURS'] = (event_notes.CHARTTIME - intime).apply(lambda s: s / np.timedelta64(1, 's')) / 60./60\n",
    "    event_notes = event_notes[[\"HOURS\", \"CATEGORY\", \"DESCRIPTION\", \"TEXT\"]].set_index('HOURS').sort_index(axis=0)\n",
    "    event_notes.to_csv(os.path.join(args.subjects_root_path, subject_dir, 'episode{}_notes.csv'.format(i+1)),\n",
    "                    index_label='Hours')"
   ]
  },
  {
   "cell_type": "code",
   "execution_count": 4,
   "metadata": {},
   "outputs": [
    {
     "output_type": "error",
     "ename": "ModuleNotFoundError",
     "evalue": "No module named '__main__.note_processing'; '__main__' is not a package",
     "traceback": [
      "\u001b[0;31m---------------------------------------------------------------------------\u001b[0m",
      "\u001b[0;31mModuleNotFoundError\u001b[0m                       Traceback (most recent call last)",
      "\u001b[0;32m<ipython-input-4-d66b486b136d>\u001b[0m in \u001b[0;36m<module>\u001b[0;34m()\u001b[0m\n\u001b[0;32m----> 1\u001b[0;31m \u001b[0;32mfrom\u001b[0m \u001b[0;34m.\u001b[0m\u001b[0mnote_processing\u001b[0m\u001b[0;34m.\u001b[0m\u001b[0mheuristic_tokenize\u001b[0m \u001b[0;32mimport\u001b[0m \u001b[0msent_tokenize_rules\u001b[0m\u001b[0;34m\u001b[0m\u001b[0;34m\u001b[0m\u001b[0m\n\u001b[0m",
      "\u001b[0;31mModuleNotFoundError\u001b[0m: No module named '__main__.note_processing'; '__main__' is not a package"
     ]
    }
   ],
   "source": [
    "from .note_processing.heuristic_tokenize import sent_tokenize_rules"
   ]
  },
  {
   "cell_type": "code",
   "execution_count": null,
   "metadata": {},
   "outputs": [],
   "source": []
  }
 ]
}