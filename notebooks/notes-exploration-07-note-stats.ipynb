{
 "metadata": {
  "language_info": {
   "codemirror_mode": {
    "name": "ipython",
    "version": 3
   },
   "file_extension": ".py",
   "mimetype": "text/x-python",
   "name": "python",
   "nbconvert_exporter": "python",
   "pygments_lexer": "ipython3",
   "version": "3.6.8"
  },
  "orig_nbformat": 2,
  "kernelspec": {
   "name": "python368jvsc74a57bd060aa7568c9db8113868ebef0220b161e96389b06f6ba9eb98d46b6b0f2cf6a72",
   "display_name": "Python 3.6.8 64-bit ('benchmark': conda)"
  }
 },
 "nbformat": 4,
 "nbformat_minor": 2,
 "cells": [
  {
   "cell_type": "code",
   "execution_count": 1,
   "metadata": {},
   "outputs": [],
   "source": [
    "import sys\n",
    "sys.path.append(\"../\") # go to parent dir"
   ]
  },
  {
   "cell_type": "code",
   "execution_count": 2,
   "metadata": {},
   "outputs": [],
   "source": [
    "import pandas as pd\n",
    "import sys\n",
    "import re\n",
    "import time\n",
    "import glob\n",
    "import os\n",
    "import seaborn as sns\n",
    "from tqdm import tqdm\n",
    "tqdm.pandas()\n"
   ]
  },
  {
   "cell_type": "code",
   "execution_count": 3,
   "metadata": {},
   "outputs": [],
   "source": [
    "# OUTPUT_DIR = Currently same as the input directory\n",
    "\n",
    "#'/mnt/data01/mimic-3/benchmark-notes/train'\n",
    "MIMIC_NOTES_PATHS = ['/mnt/data01/mimic-3/benchmark-notes/test', '/mnt/data01/mimic-3/benchmark-notes/train']  \n",
    "\n",
    "DEVICE = -1  # -1 is CPU otherwise the GPU device id"
   ]
  },
  {
   "cell_type": "code",
   "execution_count": 4,
   "metadata": {},
   "outputs": [
    {
     "output_type": "stream",
     "name": "stderr",
     "text": [
      "Load note files:   0%|          | 21/38202 [00:00<03:03, 208.20it/s]\n",
      "Total note files: 38202\n",
      "Load note files: 100%|██████████| 38202/38202 [02:19<00:00, 273.36it/s]\n",
      "Total notes: 724976\n"
     ]
    }
   ],
   "source": [
    "all_files = []\n",
    "\n",
    "for path in MIMIC_NOTES_PATHS:\n",
    "    files = glob.glob(path + \"/*/*_notes_sent.csv\")\n",
    "    all_files += files\n",
    "\n",
    "print(f\"\\nTotal note files: {len(all_files)}\")\n",
    "\n",
    "li = []\n",
    "\n",
    "for filename in tqdm(all_files, desc=\"Load note files\"):\n",
    "    df = pd.read_csv(filename, index_col=None, header=0)\n",
    "    df[\"filename\"] = filename\n",
    "    li.append(df)\n",
    "\n",
    "notes = pd.concat(li, axis=0, ignore_index=True)\n",
    "notes.describe(include=\"all\")\n",
    "\n",
    "print(f\"Total notes: {len(notes)}\")\n"
   ]
  },
  {
   "cell_type": "code",
   "execution_count": 5,
   "metadata": {},
   "outputs": [],
   "source": [
    "# Add patient to the table\n",
    "notes[\"PATIENT_ID\"] = notes[\"filename\"].apply(lambda x: int(re.findall(r'/[0-9]+/', x)[-1][1:-1]))\n",
    "\n",
    "# Add episode to the table\n",
    "notes[\"EPISODE_ID\"] = notes[\"filename\"].apply(lambda x: int(re.findall(r'episode[0-9]+_', x)[-1][7:-1]))\n"
   ]
  },
  {
   "cell_type": "code",
   "execution_count": 12,
   "metadata": {},
   "outputs": [
    {
     "output_type": "execute_result",
     "data": {
      "text/plain": [
       "31285"
      ]
     },
     "metadata": {},
     "execution_count": 12
    }
   ],
   "source": [
    "len(notes[\"PATIENT_ID\"].unique())"
   ]
  },
  {
   "cell_type": "code",
   "execution_count": 8,
   "metadata": {},
   "outputs": [
    {
     "output_type": "execute_result",
     "data": {
      "text/plain": [
       "            CATEGORY   Hours\n",
       "0   Case Management      718\n",
       "1            Consult      69\n",
       "2            General    5892\n",
       "3            Nursing  160092\n",
       "4      Nursing/other  277772\n",
       "5          Nutrition    6458\n",
       "6           Pharmacy      68\n",
       "7         Physician   101678\n",
       "8          Radiology  144810\n",
       "9     Rehab Services    3643\n",
       "10      Respiratory    21867\n",
       "11       Social Work    1909"
      ],
      "text/html": "<div>\n<style scoped>\n    .dataframe tbody tr th:only-of-type {\n        vertical-align: middle;\n    }\n\n    .dataframe tbody tr th {\n        vertical-align: top;\n    }\n\n    .dataframe thead th {\n        text-align: right;\n    }\n</style>\n<table border=\"1\" class=\"dataframe\">\n  <thead>\n    <tr style=\"text-align: right;\">\n      <th></th>\n      <th>CATEGORY</th>\n      <th>Hours</th>\n    </tr>\n  </thead>\n  <tbody>\n    <tr>\n      <th>0</th>\n      <td>Case Management</td>\n      <td>718</td>\n    </tr>\n    <tr>\n      <th>1</th>\n      <td>Consult</td>\n      <td>69</td>\n    </tr>\n    <tr>\n      <th>2</th>\n      <td>General</td>\n      <td>5892</td>\n    </tr>\n    <tr>\n      <th>3</th>\n      <td>Nursing</td>\n      <td>160092</td>\n    </tr>\n    <tr>\n      <th>4</th>\n      <td>Nursing/other</td>\n      <td>277772</td>\n    </tr>\n    <tr>\n      <th>5</th>\n      <td>Nutrition</td>\n      <td>6458</td>\n    </tr>\n    <tr>\n      <th>6</th>\n      <td>Pharmacy</td>\n      <td>68</td>\n    </tr>\n    <tr>\n      <th>7</th>\n      <td>Physician</td>\n      <td>101678</td>\n    </tr>\n    <tr>\n      <th>8</th>\n      <td>Radiology</td>\n      <td>144810</td>\n    </tr>\n    <tr>\n      <th>9</th>\n      <td>Rehab Services</td>\n      <td>3643</td>\n    </tr>\n    <tr>\n      <th>10</th>\n      <td>Respiratory</td>\n      <td>21867</td>\n    </tr>\n    <tr>\n      <th>11</th>\n      <td>Social Work</td>\n      <td>1909</td>\n    </tr>\n  </tbody>\n</table>\n</div>"
     },
     "metadata": {},
     "execution_count": 8
    }
   ],
   "source": [
    "notes[[\"Hours\", \"CATEGORY\"]].groupby(\"CATEGORY\", as_index=False).agg('count')"
   ]
  },
  {
   "cell_type": "code",
   "execution_count": 13,
   "metadata": {
    "tags": []
   },
   "outputs": [
    {
     "output_type": "stream",
     "name": "stdout",
     "text": [
      "Number of notes: 582674\n"
     ]
    }
   ],
   "source": [
    "# Restrict the number of notes for processing\n",
    "\n",
    "category = [\"Nursing\", \"Nursing/other\", \"Radiology\"]  # or None\n",
    "# category = [\"Nursing/other\"]  # or None\n",
    "#category = None\n",
    "\n",
    "if category != None:\n",
    "    notes = notes[notes['CATEGORY'].isin(category)]\n",
    "\n",
    "print('Number of notes: %d' %len(notes.index))\n",
    "\n",
    "# nlp = spacy.load('en_core_sci_md', disable=['tagger','ner', 'lemmatizer'])\n",
    "# nlp.add_pipe('sbd_component', before='parser')  "
   ]
  },
  {
   "cell_type": "code",
   "execution_count": 11,
   "metadata": {},
   "outputs": [
    {
     "output_type": "execute_result",
     "data": {
      "text/plain": [
       "          Hours       CATEGORY DESCRIPTION  \\\n",
       "6730   9.737778  Nursing/other      Report   \n",
       "6731  21.637778  Nursing/other      Report   \n",
       "6732  23.021111  Nursing/other      Report   \n",
       "6733  31.871111  Nursing/other      Report   \n",
       "6734  47.037778  Nursing/other      Report   \n",
       "\n",
       "                                                   TEXT  \\\n",
       "6730  NARRATIVE NOTE: PT WAS ADM HERE FROM\\n[**Hospi...   \n",
       "6731  NPN Days 0700-1900\\nNeuro: Pt continues to exp...   \n",
       "6732  Addendum to Day note:\\nID: pt remains on Cefep...   \n",
       "6733  NPN 1900 -0700\\nNEURO: [**Last Name (un) 9599*...   \n",
       "6734  NPN Days 0700-\\n1900 Pt had extremely difficul...   \n",
       "\n",
       "                                               filename  PATIENT_ID  \\\n",
       "6730  /mnt/data01/mimic-3/benchmark-notes/test/26523...       26523   \n",
       "6731  /mnt/data01/mimic-3/benchmark-notes/test/26523...       26523   \n",
       "6732  /mnt/data01/mimic-3/benchmark-notes/test/26523...       26523   \n",
       "6733  /mnt/data01/mimic-3/benchmark-notes/test/26523...       26523   \n",
       "6734  /mnt/data01/mimic-3/benchmark-notes/test/26523...       26523   \n",
       "\n",
       "      EPISODE_ID  \n",
       "6730           7  \n",
       "6731           7  \n",
       "6732           7  \n",
       "6733           7  \n",
       "6734           7  "
      ],
      "text/html": "<div>\n<style scoped>\n    .dataframe tbody tr th:only-of-type {\n        vertical-align: middle;\n    }\n\n    .dataframe tbody tr th {\n        vertical-align: top;\n    }\n\n    .dataframe thead th {\n        text-align: right;\n    }\n</style>\n<table border=\"1\" class=\"dataframe\">\n  <thead>\n    <tr style=\"text-align: right;\">\n      <th></th>\n      <th>Hours</th>\n      <th>CATEGORY</th>\n      <th>DESCRIPTION</th>\n      <th>TEXT</th>\n      <th>filename</th>\n      <th>PATIENT_ID</th>\n      <th>EPISODE_ID</th>\n    </tr>\n  </thead>\n  <tbody>\n    <tr>\n      <th>6730</th>\n      <td>9.737778</td>\n      <td>Nursing/other</td>\n      <td>Report</td>\n      <td>NARRATIVE NOTE: PT WAS ADM HERE FROM\\n[**Hospi...</td>\n      <td>/mnt/data01/mimic-3/benchmark-notes/test/26523...</td>\n      <td>26523</td>\n      <td>7</td>\n    </tr>\n    <tr>\n      <th>6731</th>\n      <td>21.637778</td>\n      <td>Nursing/other</td>\n      <td>Report</td>\n      <td>NPN Days 0700-1900\\nNeuro: Pt continues to exp...</td>\n      <td>/mnt/data01/mimic-3/benchmark-notes/test/26523...</td>\n      <td>26523</td>\n      <td>7</td>\n    </tr>\n    <tr>\n      <th>6732</th>\n      <td>23.021111</td>\n      <td>Nursing/other</td>\n      <td>Report</td>\n      <td>Addendum to Day note:\\nID: pt remains on Cefep...</td>\n      <td>/mnt/data01/mimic-3/benchmark-notes/test/26523...</td>\n      <td>26523</td>\n      <td>7</td>\n    </tr>\n    <tr>\n      <th>6733</th>\n      <td>31.871111</td>\n      <td>Nursing/other</td>\n      <td>Report</td>\n      <td>NPN 1900 -0700\\nNEURO: [**Last Name (un) 9599*...</td>\n      <td>/mnt/data01/mimic-3/benchmark-notes/test/26523...</td>\n      <td>26523</td>\n      <td>7</td>\n    </tr>\n    <tr>\n      <th>6734</th>\n      <td>47.037778</td>\n      <td>Nursing/other</td>\n      <td>Report</td>\n      <td>NPN Days 0700-\\n1900 Pt had extremely difficul...</td>\n      <td>/mnt/data01/mimic-3/benchmark-notes/test/26523...</td>\n      <td>26523</td>\n      <td>7</td>\n    </tr>\n  </tbody>\n</table>\n</div>"
     },
     "metadata": {},
     "execution_count": 11
    }
   ],
   "source": [
    "notes[notes[\"EPISODE_ID\"] > 5].head(5)"
   ]
  },
  {
   "cell_type": "code",
   "execution_count": 16,
   "metadata": {},
   "outputs": [
    {
     "output_type": "execute_result",
     "data": {
      "text/plain": [
       "DataTransformerRegistry.enable('json')"
      ]
     },
     "metadata": {},
     "execution_count": 16
    }
   ],
   "source": [
    "alt.data_transformers.enable('json')"
   ]
  },
  {
   "cell_type": "code",
   "execution_count": 20,
   "metadata": {},
   "outputs": [
    {
     "output_type": "stream",
     "name": "stderr",
     "text": [
      "ipykernel_launcher:3: UserWarning: FixedFormatter should only be used together with FixedLocator\n"
     ]
    },
    {
     "output_type": "execute_result",
     "data": {
      "text/plain": [
       "[Text(0, 0.0, '0.00K'),\n",
       " Text(0, 50000.0, '50.00K'),\n",
       " Text(0, 100000.0, '100.00K'),\n",
       " Text(0, 150000.0, '150.00K'),\n",
       " Text(0, 200000.0, '200.00K'),\n",
       " Text(0, 250000.0, '250.00K'),\n",
       " Text(0, 300000.0, '300.00K')]"
      ]
     },
     "metadata": {},
     "execution_count": 20
    },
    {
     "output_type": "display_data",
     "data": {
      "text/plain": "<Figure size 432x288 with 1 Axes>",
      "image/svg+xml": "<?xml version=\"1.0\" encoding=\"utf-8\" standalone=\"no\"?>\n<!DOCTYPE svg PUBLIC \"-//W3C//DTD SVG 1.1//EN\"\n  \"http://www.w3.org/Graphics/SVG/1.1/DTD/svg11.dtd\">\n<!-- Created with matplotlib (https://matplotlib.org/) -->\n<svg height=\"262.19625pt\" version=\"1.1\" viewBox=\"0 0 411.426562 262.19625\" width=\"411.426562pt\" xmlns=\"http://www.w3.org/2000/svg\" xmlns:xlink=\"http://www.w3.org/1999/xlink\">\n <metadata>\n  <rdf:RDF xmlns:cc=\"http://creativecommons.org/ns#\" xmlns:dc=\"http://purl.org/dc/elements/1.1/\" xmlns:rdf=\"http://www.w3.org/1999/02/22-rdf-syntax-ns#\">\n   <cc:Work>\n    <dc:type rdf:resource=\"http://purl.org/dc/dcmitype/StillImage\"/>\n    <dc:date>2021-05-07T05:31:42.587091</dc:date>\n    <dc:format>image/svg+xml</dc:format>\n    <dc:creator>\n     <cc:Agent>\n      <dc:title>Matplotlib v3.3.4, https://matplotlib.org/</dc:title>\n     </cc:Agent>\n    </dc:creator>\n   </cc:Work>\n  </rdf:RDF>\n </metadata>\n <defs>\n  <style type=\"text/css\">*{stroke-linecap:butt;stroke-linejoin:round;}</style>\n </defs>\n <g id=\"figure_1\">\n  <g id=\"patch_1\">\n   <path d=\"M 0 262.19625 \nL 411.426562 262.19625 \nL 411.426562 0 \nL 0 0 \nz\n\" style=\"fill:none;\"/>\n  </g>\n  <g id=\"axes_1\">\n   <g id=\"patch_2\">\n    <path d=\"M 69.426563 224.64 \nL 404.226562 224.64 \nL 404.226562 7.2 \nL 69.426563 7.2 \nz\n\" style=\"fill:#ffffff;\"/>\n   </g>\n   <g id=\"patch_3\">\n    <path clip-path=\"url(#pa4dbf4fe0a)\" d=\"M 84.644744 224.64 \nL 186.09929 224.64 \nL 186.09929 116.680658 \nL 84.644744 116.680658 \nz\n\" style=\"fill:#1f77b4;fill-opacity:0.75;stroke:#000000;stroke-linejoin:miter;\"/>\n   </g>\n   <g id=\"patch_4\">\n    <path clip-path=\"url(#pa4dbf4fe0a)\" d=\"M 186.09929 224.64 \nL 287.553835 224.64 \nL 287.553835 17.554286 \nL 186.09929 17.554286 \nz\n\" style=\"fill:#1f77b4;fill-opacity:0.75;stroke:#000000;stroke-linejoin:miter;\"/>\n   </g>\n   <g id=\"patch_5\">\n    <path clip-path=\"url(#pa4dbf4fe0a)\" d=\"M 287.553835 224.64 \nL 389.008381 224.64 \nL 389.008381 105.287559 \nL 287.553835 105.287559 \nz\n\" style=\"fill:#1f77b4;fill-opacity:0.75;stroke:#000000;stroke-linejoin:miter;\"/>\n   </g>\n   <g id=\"matplotlib.axis_1\">\n    <g id=\"xtick_1\">\n     <g id=\"line2d_1\">\n      <defs>\n       <path d=\"M 0 0 \nL 0 3.5 \n\" id=\"m2f7fb4af29\" style=\"stroke:#000000;stroke-width:0.8;\"/>\n      </defs>\n      <g>\n       <use style=\"stroke:#000000;stroke-width:0.8;\" x=\"135.372017\" xlink:href=\"#m2f7fb4af29\" y=\"224.64\"/>\n      </g>\n     </g>\n     <g id=\"text_1\">\n      <!-- Radiology -->\n      <g transform=\"translate(110.741548 239.238437)scale(0.1 -0.1)\">\n       <defs>\n        <path d=\"M 44.390625 34.1875 \nQ 47.5625 33.109375 50.5625 29.59375 \nQ 53.5625 26.078125 56.59375 19.921875 \nL 66.609375 0 \nL 56 0 \nL 46.6875 18.703125 \nQ 43.0625 26.03125 39.671875 28.421875 \nQ 36.28125 30.8125 30.421875 30.8125 \nL 19.671875 30.8125 \nL 19.671875 0 \nL 9.8125 0 \nL 9.8125 72.90625 \nL 32.078125 72.90625 \nQ 44.578125 72.90625 50.734375 67.671875 \nQ 56.890625 62.453125 56.890625 51.90625 \nQ 56.890625 45.015625 53.6875 40.46875 \nQ 50.484375 35.9375 44.390625 34.1875 \nz\nM 19.671875 64.796875 \nL 19.671875 38.921875 \nL 32.078125 38.921875 \nQ 39.203125 38.921875 42.84375 42.21875 \nQ 46.484375 45.515625 46.484375 51.90625 \nQ 46.484375 58.296875 42.84375 61.546875 \nQ 39.203125 64.796875 32.078125 64.796875 \nz\n\" id=\"DejaVuSans-82\"/>\n        <path d=\"M 34.28125 27.484375 \nQ 23.390625 27.484375 19.1875 25 \nQ 14.984375 22.515625 14.984375 16.5 \nQ 14.984375 11.71875 18.140625 8.90625 \nQ 21.296875 6.109375 26.703125 6.109375 \nQ 34.1875 6.109375 38.703125 11.40625 \nQ 43.21875 16.703125 43.21875 25.484375 \nL 43.21875 27.484375 \nz\nM 52.203125 31.203125 \nL 52.203125 0 \nL 43.21875 0 \nL 43.21875 8.296875 \nQ 40.140625 3.328125 35.546875 0.953125 \nQ 30.953125 -1.421875 24.3125 -1.421875 \nQ 15.921875 -1.421875 10.953125 3.296875 \nQ 6 8.015625 6 15.921875 \nQ 6 25.140625 12.171875 29.828125 \nQ 18.359375 34.515625 30.609375 34.515625 \nL 43.21875 34.515625 \nL 43.21875 35.40625 \nQ 43.21875 41.609375 39.140625 45 \nQ 35.0625 48.390625 27.6875 48.390625 \nQ 23 48.390625 18.546875 47.265625 \nQ 14.109375 46.140625 10.015625 43.890625 \nL 10.015625 52.203125 \nQ 14.9375 54.109375 19.578125 55.046875 \nQ 24.21875 56 28.609375 56 \nQ 40.484375 56 46.34375 49.84375 \nQ 52.203125 43.703125 52.203125 31.203125 \nz\n\" id=\"DejaVuSans-97\"/>\n        <path d=\"M 45.40625 46.390625 \nL 45.40625 75.984375 \nL 54.390625 75.984375 \nL 54.390625 0 \nL 45.40625 0 \nL 45.40625 8.203125 \nQ 42.578125 3.328125 38.25 0.953125 \nQ 33.9375 -1.421875 27.875 -1.421875 \nQ 17.96875 -1.421875 11.734375 6.484375 \nQ 5.515625 14.40625 5.515625 27.296875 \nQ 5.515625 40.1875 11.734375 48.09375 \nQ 17.96875 56 27.875 56 \nQ 33.9375 56 38.25 53.625 \nQ 42.578125 51.265625 45.40625 46.390625 \nz\nM 14.796875 27.296875 \nQ 14.796875 17.390625 18.875 11.75 \nQ 22.953125 6.109375 30.078125 6.109375 \nQ 37.203125 6.109375 41.296875 11.75 \nQ 45.40625 17.390625 45.40625 27.296875 \nQ 45.40625 37.203125 41.296875 42.84375 \nQ 37.203125 48.484375 30.078125 48.484375 \nQ 22.953125 48.484375 18.875 42.84375 \nQ 14.796875 37.203125 14.796875 27.296875 \nz\n\" id=\"DejaVuSans-100\"/>\n        <path d=\"M 9.421875 54.6875 \nL 18.40625 54.6875 \nL 18.40625 0 \nL 9.421875 0 \nz\nM 9.421875 75.984375 \nL 18.40625 75.984375 \nL 18.40625 64.59375 \nL 9.421875 64.59375 \nz\n\" id=\"DejaVuSans-105\"/>\n        <path d=\"M 30.609375 48.390625 \nQ 23.390625 48.390625 19.1875 42.75 \nQ 14.984375 37.109375 14.984375 27.296875 \nQ 14.984375 17.484375 19.15625 11.84375 \nQ 23.34375 6.203125 30.609375 6.203125 \nQ 37.796875 6.203125 41.984375 11.859375 \nQ 46.1875 17.53125 46.1875 27.296875 \nQ 46.1875 37.015625 41.984375 42.703125 \nQ 37.796875 48.390625 30.609375 48.390625 \nz\nM 30.609375 56 \nQ 42.328125 56 49.015625 48.375 \nQ 55.71875 40.765625 55.71875 27.296875 \nQ 55.71875 13.875 49.015625 6.21875 \nQ 42.328125 -1.421875 30.609375 -1.421875 \nQ 18.84375 -1.421875 12.171875 6.21875 \nQ 5.515625 13.875 5.515625 27.296875 \nQ 5.515625 40.765625 12.171875 48.375 \nQ 18.84375 56 30.609375 56 \nz\n\" id=\"DejaVuSans-111\"/>\n        <path d=\"M 9.421875 75.984375 \nL 18.40625 75.984375 \nL 18.40625 0 \nL 9.421875 0 \nz\n\" id=\"DejaVuSans-108\"/>\n        <path d=\"M 45.40625 27.984375 \nQ 45.40625 37.75 41.375 43.109375 \nQ 37.359375 48.484375 30.078125 48.484375 \nQ 22.859375 48.484375 18.828125 43.109375 \nQ 14.796875 37.75 14.796875 27.984375 \nQ 14.796875 18.265625 18.828125 12.890625 \nQ 22.859375 7.515625 30.078125 7.515625 \nQ 37.359375 7.515625 41.375 12.890625 \nQ 45.40625 18.265625 45.40625 27.984375 \nz\nM 54.390625 6.78125 \nQ 54.390625 -7.171875 48.1875 -13.984375 \nQ 42 -20.796875 29.203125 -20.796875 \nQ 24.46875 -20.796875 20.265625 -20.09375 \nQ 16.0625 -19.390625 12.109375 -17.921875 \nL 12.109375 -9.1875 \nQ 16.0625 -11.328125 19.921875 -12.34375 \nQ 23.78125 -13.375 27.78125 -13.375 \nQ 36.625 -13.375 41.015625 -8.765625 \nQ 45.40625 -4.15625 45.40625 5.171875 \nL 45.40625 9.625 \nQ 42.625 4.78125 38.28125 2.390625 \nQ 33.9375 0 27.875 0 \nQ 17.828125 0 11.671875 7.65625 \nQ 5.515625 15.328125 5.515625 27.984375 \nQ 5.515625 40.671875 11.671875 48.328125 \nQ 17.828125 56 27.875 56 \nQ 33.9375 56 38.28125 53.609375 \nQ 42.625 51.21875 45.40625 46.390625 \nL 45.40625 54.6875 \nL 54.390625 54.6875 \nz\n\" id=\"DejaVuSans-103\"/>\n        <path d=\"M 32.171875 -5.078125 \nQ 28.375 -14.84375 24.75 -17.8125 \nQ 21.140625 -20.796875 15.09375 -20.796875 \nL 7.90625 -20.796875 \nL 7.90625 -13.28125 \nL 13.1875 -13.28125 \nQ 16.890625 -13.28125 18.9375 -11.515625 \nQ 21 -9.765625 23.484375 -3.21875 \nL 25.09375 0.875 \nL 2.984375 54.6875 \nL 12.5 54.6875 \nL 29.59375 11.921875 \nL 46.6875 54.6875 \nL 56.203125 54.6875 \nz\n\" id=\"DejaVuSans-121\"/>\n       </defs>\n       <use xlink:href=\"#DejaVuSans-82\"/>\n       <use x=\"67.232422\" xlink:href=\"#DejaVuSans-97\"/>\n       <use x=\"128.511719\" xlink:href=\"#DejaVuSans-100\"/>\n       <use x=\"191.988281\" xlink:href=\"#DejaVuSans-105\"/>\n       <use x=\"219.771484\" xlink:href=\"#DejaVuSans-111\"/>\n       <use x=\"280.953125\" xlink:href=\"#DejaVuSans-108\"/>\n       <use x=\"308.736328\" xlink:href=\"#DejaVuSans-111\"/>\n       <use x=\"369.917969\" xlink:href=\"#DejaVuSans-103\"/>\n       <use x=\"433.394531\" xlink:href=\"#DejaVuSans-121\"/>\n      </g>\n     </g>\n    </g>\n    <g id=\"xtick_2\">\n     <g id=\"line2d_2\">\n      <g>\n       <use style=\"stroke:#000000;stroke-width:0.8;\" x=\"236.826563\" xlink:href=\"#m2f7fb4af29\" y=\"224.64\"/>\n      </g>\n     </g>\n     <g id=\"text_2\">\n      <!-- Nursing/other -->\n      <g transform=\"translate(202.520313 239.238437)scale(0.1 -0.1)\">\n       <defs>\n        <path d=\"M 9.8125 72.90625 \nL 23.09375 72.90625 \nL 55.421875 11.921875 \nL 55.421875 72.90625 \nL 64.984375 72.90625 \nL 64.984375 0 \nL 51.703125 0 \nL 19.390625 60.984375 \nL 19.390625 0 \nL 9.8125 0 \nz\n\" id=\"DejaVuSans-78\"/>\n        <path d=\"M 8.5 21.578125 \nL 8.5 54.6875 \nL 17.484375 54.6875 \nL 17.484375 21.921875 \nQ 17.484375 14.15625 20.5 10.265625 \nQ 23.53125 6.390625 29.59375 6.390625 \nQ 36.859375 6.390625 41.078125 11.03125 \nQ 45.3125 15.671875 45.3125 23.6875 \nL 45.3125 54.6875 \nL 54.296875 54.6875 \nL 54.296875 0 \nL 45.3125 0 \nL 45.3125 8.40625 \nQ 42.046875 3.421875 37.71875 1 \nQ 33.40625 -1.421875 27.6875 -1.421875 \nQ 18.265625 -1.421875 13.375 4.4375 \nQ 8.5 10.296875 8.5 21.578125 \nz\nM 31.109375 56 \nz\n\" id=\"DejaVuSans-117\"/>\n        <path d=\"M 41.109375 46.296875 \nQ 39.59375 47.171875 37.8125 47.578125 \nQ 36.03125 48 33.890625 48 \nQ 26.265625 48 22.1875 43.046875 \nQ 18.109375 38.09375 18.109375 28.8125 \nL 18.109375 0 \nL 9.078125 0 \nL 9.078125 54.6875 \nL 18.109375 54.6875 \nL 18.109375 46.1875 \nQ 20.953125 51.171875 25.484375 53.578125 \nQ 30.03125 56 36.53125 56 \nQ 37.453125 56 38.578125 55.875 \nQ 39.703125 55.765625 41.0625 55.515625 \nz\n\" id=\"DejaVuSans-114\"/>\n        <path d=\"M 44.28125 53.078125 \nL 44.28125 44.578125 \nQ 40.484375 46.53125 36.375 47.5 \nQ 32.28125 48.484375 27.875 48.484375 \nQ 21.1875 48.484375 17.84375 46.4375 \nQ 14.5 44.390625 14.5 40.28125 \nQ 14.5 37.15625 16.890625 35.375 \nQ 19.28125 33.59375 26.515625 31.984375 \nL 29.59375 31.296875 \nQ 39.15625 29.25 43.1875 25.515625 \nQ 47.21875 21.78125 47.21875 15.09375 \nQ 47.21875 7.46875 41.1875 3.015625 \nQ 35.15625 -1.421875 24.609375 -1.421875 \nQ 20.21875 -1.421875 15.453125 -0.5625 \nQ 10.6875 0.296875 5.421875 2 \nL 5.421875 11.28125 \nQ 10.40625 8.6875 15.234375 7.390625 \nQ 20.0625 6.109375 24.8125 6.109375 \nQ 31.15625 6.109375 34.5625 8.28125 \nQ 37.984375 10.453125 37.984375 14.40625 \nQ 37.984375 18.0625 35.515625 20.015625 \nQ 33.0625 21.96875 24.703125 23.78125 \nL 21.578125 24.515625 \nQ 13.234375 26.265625 9.515625 29.90625 \nQ 5.8125 33.546875 5.8125 39.890625 \nQ 5.8125 47.609375 11.28125 51.796875 \nQ 16.75 56 26.8125 56 \nQ 31.78125 56 36.171875 55.265625 \nQ 40.578125 54.546875 44.28125 53.078125 \nz\n\" id=\"DejaVuSans-115\"/>\n        <path d=\"M 54.890625 33.015625 \nL 54.890625 0 \nL 45.90625 0 \nL 45.90625 32.71875 \nQ 45.90625 40.484375 42.875 44.328125 \nQ 39.84375 48.1875 33.796875 48.1875 \nQ 26.515625 48.1875 22.3125 43.546875 \nQ 18.109375 38.921875 18.109375 30.90625 \nL 18.109375 0 \nL 9.078125 0 \nL 9.078125 54.6875 \nL 18.109375 54.6875 \nL 18.109375 46.1875 \nQ 21.34375 51.125 25.703125 53.5625 \nQ 30.078125 56 35.796875 56 \nQ 45.21875 56 50.046875 50.171875 \nQ 54.890625 44.34375 54.890625 33.015625 \nz\n\" id=\"DejaVuSans-110\"/>\n        <path d=\"M 25.390625 72.90625 \nL 33.6875 72.90625 \nL 8.296875 -9.28125 \nL 0 -9.28125 \nz\n\" id=\"DejaVuSans-47\"/>\n        <path d=\"M 18.3125 70.21875 \nL 18.3125 54.6875 \nL 36.8125 54.6875 \nL 36.8125 47.703125 \nL 18.3125 47.703125 \nL 18.3125 18.015625 \nQ 18.3125 11.328125 20.140625 9.421875 \nQ 21.96875 7.515625 27.59375 7.515625 \nL 36.8125 7.515625 \nL 36.8125 0 \nL 27.59375 0 \nQ 17.1875 0 13.234375 3.875 \nQ 9.28125 7.765625 9.28125 18.015625 \nL 9.28125 47.703125 \nL 2.6875 47.703125 \nL 2.6875 54.6875 \nL 9.28125 54.6875 \nL 9.28125 70.21875 \nz\n\" id=\"DejaVuSans-116\"/>\n        <path d=\"M 54.890625 33.015625 \nL 54.890625 0 \nL 45.90625 0 \nL 45.90625 32.71875 \nQ 45.90625 40.484375 42.875 44.328125 \nQ 39.84375 48.1875 33.796875 48.1875 \nQ 26.515625 48.1875 22.3125 43.546875 \nQ 18.109375 38.921875 18.109375 30.90625 \nL 18.109375 0 \nL 9.078125 0 \nL 9.078125 75.984375 \nL 18.109375 75.984375 \nL 18.109375 46.1875 \nQ 21.34375 51.125 25.703125 53.5625 \nQ 30.078125 56 35.796875 56 \nQ 45.21875 56 50.046875 50.171875 \nQ 54.890625 44.34375 54.890625 33.015625 \nz\n\" id=\"DejaVuSans-104\"/>\n        <path d=\"M 56.203125 29.59375 \nL 56.203125 25.203125 \nL 14.890625 25.203125 \nQ 15.484375 15.921875 20.484375 11.0625 \nQ 25.484375 6.203125 34.421875 6.203125 \nQ 39.59375 6.203125 44.453125 7.46875 \nQ 49.3125 8.734375 54.109375 11.28125 \nL 54.109375 2.78125 \nQ 49.265625 0.734375 44.1875 -0.34375 \nQ 39.109375 -1.421875 33.890625 -1.421875 \nQ 20.796875 -1.421875 13.15625 6.1875 \nQ 5.515625 13.8125 5.515625 26.8125 \nQ 5.515625 40.234375 12.765625 48.109375 \nQ 20.015625 56 32.328125 56 \nQ 43.359375 56 49.78125 48.890625 \nQ 56.203125 41.796875 56.203125 29.59375 \nz\nM 47.21875 32.234375 \nQ 47.125 39.59375 43.09375 43.984375 \nQ 39.0625 48.390625 32.421875 48.390625 \nQ 24.90625 48.390625 20.390625 44.140625 \nQ 15.875 39.890625 15.1875 32.171875 \nz\n\" id=\"DejaVuSans-101\"/>\n       </defs>\n       <use xlink:href=\"#DejaVuSans-78\"/>\n       <use x=\"74.804688\" xlink:href=\"#DejaVuSans-117\"/>\n       <use x=\"138.183594\" xlink:href=\"#DejaVuSans-114\"/>\n       <use x=\"179.296875\" xlink:href=\"#DejaVuSans-115\"/>\n       <use x=\"231.396484\" xlink:href=\"#DejaVuSans-105\"/>\n       <use x=\"259.179688\" xlink:href=\"#DejaVuSans-110\"/>\n       <use x=\"322.558594\" xlink:href=\"#DejaVuSans-103\"/>\n       <use x=\"386.035156\" xlink:href=\"#DejaVuSans-47\"/>\n       <use x=\"419.726562\" xlink:href=\"#DejaVuSans-111\"/>\n       <use x=\"480.908203\" xlink:href=\"#DejaVuSans-116\"/>\n       <use x=\"520.117188\" xlink:href=\"#DejaVuSans-104\"/>\n       <use x=\"583.496094\" xlink:href=\"#DejaVuSans-101\"/>\n       <use x=\"645.019531\" xlink:href=\"#DejaVuSans-114\"/>\n      </g>\n     </g>\n    </g>\n    <g id=\"xtick_3\">\n     <g id=\"line2d_3\">\n      <g>\n       <use style=\"stroke:#000000;stroke-width:0.8;\" x=\"338.281108\" xlink:href=\"#m2f7fb4af29\" y=\"224.64\"/>\n      </g>\n     </g>\n     <g id=\"text_3\">\n      <!-- Nursing -->\n      <g transform=\"translate(318.979545 239.238437)scale(0.1 -0.1)\">\n       <use xlink:href=\"#DejaVuSans-78\"/>\n       <use x=\"74.804688\" xlink:href=\"#DejaVuSans-117\"/>\n       <use x=\"138.183594\" xlink:href=\"#DejaVuSans-114\"/>\n       <use x=\"179.296875\" xlink:href=\"#DejaVuSans-115\"/>\n       <use x=\"231.396484\" xlink:href=\"#DejaVuSans-105\"/>\n       <use x=\"259.179688\" xlink:href=\"#DejaVuSans-110\"/>\n       <use x=\"322.558594\" xlink:href=\"#DejaVuSans-103\"/>\n      </g>\n     </g>\n    </g>\n    <g id=\"text_4\">\n     <!-- CATEGORY -->\n     <g transform=\"translate(210.069531 252.916562)scale(0.1 -0.1)\">\n      <defs>\n       <path d=\"M 64.40625 67.28125 \nL 64.40625 56.890625 \nQ 59.421875 61.53125 53.78125 63.8125 \nQ 48.140625 66.109375 41.796875 66.109375 \nQ 29.296875 66.109375 22.65625 58.46875 \nQ 16.015625 50.828125 16.015625 36.375 \nQ 16.015625 21.96875 22.65625 14.328125 \nQ 29.296875 6.6875 41.796875 6.6875 \nQ 48.140625 6.6875 53.78125 8.984375 \nQ 59.421875 11.28125 64.40625 15.921875 \nL 64.40625 5.609375 \nQ 59.234375 2.09375 53.4375 0.328125 \nQ 47.65625 -1.421875 41.21875 -1.421875 \nQ 24.65625 -1.421875 15.125 8.703125 \nQ 5.609375 18.84375 5.609375 36.375 \nQ 5.609375 53.953125 15.125 64.078125 \nQ 24.65625 74.21875 41.21875 74.21875 \nQ 47.75 74.21875 53.53125 72.484375 \nQ 59.328125 70.75 64.40625 67.28125 \nz\n\" id=\"DejaVuSans-67\"/>\n       <path d=\"M 34.1875 63.1875 \nL 20.796875 26.90625 \nL 47.609375 26.90625 \nz\nM 28.609375 72.90625 \nL 39.796875 72.90625 \nL 67.578125 0 \nL 57.328125 0 \nL 50.6875 18.703125 \nL 17.828125 18.703125 \nL 11.1875 0 \nL 0.78125 0 \nz\n\" id=\"DejaVuSans-65\"/>\n       <path d=\"M -0.296875 72.90625 \nL 61.375 72.90625 \nL 61.375 64.59375 \nL 35.5 64.59375 \nL 35.5 0 \nL 25.59375 0 \nL 25.59375 64.59375 \nL -0.296875 64.59375 \nz\n\" id=\"DejaVuSans-84\"/>\n       <path d=\"M 9.8125 72.90625 \nL 55.90625 72.90625 \nL 55.90625 64.59375 \nL 19.671875 64.59375 \nL 19.671875 43.015625 \nL 54.390625 43.015625 \nL 54.390625 34.71875 \nL 19.671875 34.71875 \nL 19.671875 8.296875 \nL 56.78125 8.296875 \nL 56.78125 0 \nL 9.8125 0 \nz\n\" id=\"DejaVuSans-69\"/>\n       <path d=\"M 59.515625 10.40625 \nL 59.515625 29.984375 \nL 43.40625 29.984375 \nL 43.40625 38.09375 \nL 69.28125 38.09375 \nL 69.28125 6.78125 \nQ 63.578125 2.734375 56.6875 0.65625 \nQ 49.8125 -1.421875 42 -1.421875 \nQ 24.90625 -1.421875 15.25 8.5625 \nQ 5.609375 18.5625 5.609375 36.375 \nQ 5.609375 54.25 15.25 64.234375 \nQ 24.90625 74.21875 42 74.21875 \nQ 49.125 74.21875 55.546875 72.453125 \nQ 61.96875 70.703125 67.390625 67.28125 \nL 67.390625 56.78125 \nQ 61.921875 61.421875 55.765625 63.765625 \nQ 49.609375 66.109375 42.828125 66.109375 \nQ 29.4375 66.109375 22.71875 58.640625 \nQ 16.015625 51.171875 16.015625 36.375 \nQ 16.015625 21.625 22.71875 14.15625 \nQ 29.4375 6.6875 42.828125 6.6875 \nQ 48.046875 6.6875 52.140625 7.59375 \nQ 56.25 8.5 59.515625 10.40625 \nz\n\" id=\"DejaVuSans-71\"/>\n       <path d=\"M 39.40625 66.21875 \nQ 28.65625 66.21875 22.328125 58.203125 \nQ 16.015625 50.203125 16.015625 36.375 \nQ 16.015625 22.609375 22.328125 14.59375 \nQ 28.65625 6.59375 39.40625 6.59375 \nQ 50.140625 6.59375 56.421875 14.59375 \nQ 62.703125 22.609375 62.703125 36.375 \nQ 62.703125 50.203125 56.421875 58.203125 \nQ 50.140625 66.21875 39.40625 66.21875 \nz\nM 39.40625 74.21875 \nQ 54.734375 74.21875 63.90625 63.9375 \nQ 73.09375 53.65625 73.09375 36.375 \nQ 73.09375 19.140625 63.90625 8.859375 \nQ 54.734375 -1.421875 39.40625 -1.421875 \nQ 24.03125 -1.421875 14.8125 8.828125 \nQ 5.609375 19.09375 5.609375 36.375 \nQ 5.609375 53.65625 14.8125 63.9375 \nQ 24.03125 74.21875 39.40625 74.21875 \nz\n\" id=\"DejaVuSans-79\"/>\n       <path d=\"M -0.203125 72.90625 \nL 10.40625 72.90625 \nL 30.609375 42.921875 \nL 50.6875 72.90625 \nL 61.28125 72.90625 \nL 35.5 34.71875 \nL 35.5 0 \nL 25.59375 0 \nL 25.59375 34.71875 \nz\n\" id=\"DejaVuSans-89\"/>\n      </defs>\n      <use xlink:href=\"#DejaVuSans-67\"/>\n      <use x=\"69.824219\" xlink:href=\"#DejaVuSans-65\"/>\n      <use x=\"130.482422\" xlink:href=\"#DejaVuSans-84\"/>\n      <use x=\"191.566406\" xlink:href=\"#DejaVuSans-69\"/>\n      <use x=\"254.75\" xlink:href=\"#DejaVuSans-71\"/>\n      <use x=\"332.240234\" xlink:href=\"#DejaVuSans-79\"/>\n      <use x=\"410.951172\" xlink:href=\"#DejaVuSans-82\"/>\n      <use x=\"474.058594\" xlink:href=\"#DejaVuSans-89\"/>\n     </g>\n    </g>\n   </g>\n   <g id=\"matplotlib.axis_2\">\n    <g id=\"ytick_1\">\n     <g id=\"line2d_4\">\n      <defs>\n       <path d=\"M 0 0 \nL -3.5 0 \n\" id=\"m280d06f347\" style=\"stroke:#000000;stroke-width:0.8;\"/>\n      </defs>\n      <g>\n       <use style=\"stroke:#000000;stroke-width:0.8;\" x=\"69.426563\" xlink:href=\"#m280d06f347\" y=\"224.64\"/>\n      </g>\n     </g>\n     <g id=\"text_5\">\n      <!-- 0.00K -->\n      <g transform=\"translate(33.603125 228.439219)scale(0.1 -0.1)\">\n       <defs>\n        <path d=\"M 31.78125 66.40625 \nQ 24.171875 66.40625 20.328125 58.90625 \nQ 16.5 51.421875 16.5 36.375 \nQ 16.5 21.390625 20.328125 13.890625 \nQ 24.171875 6.390625 31.78125 6.390625 \nQ 39.453125 6.390625 43.28125 13.890625 \nQ 47.125 21.390625 47.125 36.375 \nQ 47.125 51.421875 43.28125 58.90625 \nQ 39.453125 66.40625 31.78125 66.40625 \nz\nM 31.78125 74.21875 \nQ 44.046875 74.21875 50.515625 64.515625 \nQ 56.984375 54.828125 56.984375 36.375 \nQ 56.984375 17.96875 50.515625 8.265625 \nQ 44.046875 -1.421875 31.78125 -1.421875 \nQ 19.53125 -1.421875 13.0625 8.265625 \nQ 6.59375 17.96875 6.59375 36.375 \nQ 6.59375 54.828125 13.0625 64.515625 \nQ 19.53125 74.21875 31.78125 74.21875 \nz\n\" id=\"DejaVuSans-48\"/>\n        <path d=\"M 10.6875 12.40625 \nL 21 12.40625 \nL 21 0 \nL 10.6875 0 \nz\n\" id=\"DejaVuSans-46\"/>\n        <path d=\"M 9.8125 72.90625 \nL 19.671875 72.90625 \nL 19.671875 42.09375 \nL 52.390625 72.90625 \nL 65.09375 72.90625 \nL 28.90625 38.921875 \nL 67.671875 0 \nL 54.6875 0 \nL 19.671875 35.109375 \nL 19.671875 0 \nL 9.8125 0 \nz\n\" id=\"DejaVuSans-75\"/>\n       </defs>\n       <use xlink:href=\"#DejaVuSans-48\"/>\n       <use x=\"63.623047\" xlink:href=\"#DejaVuSans-46\"/>\n       <use x=\"95.410156\" xlink:href=\"#DejaVuSans-48\"/>\n       <use x=\"159.033203\" xlink:href=\"#DejaVuSans-48\"/>\n       <use x=\"222.65625\" xlink:href=\"#DejaVuSans-75\"/>\n      </g>\n     </g>\n    </g>\n    <g id=\"ytick_2\">\n     <g id=\"line2d_5\">\n      <g>\n       <use style=\"stroke:#000000;stroke-width:0.8;\" x=\"69.426563\" xlink:href=\"#m280d06f347\" y=\"187.363796\"/>\n      </g>\n     </g>\n     <g id=\"text_6\">\n      <!-- 50.00K -->\n      <g transform=\"translate(27.240625 191.163015)scale(0.1 -0.1)\">\n       <defs>\n        <path d=\"M 10.796875 72.90625 \nL 49.515625 72.90625 \nL 49.515625 64.59375 \nL 19.828125 64.59375 \nL 19.828125 46.734375 \nQ 21.96875 47.46875 24.109375 47.828125 \nQ 26.265625 48.1875 28.421875 48.1875 \nQ 40.625 48.1875 47.75 41.5 \nQ 54.890625 34.8125 54.890625 23.390625 \nQ 54.890625 11.625 47.5625 5.09375 \nQ 40.234375 -1.421875 26.90625 -1.421875 \nQ 22.3125 -1.421875 17.546875 -0.640625 \nQ 12.796875 0.140625 7.71875 1.703125 \nL 7.71875 11.625 \nQ 12.109375 9.234375 16.796875 8.0625 \nQ 21.484375 6.890625 26.703125 6.890625 \nQ 35.15625 6.890625 40.078125 11.328125 \nQ 45.015625 15.765625 45.015625 23.390625 \nQ 45.015625 31 40.078125 35.4375 \nQ 35.15625 39.890625 26.703125 39.890625 \nQ 22.75 39.890625 18.8125 39.015625 \nQ 14.890625 38.140625 10.796875 36.28125 \nz\n\" id=\"DejaVuSans-53\"/>\n       </defs>\n       <use xlink:href=\"#DejaVuSans-53\"/>\n       <use x=\"63.623047\" xlink:href=\"#DejaVuSans-48\"/>\n       <use x=\"127.246094\" xlink:href=\"#DejaVuSans-46\"/>\n       <use x=\"159.033203\" xlink:href=\"#DejaVuSans-48\"/>\n       <use x=\"222.65625\" xlink:href=\"#DejaVuSans-48\"/>\n       <use x=\"286.279297\" xlink:href=\"#DejaVuSans-75\"/>\n      </g>\n     </g>\n    </g>\n    <g id=\"ytick_3\">\n     <g id=\"line2d_6\">\n      <g>\n       <use style=\"stroke:#000000;stroke-width:0.8;\" x=\"69.426563\" xlink:href=\"#m280d06f347\" y=\"150.087592\"/>\n      </g>\n     </g>\n     <g id=\"text_7\">\n      <!-- 100.00K -->\n      <g transform=\"translate(20.878125 153.886811)scale(0.1 -0.1)\">\n       <defs>\n        <path d=\"M 12.40625 8.296875 \nL 28.515625 8.296875 \nL 28.515625 63.921875 \nL 10.984375 60.40625 \nL 10.984375 69.390625 \nL 28.421875 72.90625 \nL 38.28125 72.90625 \nL 38.28125 8.296875 \nL 54.390625 8.296875 \nL 54.390625 0 \nL 12.40625 0 \nz\n\" id=\"DejaVuSans-49\"/>\n       </defs>\n       <use xlink:href=\"#DejaVuSans-49\"/>\n       <use x=\"63.623047\" xlink:href=\"#DejaVuSans-48\"/>\n       <use x=\"127.246094\" xlink:href=\"#DejaVuSans-48\"/>\n       <use x=\"190.869141\" xlink:href=\"#DejaVuSans-46\"/>\n       <use x=\"222.65625\" xlink:href=\"#DejaVuSans-48\"/>\n       <use x=\"286.279297\" xlink:href=\"#DejaVuSans-48\"/>\n       <use x=\"349.902344\" xlink:href=\"#DejaVuSans-75\"/>\n      </g>\n     </g>\n    </g>\n    <g id=\"ytick_4\">\n     <g id=\"line2d_7\">\n      <g>\n       <use style=\"stroke:#000000;stroke-width:0.8;\" x=\"69.426563\" xlink:href=\"#m280d06f347\" y=\"112.811388\"/>\n      </g>\n     </g>\n     <g id=\"text_8\">\n      <!-- 150.00K -->\n      <g transform=\"translate(20.878125 116.610607)scale(0.1 -0.1)\">\n       <use xlink:href=\"#DejaVuSans-49\"/>\n       <use x=\"63.623047\" xlink:href=\"#DejaVuSans-53\"/>\n       <use x=\"127.246094\" xlink:href=\"#DejaVuSans-48\"/>\n       <use x=\"190.869141\" xlink:href=\"#DejaVuSans-46\"/>\n       <use x=\"222.65625\" xlink:href=\"#DejaVuSans-48\"/>\n       <use x=\"286.279297\" xlink:href=\"#DejaVuSans-48\"/>\n       <use x=\"349.902344\" xlink:href=\"#DejaVuSans-75\"/>\n      </g>\n     </g>\n    </g>\n    <g id=\"ytick_5\">\n     <g id=\"line2d_8\">\n      <g>\n       <use style=\"stroke:#000000;stroke-width:0.8;\" x=\"69.426563\" xlink:href=\"#m280d06f347\" y=\"75.535184\"/>\n      </g>\n     </g>\n     <g id=\"text_9\">\n      <!-- 200.00K -->\n      <g transform=\"translate(20.878125 79.334403)scale(0.1 -0.1)\">\n       <defs>\n        <path d=\"M 19.1875 8.296875 \nL 53.609375 8.296875 \nL 53.609375 0 \nL 7.328125 0 \nL 7.328125 8.296875 \nQ 12.9375 14.109375 22.625 23.890625 \nQ 32.328125 33.6875 34.8125 36.53125 \nQ 39.546875 41.84375 41.421875 45.53125 \nQ 43.3125 49.21875 43.3125 52.78125 \nQ 43.3125 58.59375 39.234375 62.25 \nQ 35.15625 65.921875 28.609375 65.921875 \nQ 23.96875 65.921875 18.8125 64.3125 \nQ 13.671875 62.703125 7.8125 59.421875 \nL 7.8125 69.390625 \nQ 13.765625 71.78125 18.9375 73 \nQ 24.125 74.21875 28.421875 74.21875 \nQ 39.75 74.21875 46.484375 68.546875 \nQ 53.21875 62.890625 53.21875 53.421875 \nQ 53.21875 48.921875 51.53125 44.890625 \nQ 49.859375 40.875 45.40625 35.40625 \nQ 44.1875 33.984375 37.640625 27.21875 \nQ 31.109375 20.453125 19.1875 8.296875 \nz\n\" id=\"DejaVuSans-50\"/>\n       </defs>\n       <use xlink:href=\"#DejaVuSans-50\"/>\n       <use x=\"63.623047\" xlink:href=\"#DejaVuSans-48\"/>\n       <use x=\"127.246094\" xlink:href=\"#DejaVuSans-48\"/>\n       <use x=\"190.869141\" xlink:href=\"#DejaVuSans-46\"/>\n       <use x=\"222.65625\" xlink:href=\"#DejaVuSans-48\"/>\n       <use x=\"286.279297\" xlink:href=\"#DejaVuSans-48\"/>\n       <use x=\"349.902344\" xlink:href=\"#DejaVuSans-75\"/>\n      </g>\n     </g>\n    </g>\n    <g id=\"ytick_6\">\n     <g id=\"line2d_9\">\n      <g>\n       <use style=\"stroke:#000000;stroke-width:0.8;\" x=\"69.426563\" xlink:href=\"#m280d06f347\" y=\"38.25898\"/>\n      </g>\n     </g>\n     <g id=\"text_10\">\n      <!-- 250.00K -->\n      <g transform=\"translate(20.878125 42.058199)scale(0.1 -0.1)\">\n       <use xlink:href=\"#DejaVuSans-50\"/>\n       <use x=\"63.623047\" xlink:href=\"#DejaVuSans-53\"/>\n       <use x=\"127.246094\" xlink:href=\"#DejaVuSans-48\"/>\n       <use x=\"190.869141\" xlink:href=\"#DejaVuSans-46\"/>\n       <use x=\"222.65625\" xlink:href=\"#DejaVuSans-48\"/>\n       <use x=\"286.279297\" xlink:href=\"#DejaVuSans-48\"/>\n       <use x=\"349.902344\" xlink:href=\"#DejaVuSans-75\"/>\n      </g>\n     </g>\n    </g>\n    <g id=\"text_11\">\n     <!-- Count -->\n     <g transform=\"translate(14.798437 130.768437)rotate(-90)scale(0.1 -0.1)\">\n      <use xlink:href=\"#DejaVuSans-67\"/>\n      <use x=\"69.824219\" xlink:href=\"#DejaVuSans-111\"/>\n      <use x=\"131.005859\" xlink:href=\"#DejaVuSans-117\"/>\n      <use x=\"194.384766\" xlink:href=\"#DejaVuSans-110\"/>\n      <use x=\"257.763672\" xlink:href=\"#DejaVuSans-116\"/>\n     </g>\n    </g>\n   </g>\n   <g id=\"patch_6\">\n    <path d=\"M 69.426563 224.64 \nL 69.426563 7.2 \n\" style=\"fill:none;stroke:#000000;stroke-linecap:square;stroke-linejoin:miter;stroke-width:0.8;\"/>\n   </g>\n   <g id=\"patch_7\">\n    <path d=\"M 404.226562 224.64 \nL 404.226562 7.2 \n\" style=\"fill:none;stroke:#000000;stroke-linecap:square;stroke-linejoin:miter;stroke-width:0.8;\"/>\n   </g>\n   <g id=\"patch_8\">\n    <path d=\"M 69.426563 224.64 \nL 404.226562 224.64 \n\" style=\"fill:none;stroke:#000000;stroke-linecap:square;stroke-linejoin:miter;stroke-width:0.8;\"/>\n   </g>\n   <g id=\"patch_9\">\n    <path d=\"M 69.426563 7.2 \nL 404.226562 7.2 \n\" style=\"fill:none;stroke:#000000;stroke-linecap:square;stroke-linejoin:miter;stroke-width:0.8;\"/>\n   </g>\n  </g>\n </g>\n <defs>\n  <clipPath id=\"pa4dbf4fe0a\">\n   <rect height=\"217.44\" width=\"334.8\" x=\"69.426563\" y=\"7.2\"/>\n  </clipPath>\n </defs>\n</svg>\n",
      "image/png": "[encoded data removed]"
     },
     "metadata": {
      "needs_background": "light"
     }
    }
   ],
   "source": [
    "g = sns.histplot(data=notes, x=\"CATEGORY\")\n",
    "ylabels = ['{:,.2f}'.format(x) + 'K' for x in g.get_yticks()/1000]\n",
    "g.set_yticklabels(ylabels)"
   ]
  },
  {
   "cell_type": "code",
   "execution_count": 15,
   "metadata": {},
   "outputs": [
    {
     "output_type": "execute_result",
     "data": {
      "text/plain": [
       "                Hours\n",
       "                count\n",
       "CATEGORY             \n",
       "Nursing        160092\n",
       "Nursing/other  277772\n",
       "Radiology      144810"
      ],
      "text/html": "<div>\n<style scoped>\n    .dataframe tbody tr th:only-of-type {\n        vertical-align: middle;\n    }\n\n    .dataframe tbody tr th {\n        vertical-align: top;\n    }\n\n    .dataframe thead tr th {\n        text-align: left;\n    }\n\n    .dataframe thead tr:last-of-type th {\n        text-align: right;\n    }\n</style>\n<table border=\"1\" class=\"dataframe\">\n  <thead>\n    <tr>\n      <th></th>\n      <th>Hours</th>\n    </tr>\n    <tr>\n      <th></th>\n      <th>count</th>\n    </tr>\n    <tr>\n      <th>CATEGORY</th>\n      <th></th>\n    </tr>\n  </thead>\n  <tbody>\n    <tr>\n      <th>Nursing</th>\n      <td>160092</td>\n    </tr>\n    <tr>\n      <th>Nursing/other</th>\n      <td>277772</td>\n    </tr>\n    <tr>\n      <th>Radiology</th>\n      <td>144810</td>\n    </tr>\n  </tbody>\n</table>\n</div>"
     },
     "metadata": {},
     "execution_count": 15
    }
   ],
   "source": [
    "notes[[\"Hours\", \"CATEGORY\"]].groupby(\"CATEGORY\").agg(['count'])"
   ]
  },
  {
   "cell_type": "code",
   "execution_count": 17,
   "metadata": {},
   "outputs": [
    {
     "output_type": "execute_result",
     "data": {
      "text/plain": [
       "38196"
      ]
     },
     "metadata": {},
     "execution_count": 17
    }
   ],
   "source": [
    "len(notes[\"filename\"].unique())"
   ]
  },
  {
   "cell_type": "code",
   "execution_count": 10,
   "metadata": {},
   "outputs": [],
   "source": [
    "# Load the pre-trained Bio_ClinicalBERT model\n",
    "from transformers import AutoTokenizer, AutoModel\n",
    "tokenizer = AutoTokenizer.from_pretrained(\"emilyalsentzer/Bio_ClinicalBERT\")\n",
    "model = AutoModel.from_pretrained(\"emilyalsentzer/Bio_ClinicalBERT\")\n"
   ]
  },
  {
   "cell_type": "code",
   "execution_count": 11,
   "metadata": {},
   "outputs": [],
   "source": [
    "# Don't bother trying to run the pipeline without a GPU\n",
    "import numpy as np\n",
    "from transformers import pipeline\n",
    "pipe = pipeline('feature-extraction', model=model, \n",
    "                tokenizer=tokenizer, device=DEVICE)"
   ]
  },
  {
   "cell_type": "code",
   "execution_count": 12,
   "metadata": {},
   "outputs": [
    {
     "output_type": "stream",
     "name": "stdout",
     "text": [
      "1.8.1+cu102\n0\n10020 cuda compiled version\n10.2\n"
     ]
    }
   ],
   "source": [
    "import torch \n",
    "print(torch.__version__)\n",
    "print(torch.cuda.current_device())\n",
    "print(torch._C._cuda_getCompiledVersion(), 'cuda compiled version')\n",
    "print(torch.version.cuda)"
   ]
  },
  {
   "cell_type": "code",
   "execution_count": 13,
   "metadata": {},
   "outputs": [
    {
     "output_type": "execute_result",
     "data": {
      "text/plain": [
       "array([[-0.03993205,  0.28045323, -0.22612181, ..., -0.36056092,\n",
       "         0.02098004, -0.07117239],\n",
       "       [ 0.26059031,  0.28010419, -0.19884732, ..., -0.41535112,\n",
       "         0.55648196, -0.36985236]])"
      ]
     },
     "metadata": {},
     "execution_count": 13
    }
   ],
   "source": [
    "features = pipe(['Respiratory CAre Pt received from ED intubated for airway protection.And then another sentenc',\n",
    "                  'Coughing and gagging with Sx, swallowing frequently with irritation of ETT.']  ,\n",
    "                pad_to_max_length=True)\n",
    "features = np.squeeze(features)\n",
    "features = features[:,0,:]\n",
    "features"
   ]
  },
  {
   "cell_type": "code",
   "execution_count": 14,
   "metadata": {},
   "outputs": [],
   "source": [
    "def shorten_text(sent, _max=100):\n",
    "    max = _max\n",
    "    tokens = sent.split()\n",
    "    if len(tokens) < max:\n",
    "        ret = sent\n",
    "    else:\n",
    "        tokens = tokens[:max]\n",
    "        ret =  \" \".join(tokens)\n",
    "        # print(f\"shorten to: {ret}\")\n",
    "\n",
    "    return ret\n",
    "\n",
    "\n",
    "def get_embeddings(text, pipe, max_sents=200, max_len=100):\n",
    "    sents = text.split('\\n')[:-1]\n",
    "    before_len = len(sents)\n",
    "    sents = [x for x in sents if len(x.split()) > 1]\n",
    "    sents = list(map(lambda x: shorten_text(x, max_len), sents))\n",
    "    sents = sents[:max_sents]\n",
    "    if len(sents) == 0:\n",
    "        return None\n",
    "    if len(sents) == 1:\n",
    "        sents.append(\"books are open\")\n",
    "\n",
    "    while True:\n",
    "        try:\n",
    "            sent_features = pipe(sents ,pad_to_max_length=True)\n",
    "        except BaseException as e:\n",
    "            print(\"\\nError in get_embeddings()\")\n",
    "            print('# of sentences: '+ str(len(sents)))\n",
    "            sent_len = [len(x) for x in sents]\n",
    "            print(sent_len)\n",
    "            sent_features = None\n",
    "            break\n",
    "        break\n",
    "\n",
    "    if sent_features is not None:\n",
    "        try:\n",
    "            sent_features = np.squeeze(sent_features)[:,0,:]\n",
    "        except BaseException as e:\n",
    "            print(f\"Error squeezing sent_features - {e} - {len(sent_features)}-{len(sent_features[0])}\")\n",
    "            print('# of sentences: '+ str(len(sents)))\n",
    "            sent_features = None\n",
    "    \n",
    "    return sent_features"
   ]
  },
  {
   "cell_type": "code",
   "execution_count": 15,
   "metadata": {
    "tags": []
   },
   "outputs": [
    {
     "output_type": "stream",
     "name": "stderr",
     "text": [
      "100%|██████████| 500/500 [01:11<00:00,  7.03it/s]\n"
     ]
    }
   ],
   "source": [
    "notes[\"bert_embeddings\"] = notes[\"TEXT\"].iloc[:20].progress_apply(get_embeddings, args=(pipe,40,40))\n"
   ]
  },
  {
   "cell_type": "code",
   "execution_count": 15,
   "metadata": {},
   "outputs": [
    {
     "output_type": "stream",
     "name": "stdout",
     "text": [
      "(11, 768)\n(11, 768)\n(11, 768)\n(7, 768)\n(40, 768)\n(17, 768)\n(5, 768)\n(40, 768)\n(40, 768)\n(39, 768)\n"
     ]
    }
   ],
   "source": [
    "for i in range(10):\n",
    "    print(notes[\"bert_embeddings\"].iloc[i].shape)"
   ]
  },
  {
   "cell_type": "code",
   "execution_count": 16,
   "metadata": {},
   "outputs": [
    {
     "output_type": "execute_result",
     "data": {
      "text/plain": [
       "              Hours CATEGORY            DESCRIPTION  \\\n",
       "count   1126.000000     1126                   1126   \n",
       "unique          NaN       10                     63   \n",
       "top             NaN  Nursing  Nursing Progress Note   \n",
       "freq            NaN      502                    391   \n",
       "mean      94.009515      NaN                    NaN   \n",
       "std      122.909907      NaN                    NaN   \n",
       "min        0.201111      NaN                    NaN   \n",
       "25%       15.973056      NaN                    NaN   \n",
       "50%       38.878333      NaN                    NaN   \n",
       "75%      110.511389      NaN                    NaN   \n",
       "max      545.461667      NaN                    NaN   \n",
       "\n",
       "                                                     TEXT  \\\n",
       "count                                                1126   \n",
       "unique                                               1046   \n",
       "top     68 yo F with extensive PMH: MI x 3; 70 % occlu...   \n",
       "freq                                                    7   \n",
       "mean                                                  NaN   \n",
       "std                                                   NaN   \n",
       "min                                                   NaN   \n",
       "25%                                                   NaN   \n",
       "50%                                                   NaN   \n",
       "75%                                                   NaN   \n",
       "max                                                   NaN   \n",
       "\n",
       "                                                 filename   PATIENT_ID  \\\n",
       "count                                                1126  1126.000000   \n",
       "unique                                                 41          NaN   \n",
       "top     /mnt/data01/mimic-3/benchmark-small/train/124/...          NaN   \n",
       "freq                                                  226          NaN   \n",
       "mean                                                  NaN   170.079041   \n",
       "std                                                   NaN    93.233613   \n",
       "min                                                   NaN    23.000000   \n",
       "25%                                                   NaN   109.000000   \n",
       "50%                                                   NaN   124.000000   \n",
       "75%                                                   NaN   199.000000   \n",
       "max                                                   NaN   357.000000   \n",
       "\n",
       "         EPISODE_ID                                    bert_embeddings  \n",
       "count   1126.000000                                               1087  \n",
       "unique          NaN                                               1087  \n",
       "top             NaN  [[-0.023288611322641373, 0.2220444232225418, -...  \n",
       "freq            NaN                                                  1  \n",
       "mean       8.966252                                                NaN  \n",
       "std        7.733145                                                NaN  \n",
       "min        1.000000                                                NaN  \n",
       "25%        3.000000                                                NaN  \n",
       "50%        4.000000                                                NaN  \n",
       "75%       15.000000                                                NaN  \n",
       "max       28.000000                                                NaN  "
      ],
      "text/html": "<div>\n<style scoped>\n    .dataframe tbody tr th:only-of-type {\n        vertical-align: middle;\n    }\n\n    .dataframe tbody tr th {\n        vertical-align: top;\n    }\n\n    .dataframe thead th {\n        text-align: right;\n    }\n</style>\n<table border=\"1\" class=\"dataframe\">\n  <thead>\n    <tr style=\"text-align: right;\">\n      <th></th>\n      <th>Hours</th>\n      <th>CATEGORY</th>\n      <th>DESCRIPTION</th>\n      <th>TEXT</th>\n      <th>filename</th>\n      <th>PATIENT_ID</th>\n      <th>EPISODE_ID</th>\n      <th>bert_embeddings</th>\n    </tr>\n  </thead>\n  <tbody>\n    <tr>\n      <th>count</th>\n      <td>1126.000000</td>\n      <td>1126</td>\n      <td>1126</td>\n      <td>1126</td>\n      <td>1126</td>\n      <td>1126.000000</td>\n      <td>1126.000000</td>\n      <td>1087</td>\n    </tr>\n    <tr>\n      <th>unique</th>\n      <td>NaN</td>\n      <td>10</td>\n      <td>63</td>\n      <td>1046</td>\n      <td>41</td>\n      <td>NaN</td>\n      <td>NaN</td>\n      <td>1087</td>\n    </tr>\n    <tr>\n      <th>top</th>\n      <td>NaN</td>\n      <td>Nursing</td>\n      <td>Nursing Progress Note</td>\n      <td>68 yo F with extensive PMH: MI x 3; 70 % occlu...</td>\n      <td>/mnt/data01/mimic-3/benchmark-small/train/124/...</td>\n      <td>NaN</td>\n      <td>NaN</td>\n      <td>[[-0.023288611322641373, 0.2220444232225418, -...</td>\n    </tr>\n    <tr>\n      <th>freq</th>\n      <td>NaN</td>\n      <td>502</td>\n      <td>391</td>\n      <td>7</td>\n      <td>226</td>\n      <td>NaN</td>\n      <td>NaN</td>\n      <td>1</td>\n    </tr>\n    <tr>\n      <th>mean</th>\n      <td>94.009515</td>\n      <td>NaN</td>\n      <td>NaN</td>\n      <td>NaN</td>\n      <td>NaN</td>\n      <td>170.079041</td>\n      <td>8.966252</td>\n      <td>NaN</td>\n    </tr>\n    <tr>\n      <th>std</th>\n      <td>122.909907</td>\n      <td>NaN</td>\n      <td>NaN</td>\n      <td>NaN</td>\n      <td>NaN</td>\n      <td>93.233613</td>\n      <td>7.733145</td>\n      <td>NaN</td>\n    </tr>\n    <tr>\n      <th>min</th>\n      <td>0.201111</td>\n      <td>NaN</td>\n      <td>NaN</td>\n      <td>NaN</td>\n      <td>NaN</td>\n      <td>23.000000</td>\n      <td>1.000000</td>\n      <td>NaN</td>\n    </tr>\n    <tr>\n      <th>25%</th>\n      <td>15.973056</td>\n      <td>NaN</td>\n      <td>NaN</td>\n      <td>NaN</td>\n      <td>NaN</td>\n      <td>109.000000</td>\n      <td>3.000000</td>\n      <td>NaN</td>\n    </tr>\n    <tr>\n      <th>50%</th>\n      <td>38.878333</td>\n      <td>NaN</td>\n      <td>NaN</td>\n      <td>NaN</td>\n      <td>NaN</td>\n      <td>124.000000</td>\n      <td>4.000000</td>\n      <td>NaN</td>\n    </tr>\n    <tr>\n      <th>75%</th>\n      <td>110.511389</td>\n      <td>NaN</td>\n      <td>NaN</td>\n      <td>NaN</td>\n      <td>NaN</td>\n      <td>199.000000</td>\n      <td>15.000000</td>\n      <td>NaN</td>\n    </tr>\n    <tr>\n      <th>max</th>\n      <td>545.461667</td>\n      <td>NaN</td>\n      <td>NaN</td>\n      <td>NaN</td>\n      <td>NaN</td>\n      <td>357.000000</td>\n      <td>28.000000</td>\n      <td>NaN</td>\n    </tr>\n  </tbody>\n</table>\n</div>"
     },
     "metadata": {},
     "execution_count": 16
    }
   ],
   "source": [
    "notes.describe(include=\"all\")"
   ]
  },
  {
   "cell_type": "code",
   "execution_count": 17,
   "metadata": {},
   "outputs": [
    {
     "output_type": "execute_result",
     "data": {
      "text/plain": [
       "      Hours   CATEGORY          DESCRIPTION  \\\n",
       "0  0.201111  Radiology  CHEST (PORTABLE AP)   \n",
       "\n",
       "                                                TEXT  \\\n",
       "0  [**2169-5-21**]\\n10:17 PM  CHEST (PORTABLE AP)...   \n",
       "\n",
       "                                            filename  PATIENT_ID  EPISODE_ID  \\\n",
       "0  /mnt/data01/mimic-3/benchmark-small/test/345/e...         345           1   \n",
       "\n",
       "                                     bert_embeddings  \n",
       "0  [[0.23861932754516602, 0.09987486153841019, 0....  "
      ],
      "text/html": "<div>\n<style scoped>\n    .dataframe tbody tr th:only-of-type {\n        vertical-align: middle;\n    }\n\n    .dataframe tbody tr th {\n        vertical-align: top;\n    }\n\n    .dataframe thead th {\n        text-align: right;\n    }\n</style>\n<table border=\"1\" class=\"dataframe\">\n  <thead>\n    <tr style=\"text-align: right;\">\n      <th></th>\n      <th>Hours</th>\n      <th>CATEGORY</th>\n      <th>DESCRIPTION</th>\n      <th>TEXT</th>\n      <th>filename</th>\n      <th>PATIENT_ID</th>\n      <th>EPISODE_ID</th>\n      <th>bert_embeddings</th>\n    </tr>\n  </thead>\n  <tbody>\n    <tr>\n      <th>0</th>\n      <td>0.201111</td>\n      <td>Radiology</td>\n      <td>CHEST (PORTABLE AP)</td>\n      <td>[**2169-5-21**]\\n10:17 PM  CHEST (PORTABLE AP)...</td>\n      <td>/mnt/data01/mimic-3/benchmark-small/test/345/e...</td>\n      <td>345</td>\n      <td>1</td>\n      <td>[[0.23861932754516602, 0.09987486153841019, 0....</td>\n    </tr>\n  </tbody>\n</table>\n</div>"
     },
     "metadata": {},
     "execution_count": 17
    }
   ],
   "source": [
    "notes.head(1)"
   ]
  },
  {
   "cell_type": "code",
   "execution_count": 19,
   "metadata": {},
   "outputs": [],
   "source": [
    "notes[\"bert_embeddings\"].apply(lambda x: x.tolist() if x is not None else [[]], inplace=True)"
   ]
  },
  {
   "cell_type": "code",
   "execution_count": 20,
   "metadata": {},
   "outputs": [
    {
     "output_type": "execute_result",
     "data": {
      "text/plain": [
       "list"
      ]
     },
     "metadata": {},
     "execution_count": 20
    }
   ],
   "source": [
    "type(notes[\"bert_embeddings_list\"].iloc[0])"
   ]
  },
  {
   "cell_type": "code",
   "execution_count": 21,
   "metadata": {},
   "outputs": [
    {
     "output_type": "stream",
     "name": "stderr",
     "text": [
      "Getting array sizes: 100%|██████████| 41/41 [00:00<00:00, 569.33it/s]19 notes use 4544 bytes of memory\n",
      "8 notes use 1640 bytes of memory\n",
      "226 notes use 56136 bytes of memory\n",
      "2 notes use 464 bytes of memory\n",
      "166 notes use 39304 bytes of memory\n",
      "2 notes use 328 bytes of memory\n",
      "1 notes use 152 bytes of memory\n",
      "2 notes use 376 bytes of memory\n",
      "39 notes use 9040 bytes of memory\n",
      "19 notes use 6168 bytes of memory\n",
      "4 notes use 728 bytes of memory\n",
      "46 notes use 12216 bytes of memory\n",
      "2 notes use 456 bytes of memory\n",
      "12 notes use 2832 bytes of memory\n",
      "30 notes use 6480 bytes of memory\n",
      "7 notes use 1704 bytes of memory\n",
      "31 notes use 6576 bytes of memory\n",
      "14 notes use 4312 bytes of memory\n",
      "22 notes use 5496 bytes of memory\n",
      "14 notes use 4008 bytes of memory\n",
      "29 notes use 9952 bytes of memory\n",
      "29 notes use 7968 bytes of memory\n",
      "49 notes use 11512 bytes of memory\n",
      "15 notes use 5032 bytes of memory\n",
      "26 notes use 7136 bytes of memory\n",
      "14 notes use 3792 bytes of memory\n",
      "18 notes use 5968 bytes of memory\n",
      "27 notes use 7104 bytes of memory\n",
      "2 notes use 240 bytes of memory\n",
      "3 notes use 824 bytes of memory\n",
      "59 notes use 19512 bytes of memory\n",
      "20 notes use 4760 bytes of memory\n",
      "11 notes use 2200 bytes of memory\n",
      "5 notes use 1168 bytes of memory\n",
      "25 notes use 8200 bytes of memory\n",
      "42 notes use 12984 bytes of memory\n",
      "10 notes use 2240 bytes of memory\n",
      "17 notes use 5256 bytes of memory\n",
      "29 notes use 7688 bytes of memory\n",
      "26 notes use 6600 bytes of memory\n",
      "4 notes use 760 bytes of memory\n",
      "\n"
     ]
    }
   ],
   "source": [
    "# df.memory_usage(index=False, deep=True)\n",
    "\n",
    "# filenames = list(notes[\"filename\"].unique().tolist())\n",
    "# for filename in tqdm(filenames, desc=\"Getting array sizes\"):\n",
    "#     df = notes[notes[\"filename\"] == filename][[\"Hours\", \"CATEGORY\", \"DESCRIPTION\", \"bert_embeddings\", \"bert_embeddings_list\"]]\n",
    "#     size = 0\n",
    "#     note_num = 0\n",
    "#     for i in range(len(df)):\n",
    "#         array = df[\"bert_embeddings_list\"].iloc[i]\n",
    "#         size += sys.getsizeof(array)\n",
    "#         note_num += 1\n",
    "\n",
    "#     print(f\"{note_num} notes use {size} bytes of memory\")"
   ]
  },
  {
   "cell_type": "code",
   "execution_count": 22,
   "metadata": {},
   "outputs": [
    {
     "output_type": "stream",
     "name": "stderr",
     "text": [
      "Writing embedding files: 100%|██████████| 41/41 [00:02<00:00, 19.08it/s]\n"
     ]
    }
   ],
   "source": [
    "# Write out a new notes file with the embeddings\n",
    "# aflanders: This is going to take too long and take up too much space\n",
    "# The embeddings will be longer than the notes themselves. Each patient/episode\n",
    "# can go from 500Kb to 18Mb\n",
    "\n",
    "# np.set_printoptions(threshold=sys.maxsize)\n",
    "\n",
    "filenames = list(notes[\"filename\"].unique().tolist())\n",
    "for filename in tqdm(filenames, desc=\"Writing embedding files\"):\n",
    "    df = notes[notes[\"filename\"] == filename][[\"Hours\", \"CATEGORY\", \"DESCRIPTION\", \"bert_embeddings_list\"]]\n",
    "    df = df.set_index(\"Hours\")\n",
    "    write_file = filename.replace(\"_notes_sent.csv\", \"_notes_bert.parquet\")\n",
    "    df.to_parquet(write_file)\n",
    "    # with open(write_file, \"w\") as f:\n",
    "        # df.to_parquet(f)"
   ]
  },
  {
   "cell_type": "code",
   "execution_count": 23,
   "metadata": {},
   "outputs": [
    {
     "output_type": "stream",
     "name": "stdout",
     "text": [
      "/mnt/data01/mimic-3/benchmark-small/train/236/episode3_notes_bert.parquet\n"
     ]
    },
    {
     "output_type": "execute_result",
     "data": {
      "text/plain": [
       "            CATEGORY            DESCRIPTION  \\\n",
       "Hours                                         \n",
       "1.911111   Radiology    CHEST (PORTABLE AP)   \n",
       "12.394444  Radiology    CHEST (PORTABLE AP)   \n",
       "15.127778  Radiology  BILAT LOWER EXT VEINS   \n",
       "36.261111  Radiology    CHEST (PORTABLE AP)   \n",
       "\n",
       "                                        bert_embeddings_list  \n",
       "Hours                                                         \n",
       "1.911111   [[0.2817820608615875, 0.08223862946033478, 0.0...  \n",
       "12.394444  [[0.23562118411064148, 0.04398752748966217, 0....  \n",
       "15.127778  [[0.8676698207855225, 0.1013529971241951, -0.2...  \n",
       "36.261111  [[0.313865065574646, 0.09958796948194504, 0.01...  "
      ],
      "text/html": "<div>\n<style scoped>\n    .dataframe tbody tr th:only-of-type {\n        vertical-align: middle;\n    }\n\n    .dataframe tbody tr th {\n        vertical-align: top;\n    }\n\n    .dataframe thead th {\n        text-align: right;\n    }\n</style>\n<table border=\"1\" class=\"dataframe\">\n  <thead>\n    <tr style=\"text-align: right;\">\n      <th></th>\n      <th>CATEGORY</th>\n      <th>DESCRIPTION</th>\n      <th>bert_embeddings_list</th>\n    </tr>\n    <tr>\n      <th>Hours</th>\n      <th></th>\n      <th></th>\n      <th></th>\n    </tr>\n  </thead>\n  <tbody>\n    <tr>\n      <th>1.911111</th>\n      <td>Radiology</td>\n      <td>CHEST (PORTABLE AP)</td>\n      <td>[[0.2817820608615875, 0.08223862946033478, 0.0...</td>\n    </tr>\n    <tr>\n      <th>12.394444</th>\n      <td>Radiology</td>\n      <td>CHEST (PORTABLE AP)</td>\n      <td>[[0.23562118411064148, 0.04398752748966217, 0....</td>\n    </tr>\n    <tr>\n      <th>15.127778</th>\n      <td>Radiology</td>\n      <td>BILAT LOWER EXT VEINS</td>\n      <td>[[0.8676698207855225, 0.1013529971241951, -0.2...</td>\n    </tr>\n    <tr>\n      <th>36.261111</th>\n      <td>Radiology</td>\n      <td>CHEST (PORTABLE AP)</td>\n      <td>[[0.313865065574646, 0.09958796948194504, 0.01...</td>\n    </tr>\n  </tbody>\n</table>\n</div>"
     },
     "metadata": {},
     "execution_count": 23
    }
   ],
   "source": [
    "df = pd.read_parquet(write_file)\n",
    "print(write_file)\n",
    "df.head()"
   ]
  },
  {
   "cell_type": "code",
   "execution_count": 6,
   "metadata": {},
   "outputs": [
    {
     "output_type": "stream",
     "name": "stdout",
     "text": [
      "/mnt/data01/mimic-3/benchmark-notes/test/18837/episode1_notes_bert.parquet\n                CATEGORY DESCRIPTION  \\\nHours                                  \n4.333611   Nursing/other      Report   \n4.333611   Nursing/other      Report   \n13.450278  Nursing/other      Report   \n16.800278  Nursing/other      Report   \n29.583611  Nursing/other      Report   \n37.050278  Nursing/other      Report   \n52.150278  Nursing/other      Report   \n\n                                              TEXT_EMBEDDING  \nHours                                                         \n4.333611   [[0.4113909602165222, -0.0024229122791439295, ...  \n4.333611   [[0.4113907516002655, -0.0024226978421211243, ...  \n13.450278  [[0.389478474855423, 0.3938528895378113, -0.33...  \n16.800278  [[0.13043050467967987, 0.25680139660835266, -0...  \n29.583611  [[0.28871020674705505, 0.03684448078274727, -0...  \n37.050278  [[0.3756024241447449, 0.11487705260515213, -0....  \n52.150278  [[0.5176007747650146, 0.09944368153810501, -0....  \n             CATEGORY DESCRIPTION  \\\ncount               7           7   \nunique              1           1   \ntop     Nursing/other      Report   \nfreq                7           7   \n\n                                           TEXT_EMBEDDING  \ncount                                                   7  \nunique                                                  7  \ntop     [[0.3756024241447449, 0.11487705260515213, -0....  \nfreq                                                    1  \n"
     ]
    }
   ],
   "source": [
    "import pandas as pd\n",
    "filename = \"/mnt/data01/mimic-3/benchmark-notes/test/18837/episode1_notes_bert.parquet\"\n",
    "df = pd.read_parquet(filename)\n",
    "print(filename)\n",
    "print(df.head(20))\n",
    "print(df.describe(include=\"all\"))"
   ]
  },
  {
   "cell_type": "code",
   "execution_count": 8,
   "metadata": {},
   "outputs": [
    {
     "output_type": "execute_result",
     "data": {
      "text/plain": [
       "1739"
      ]
     },
     "metadata": {},
     "execution_count": 8
    }
   ],
   "source": [
    "from sys import getsizeof\n",
    "getsizeof(df)\n",
    "getsizeof"
   ]
  },
  {
   "cell_type": "code",
   "execution_count": 26,
   "metadata": {},
   "outputs": [
    {
     "output_type": "stream",
     "name": "stderr",
     "text": [
      "Load note files: 100%|██████████| 950/950 [00:00<00:00, 249598.40it/s]\n",
      "Total note files: 950\n",
      "Total notes: 950\n",
      "\n"
     ]
    },
    {
     "output_type": "execute_result",
     "data": {
      "text/plain": [
       "                                                        0             1\n",
       "count                                                 950  9.500000e+02\n",
       "unique                                                950           NaN\n",
       "top     /mnt/data01/mimic-3/benchmark-notes/test/20181...           NaN\n",
       "freq                                                    1           NaN\n",
       "mean                                                  NaN  1.434428e+06\n",
       "std                                                   NaN  2.022282e+06\n",
       "min                                                   NaN  1.534300e+04\n",
       "25%                                                   NaN  4.392540e+05\n",
       "50%                                                   NaN  8.442175e+05\n",
       "75%                                                   NaN  1.588990e+06\n",
       "max                                                   NaN  2.921244e+07"
      ],
      "text/html": "<div>\n<style scoped>\n    .dataframe tbody tr th:only-of-type {\n        vertical-align: middle;\n    }\n\n    .dataframe tbody tr th {\n        vertical-align: top;\n    }\n\n    .dataframe thead th {\n        text-align: right;\n    }\n</style>\n<table border=\"1\" class=\"dataframe\">\n  <thead>\n    <tr style=\"text-align: right;\">\n      <th></th>\n      <th>0</th>\n      <th>1</th>\n    </tr>\n  </thead>\n  <tbody>\n    <tr>\n      <th>count</th>\n      <td>950</td>\n      <td>9.500000e+02</td>\n    </tr>\n    <tr>\n      <th>unique</th>\n      <td>950</td>\n      <td>NaN</td>\n    </tr>\n    <tr>\n      <th>top</th>\n      <td>/mnt/data01/mimic-3/benchmark-notes/test/20181...</td>\n      <td>NaN</td>\n    </tr>\n    <tr>\n      <th>freq</th>\n      <td>1</td>\n      <td>NaN</td>\n    </tr>\n    <tr>\n      <th>mean</th>\n      <td>NaN</td>\n      <td>1.434428e+06</td>\n    </tr>\n    <tr>\n      <th>std</th>\n      <td>NaN</td>\n      <td>2.022282e+06</td>\n    </tr>\n    <tr>\n      <th>min</th>\n      <td>NaN</td>\n      <td>1.534300e+04</td>\n    </tr>\n    <tr>\n      <th>25%</th>\n      <td>NaN</td>\n      <td>4.392540e+05</td>\n    </tr>\n    <tr>\n      <th>50%</th>\n      <td>NaN</td>\n      <td>8.442175e+05</td>\n    </tr>\n    <tr>\n      <th>75%</th>\n      <td>NaN</td>\n      <td>1.588990e+06</td>\n    </tr>\n    <tr>\n      <th>max</th>\n      <td>NaN</td>\n      <td>2.921244e+07</td>\n    </tr>\n  </tbody>\n</table>\n</div>"
     },
     "metadata": {},
     "execution_count": 26
    }
   ],
   "source": [
    "all_files = []\n",
    "\n",
    "for path in MIMIC_NOTES_PATHS:\n",
    "    files = glob.glob(path + \"/*/*_notes_bert.parquet\")\n",
    "    all_files += files\n",
    "\n",
    "print(f\"\\nTotal note files: {len(all_files)}\")\n",
    "\n",
    "li = []\n",
    "\n",
    "for filename in tqdm(all_files, desc=\"Load note files\"):\n",
    "    li.append((filename, os.path.getsize(filename)))\n",
    "\n",
    "file_sizes = pd.DataFrame(li)\n",
    "file_sizes.describe(include=\"all\")\n",
    "\n",
    "print(f\"Total notes: {len(file_sizes)}\")\n",
    "\n",
    "file_sizes.describe(include=\"all\")"
   ]
  },
  {
   "cell_type": "code",
   "execution_count": null,
   "metadata": {},
   "outputs": [],
   "source": []
  }
 ]
}