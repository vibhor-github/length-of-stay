{
 "metadata": {
  "language_info": {
   "codemirror_mode": {
    "name": "ipython",
    "version": 3
   },
   "file_extension": ".py",
   "mimetype": "text/x-python",
   "name": "python",
   "nbconvert_exporter": "python",
   "pygments_lexer": "ipython3",
   "version": "3.6.8"
  },
  "orig_nbformat": 2,
  "kernelspec": {
   "name": "python368jvsc74a57bd060aa7568c9db8113868ebef0220b161e96389b06f6ba9eb98d46b6b0f2cf6a72",
   "display_name": "Python 3.6.8 64-bit ('benchmark': conda)"
  }
 },
 "nbformat": 4,
 "nbformat_minor": 2,
 "cells": [
  {
   "cell_type": "code",
   "execution_count": 1,
   "metadata": {},
   "outputs": [],
   "source": [
    "import sys\n",
    "sys.path.append(\"../\") # go to parent dir"
   ]
  },
  {
   "cell_type": "code",
   "execution_count": 2,
   "metadata": {},
   "outputs": [],
   "source": [
    "import pandas as pd\n",
    "import sys\n",
    "import spacy\n",
    "import re\n",
    "import time\n",
    "import scispacy\n",
    "import glob\n",
    "import os\n",
    "from tqdm import tqdm\n",
    "tqdm.pandas()\n",
    "from note_processing.heuristic_tokenize import sent_tokenize_rules "
   ]
  },
  {
   "cell_type": "code",
   "execution_count": 3,
   "metadata": {},
   "outputs": [
    {
     "output_type": "stream",
     "name": "stdout",
     "text": [
      "/mnt/data01/mimic-3/benchmark-small/test/345/episode1_notes_bert.parquet\n",
      "                CATEGORY                 DESCRIPTION  \\\n",
      "Hours                                                  \n",
      "0.201111       Radiology         CHEST (PORTABLE AP)   \n",
      "1.034444       Radiology  CHEST PORT. LINE PLACEMENT   \n",
      "1.967778       Radiology  CHEST PORT. LINE PLACEMENT   \n",
      "7.351111   Nursing/other                      Report   \n",
      "7.584444   Nursing/other                      Report   \n",
      "19.801111      Radiology  CHEST PORT. LINE PLACEMENT   \n",
      "20.067778  Nursing/other                      Report   \n",
      "22.301111  Nursing/other                      Report   \n",
      "23.434444      Radiology    MR HEAD W & W/O CONTRAST   \n",
      "28.867778  Nursing/other                      Report   \n",
      "39.117778      Radiology         CHEST (PORTABLE AP)   \n",
      "41.634444      Radiology         CHEST (PORTABLE AP)   \n",
      "43.567778  Nursing/other                      Report   \n",
      "44.634444  Nursing/other                      Report   \n",
      "53.917778      Radiology         CHEST (PORTABLE AP)   \n",
      "54.817778  Nursing/other                      Report   \n",
      "54.851111  Nursing/other                      Report   \n",
      "68.067778  Nursing/other                      Report   \n",
      "78.467778  Nursing/other                      Report   \n",
      "\n",
      "                                              TEXT_EMBEDDING  \n",
      "Hours                                                         \n",
      "0.201111   [[0.23861917853355408, 0.09987492114305496, 0....  \n",
      "1.034444   [[0.4503781795501709, -0.14556898176670074, 0....  \n",
      "1.967778   [[0.34850579500198364, 0.1621844470500946, 0.0...  \n",
      "7.351111   [[-0.23393544554710388, -0.19446523487567902, ...  \n",
      "7.584444   [[0.3675333559513092, 0.4477865397930145, -0.4...  \n",
      "19.801111  [[0.4011263847351074, 0.18862344324588776, 0.0...  \n",
      "20.067778  [[0.42749619483947754, 0.24509352445602417, 0....  \n",
      "22.301111  [[0.06951910257339478, 0.14596053957939148, -0...  \n",
      "23.434444  [[0.3529345989227295, 0.04412117227911949, 0.0...  \n",
      "28.867778  [[-0.11751449853181839, 0.43523266911506653, -...  \n",
      "39.117778  [[0.33306488394737244, 0.2921313941478729, -0....  \n",
      "41.634444  [[0.2699745297431946, 0.13968013226985931, 0.0...  \n",
      "43.567778  [[0.4120654761791229, 0.2978519797325134, -0.0...  \n",
      "44.634444  [[0.06951872259378433, 0.14596131443977356, -0...  \n",
      "53.917778  [[0.17400147020816803, 0.10819029808044434, -0...  \n",
      "54.817778  [[-0.1956733614206314, 0.29656222462654114, -0...  \n",
      "54.851111  [[-0.15588125586509705, -0.08971834927797318, ...  \n",
      "68.067778  [[0.5436817407608032, 0.29682818055152893, -0....  \n",
      "78.467778  [[-0.19567354023456573, 0.296561598777771, -0....  \n",
      "             CATEGORY DESCRIPTION  \\\n",
      "count              19          19   \n",
      "unique              2           4   \n",
      "top     Nursing/other      Report   \n",
      "freq               11          11   \n",
      "\n",
      "                                           TEXT_EMBEDDING  \n",
      "count                                                  19  \n",
      "unique                                                 19  \n",
      "top     [[0.06951910257339478, 0.14596053957939148, -0...  \n",
      "freq                                                    1  \n"
     ]
    }
   ],
   "source": [
    "import pandas as pd\n",
    "# filename = \"/mnt/data01/mimic-3/benchmark-small/test/345/episode1_notes_BioSentVec.parquet\"\n",
    "filename = \"/mnt/data01/mimic-3/benchmark-small/test/345/episode1_notes_bert.parquet\"\n",
    "df = pd.read_parquet(filename)\n",
    "print(filename)\n",
    "print(df.head(20))\n",
    "print(df.describe(include=\"all\"))"
   ]
  },
  {
   "cell_type": "code",
   "execution_count": 8,
   "metadata": {},
   "outputs": [
    {
     "output_type": "execute_result",
     "data": {
      "text/plain": [
       "1739"
      ]
     },
     "metadata": {},
     "execution_count": 8
    }
   ],
   "source": [
    "from sys import getsizeof\n",
    "getsizeof(df)\n",
    "getsizeof"
   ]
  },
  {
   "cell_type": "code",
   "execution_count": 26,
   "metadata": {},
   "outputs": [
    {
     "output_type": "stream",
     "name": "stderr",
     "text": [
      "Load note files: 100%|██████████| 950/950 [00:00<00:00, 249598.40it/s]\n",
      "Total note files: 950\n",
      "Total notes: 950\n",
      "\n"
     ]
    },
    {
     "output_type": "execute_result",
     "data": {
      "text/plain": [
       "                                                        0             1\n",
       "count                                                 950  9.500000e+02\n",
       "unique                                                950           NaN\n",
       "top     /mnt/data01/mimic-3/benchmark-notes/test/20181...           NaN\n",
       "freq                                                    1           NaN\n",
       "mean                                                  NaN  1.434428e+06\n",
       "std                                                   NaN  2.022282e+06\n",
       "min                                                   NaN  1.534300e+04\n",
       "25%                                                   NaN  4.392540e+05\n",
       "50%                                                   NaN  8.442175e+05\n",
       "75%                                                   NaN  1.588990e+06\n",
       "max                                                   NaN  2.921244e+07"
      ],
      "text/html": "<div>\n<style scoped>\n    .dataframe tbody tr th:only-of-type {\n        vertical-align: middle;\n    }\n\n    .dataframe tbody tr th {\n        vertical-align: top;\n    }\n\n    .dataframe thead th {\n        text-align: right;\n    }\n</style>\n<table border=\"1\" class=\"dataframe\">\n  <thead>\n    <tr style=\"text-align: right;\">\n      <th></th>\n      <th>0</th>\n      <th>1</th>\n    </tr>\n  </thead>\n  <tbody>\n    <tr>\n      <th>count</th>\n      <td>950</td>\n      <td>9.500000e+02</td>\n    </tr>\n    <tr>\n      <th>unique</th>\n      <td>950</td>\n      <td>NaN</td>\n    </tr>\n    <tr>\n      <th>top</th>\n      <td>/mnt/data01/mimic-3/benchmark-notes/test/20181...</td>\n      <td>NaN</td>\n    </tr>\n    <tr>\n      <th>freq</th>\n      <td>1</td>\n      <td>NaN</td>\n    </tr>\n    <tr>\n      <th>mean</th>\n      <td>NaN</td>\n      <td>1.434428e+06</td>\n    </tr>\n    <tr>\n      <th>std</th>\n      <td>NaN</td>\n      <td>2.022282e+06</td>\n    </tr>\n    <tr>\n      <th>min</th>\n      <td>NaN</td>\n      <td>1.534300e+04</td>\n    </tr>\n    <tr>\n      <th>25%</th>\n      <td>NaN</td>\n      <td>4.392540e+05</td>\n    </tr>\n    <tr>\n      <th>50%</th>\n      <td>NaN</td>\n      <td>8.442175e+05</td>\n    </tr>\n    <tr>\n      <th>75%</th>\n      <td>NaN</td>\n      <td>1.588990e+06</td>\n    </tr>\n    <tr>\n      <th>max</th>\n      <td>NaN</td>\n      <td>2.921244e+07</td>\n    </tr>\n  </tbody>\n</table>\n</div>"
     },
     "metadata": {},
     "execution_count": 26
    }
   ],
   "source": [
    "all_files = []\n",
    "\n",
    "for path in MIMIC_NOTES_PATHS:\n",
    "    files = glob.glob(path + \"/*/*_notes_BioSentVec.parquet\")\n",
    "    all_files += files\n",
    "\n",
    "print(f\"\\nTotal note files: {len(all_files)}\")\n",
    "\n",
    "li = []\n",
    "\n",
    "for filename in tqdm(all_files, desc=\"Load note files\"):\n",
    "    li.append((filename, os.path.getsize(filename)))\n",
    "\n",
    "file_sizes = pd.DataFrame(li)\n",
    "file_sizes.describe(include=\"all\")\n",
    "\n",
    "print(f\"Total notes: {len(file_sizes)}\")\n",
    "\n",
    "file_sizes.describe(include=\"all\")"
   ]
  },
  {
   "cell_type": "code",
   "execution_count": null,
   "metadata": {},
   "outputs": [],
   "source": []
  }
 ]
}